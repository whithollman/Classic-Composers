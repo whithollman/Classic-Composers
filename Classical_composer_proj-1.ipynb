{
 "cells": [
  {
   "cell_type": "markdown",
   "metadata": {},
   "source": [
    "Analysis of Classical Composers and the historical context of their largest compositions..."
   ]
  },
  {
   "cell_type": "markdown",
   "metadata": {},
   "source": [
    "DATA CLEAN: Classical Composers from Kaggle"
   ]
  },
  {
   "cell_type": "code",
   "execution_count": null,
   "metadata": {},
   "outputs": [],
   "source": [
    "\n",
    "import pandas as pd\n",
    "df_composers = pd.read_csv('/Users/whitneyhollman/Desktop/classical_composers.csv', encoding='ISO-8859-1')\n",
    "\n",
    "df_composers.head()"
   ]
  },
  {
   "cell_type": "code",
   "execution_count": null,
   "metadata": {},
   "outputs": [],
   "source": [
    "df_composers = df_composers.drop(df_composers.index[0])\n",
    "df_composers.head()\n"
   ]
  },
  {
   "cell_type": "code",
   "execution_count": null,
   "metadata": {},
   "outputs": [],
   "source": [
    "df_composers = df_composers.drop(100)\n",
    "df_composers\n"
   ]
  },
  {
   "cell_type": "markdown",
   "metadata": {},
   "source": [
    "EXPLORATORY DATA ANALYSIS (EDA)"
   ]
  },
  {
   "cell_type": "code",
   "execution_count": null,
   "metadata": {},
   "outputs": [],
   "source": [
    "average_duration = df_composers['Duration of Biggest Piece(mins)'].mean()\n",
    "average_duration\n"
   ]
  },
  {
   "cell_type": "code",
   "execution_count": null,
   "metadata": {},
   "outputs": [],
   "source": [
    "# Fill the NaN values with the average duration \n",
    "\n",
    "df_composers.fillna({'Duration of Biggest Piece(mins)': 38.4}, inplace=True)\n",
    "\n",
    "df_composers"
   ]
  },
  {
   "cell_type": "code",
   "execution_count": null,
   "metadata": {},
   "outputs": [],
   "source": [
    "# First we will sort by composer and the duration of their biggest piece\n",
    "\n",
    "df_composers.sort_values(by=['Composer', 'Duration of Biggest Piece(mins)'], ascending=[True, False])\n"
   ]
  },
  {
   "cell_type": "code",
   "execution_count": null,
   "metadata": {},
   "outputs": [],
   "source": [
    "# Group composer by duration\n",
    "\n",
    "group = df_composers['Composer'].groupby(df_composers['Duration of Biggest Piece(mins)'])\n",
    "\n",
    "group.head()\n"
   ]
  },
  {
   "cell_type": "code",
   "execution_count": null,
   "metadata": {},
   "outputs": [],
   "source": [
    "# What is the average duration of the biggest piece for composers who died in the same year?\n",
    "grouped = df_composers['Died'].groupby(df_composers['Duration of Biggest Piece(mins)'])\n",
    "grouped.mean()\n"
   ]
  },
  {
   "cell_type": "code",
   "execution_count": null,
   "metadata": {},
   "outputs": [],
   "source": [
    "# Removed Composer Guillaume Dufay because his Nationality was one of two places and it was not clear which one was correct\n",
    "df_composers = df_composers[df_composers['Composer'] != 'Guillaume Dufay']\n",
    "df_composers\n"
   ]
  },
  {
   "cell_type": "markdown",
   "metadata": {},
   "source": [
    "New dataframe which includes the Composers age at their death."
   ]
  },
  {
   "cell_type": "code",
   "execution_count": null,
   "metadata": {},
   "outputs": [],
   "source": [
    "print(df_composers.columns)\n",
    "\n",
    "subset = df_composers[df_composers['Died'] - df_composers[' Born']>15].copy()\n",
    "\n",
    "subset['AgeAtDeath'] = subset['Died' ]- subset[' Born']\n",
    "subset"
   ]
  },
  {
   "cell_type": "code",
   "execution_count": null,
   "metadata": {},
   "outputs": [],
   "source": [
    "subset_sorted = subset.sort_values(by='AgeAtDeath', ascending=True)\n",
    "subset_sorted\n"
   ]
  },
  {
   "cell_type": "code",
   "execution_count": null,
   "metadata": {},
   "outputs": [],
   "source": [
    "subset_sorted.columns = subset_sorted.columns.str.strip()\n",
    "subset_sorted['AgeAtDeath'] = subset_sorted['Died' ]- subset_sorted['Born']"
   ]
  },
  {
   "cell_type": "code",
   "execution_count": null,
   "metadata": {},
   "outputs": [],
   "source": [
    "from tabulate import tabulate\n",
    "\n",
    "average_age_at_death = subset_sorted.groupby('Nationality')['AgeAtDeath'].mean()\n",
    "average_age_at_death\n",
    "\n",
    "average_age_at_death_nationality_df = average_age_at_death.reset_index()\n",
    "\n",
    "sorted_df = average_age_at_death_nationality_df.sort_values(by='AgeAtDeath', ascending=True)\n",
    "print(tabulate(sorted_df, headers='keys', tablefmt='rst'))\n",
    "\n"
   ]
  },
  {
   "cell_type": "code",
   "execution_count": null,
   "metadata": {},
   "outputs": [],
   "source": [
    "# Data visualization for age at death by nationality\n",
    "\n",
    "import seaborn as sns\n",
    "import matplotlib.pyplot as plt\n",
    "sns.set_theme(style=\"whitegrid\")\n",
    "\n",
    "sns.catplot(\n",
    "    data = sorted_df, \n",
    "    x = 'AgeAtDeath', y='Nationality',\n",
    "    hue='AgeAtDeath',\n",
    "    kind=\"swarm\"\n",
    ")\n",
    "\n"
   ]
  },
  {
   "cell_type": "code",
   "execution_count": null,
   "metadata": {},
   "outputs": [],
   "source": [
    "# subset_sorted by nationality\n",
    "for name, group in subset_sorted.groupby('Nationality'):\n",
    "    print(f\"Nationality : {name}\")\n",
    "    print(group[['Composer', 'AgeAtDeath']], \"\\n\")"
   ]
  },
  {
   "cell_type": "code",
   "execution_count": null,
   "metadata": {},
   "outputs": [],
   "source": [
    "# Nationality of compower and time of death in ascending order\n",
    "ncd_df = subset_sorted[['Nationality', 'Composer', 'AgeAtDeath']]\n",
    "\n",
    "ncd_df_ = ncd_df.groupby('Nationality')\n",
    "print(tabulate(ncd_df, headers=\"keys\", tablefmt=\"rst\"))\n"
   ]
  },
  {
   "cell_type": "markdown",
   "metadata": {},
   "source": [
    "The youngest composer to die was Ludig Beethoven at the age of 21. The oldest Composer was Jean Sibelius at the age of 92. "
   ]
  },
  {
   "cell_type": "code",
   "execution_count": 26,
   "metadata": {},
   "outputs": [
    {
     "name": "stdout",
     "output_type": "stream",
     "text": [
      "====  ==============  ============\n",
      "  ..  Nationality       AgeAtDeath\n",
      "====  ==============  ============\n",
      "   1  German                    21\n",
      "  81  Italian                   26\n",
      "   7  Austrian                  31\n",
      "  73  Italian                   34\n",
      "   2  Austrian                  35\n",
      "  33  English                   36\n",
      "  58  French                    37\n",
      "  13  German                    38\n",
      "  63  American                  39\n",
      "  12  Polish                    39\n",
      "  40  German                    40\n",
      "  91  English                   42\n",
      "  31  Russian                   42\n",
      "  57  Russian                   43\n",
      "  87  Austrian                  43\n",
      "  42  Italian                   45\n",
      "  11  German                    46\n",
      "  71  Austrian                  50\n",
      "  64  Italian                   51\n",
      "  18  Austrian                  51\n",
      "  98  Russian                   53\n",
      "   8  Russian                   53\n",
      "  72  Russian                   54\n",
      "  14  French                    56\n",
      "  85  Italian                   57\n",
      "  77  Italian                   58\n",
      "  53  French                    59\n",
      "  55  Czech                     60\n",
      "  66  Italian                   60\n",
      "  83  English                   60\n",
      "  62  Franco-Flemish            62\n",
      "  94  Spanish                   62\n",
      "  29  French                    62\n",
      "  21  Russian                   62\n",
      "  61  Austrian                  62\n",
      "  82  English                   63\n",
      "  16  Czech                     63\n",
      "  54  English                   63\n",
      "  19  Italian                   63\n",
      "  23  Hungarian                 64\n",
      "  39  Russian                   64\n",
      "   6  German                    64\n",
      "  76  French                    64\n",
      "  44  Norweigen                 64\n",
      "   3  German                    65\n",
      "  51  French                    65\n",
      "  78  French                    65\n",
      "  24  French                    66\n",
      "  88  Danish                    66\n",
      "  95  French                    66\n",
      "  32  Italian                   66\n",
      "  35  English                   67\n",
      "  48  German                    68\n",
      "  56  Belgian                   68\n",
      "  22  Russian                   69\n",
      "  26  Italian                   69\n",
      "  75  French                    70\n",
      "  84  German                    70\n",
      "  36  Russian                   70\n",
      "   4  German                    70\n",
      "  96  Spanish                   70\n",
      "  93  American                  71\n",
      "  99  Russian                   71\n",
      "  59  Italian                   72\n",
      "  25  Austrian                  72\n",
      "  92  German                    73\n",
      "  45  German                    73\n",
      "  68  Austrian                  74\n",
      "  69  Czech                     74\n",
      "  65  German                    74\n",
      "   9  German                    74\n",
      "  15  Hungarian                 75\n",
      "  27  Italian                   76\n",
      "  34  Italian                   76\n",
      "  70  French                    77\n",
      "   5  Austrian                  77\n",
      "  46  Austrian                  77\n",
      "  74  French                    77\n",
      "  43  French                    79\n",
      "  47  American                  80\n",
      "  67  English                   80\n",
      "  80  American                  80\n",
      "  41  French                    81\n",
      "  97  German                    81\n",
      "  38  Flemish                   81\n",
      "  89  English                   81\n",
      "  90  French                    82\n",
      "  49  French                    84\n",
      "  52  English                   84\n",
      "  20  German                    85\n",
      "  30  English                   86\n",
      "  60  German                    86\n",
      "  37  French                    86\n",
      "  79  German                    87\n",
      "  17  Italian                   88\n",
      "  10  Russian                   89\n",
      "  50  American                  90\n",
      "  28  Finnish                   92\n",
      "====  ==============  ============\n"
     ]
    },
    {
     "data": {
      "text/html": [
       "\n",
       "<style>\n",
       "  #altair-viz-8aa9fc8ff6aa4ccaad7754db68038b4d.vega-embed {\n",
       "    width: 100%;\n",
       "    display: flex;\n",
       "  }\n",
       "\n",
       "  #altair-viz-8aa9fc8ff6aa4ccaad7754db68038b4d.vega-embed details,\n",
       "  #altair-viz-8aa9fc8ff6aa4ccaad7754db68038b4d.vega-embed details summary {\n",
       "    position: relative;\n",
       "  }\n",
       "</style>\n",
       "<div id=\"altair-viz-8aa9fc8ff6aa4ccaad7754db68038b4d\"></div>\n",
       "<script type=\"text/javascript\">\n",
       "  var VEGA_DEBUG = (typeof VEGA_DEBUG == \"undefined\") ? {} : VEGA_DEBUG;\n",
       "  (function(spec, embedOpt){\n",
       "    let outputDiv = document.currentScript.previousElementSibling;\n",
       "    if (outputDiv.id !== \"altair-viz-8aa9fc8ff6aa4ccaad7754db68038b4d\") {\n",
       "      outputDiv = document.getElementById(\"altair-viz-8aa9fc8ff6aa4ccaad7754db68038b4d\");\n",
       "    }\n",
       "    const paths = {\n",
       "      \"vega\": \"https://cdn.jsdelivr.net/npm/vega@5?noext\",\n",
       "      \"vega-lib\": \"https://cdn.jsdelivr.net/npm/vega-lib?noext\",\n",
       "      \"vega-lite\": \"https://cdn.jsdelivr.net/npm/vega-lite@5.16.3?noext\",\n",
       "      \"vega-embed\": \"https://cdn.jsdelivr.net/npm/vega-embed@6?noext\",\n",
       "    };\n",
       "\n",
       "    function maybeLoadScript(lib, version) {\n",
       "      var key = `${lib.replace(\"-\", \"\")}_version`;\n",
       "      return (VEGA_DEBUG[key] == version) ?\n",
       "        Promise.resolve(paths[lib]) :\n",
       "        new Promise(function(resolve, reject) {\n",
       "          var s = document.createElement('script');\n",
       "          document.getElementsByTagName(\"head\")[0].appendChild(s);\n",
       "          s.async = true;\n",
       "          s.onload = () => {\n",
       "            VEGA_DEBUG[key] = version;\n",
       "            return resolve(paths[lib]);\n",
       "          };\n",
       "          s.onerror = () => reject(`Error loading script: ${paths[lib]}`);\n",
       "          s.src = paths[lib];\n",
       "        });\n",
       "    }\n",
       "\n",
       "    function showError(err) {\n",
       "      outputDiv.innerHTML = `<div class=\"error\" style=\"color:red;\">${err}</div>`;\n",
       "      throw err;\n",
       "    }\n",
       "\n",
       "    function displayChart(vegaEmbed) {\n",
       "      vegaEmbed(outputDiv, spec, embedOpt)\n",
       "        .catch(err => showError(`Javascript Error: ${err.message}<br>This usually means there's a typo in your chart specification. See the javascript console for the full traceback.`));\n",
       "    }\n",
       "\n",
       "    if(typeof define === \"function\" && define.amd) {\n",
       "      requirejs.config({paths});\n",
       "      require([\"vega-embed\"], displayChart, err => showError(`Error loading script: ${err.message}`));\n",
       "    } else {\n",
       "      maybeLoadScript(\"vega\", \"5\")\n",
       "        .then(() => maybeLoadScript(\"vega-lite\", \"5.16.3\"))\n",
       "        .then(() => maybeLoadScript(\"vega-embed\", \"6\"))\n",
       "        .catch(showError)\n",
       "        .then(() => displayChart(vegaEmbed));\n",
       "    }\n",
       "  })({\"config\": {\"view\": {\"continuousWidth\": 300, \"continuousHeight\": 300}}, \"data\": {\"name\": \"data-225fc88a7e9fec4dfedd7df0b76c4abf\"}, \"mark\": {\"type\": \"bar\"}, \"encoding\": {\"color\": {\"field\": \"Nationality\", \"type\": \"nominal\"}, \"tooltip\": [{\"field\": \"Nationality\", \"type\": \"nominal\"}, {\"field\": \"AgeAtDeath\", \"type\": \"quantitative\"}], \"x\": {\"field\": \"Nationality\", \"title\": \"Nationality\", \"type\": \"nominal\"}, \"y\": {\"field\": \"AgeAtDeath\", \"title\": \"Age at death\", \"type\": \"quantitative\"}}, \"title\": \"Composers by Nationality and Age at Death\", \"$schema\": \"https://vega.github.io/schema/vega-lite/v5.16.3.json\", \"datasets\": {\"data-225fc88a7e9fec4dfedd7df0b76c4abf\": [{\"Nationality\": \"German   \", \"AgeAtDeath\": 21.0}, {\"Nationality\": \"Italian\", \"AgeAtDeath\": 26.0}, {\"Nationality\": \"Austrian\", \"AgeAtDeath\": 31.0}, {\"Nationality\": \"Italian\", \"AgeAtDeath\": 34.0}, {\"Nationality\": \"Austrian\", \"AgeAtDeath\": 35.0}, {\"Nationality\": \"English\", \"AgeAtDeath\": 36.0}, {\"Nationality\": \"French\", \"AgeAtDeath\": 37.0}, {\"Nationality\": \"German   \", \"AgeAtDeath\": 38.0}, {\"Nationality\": \"American\", \"AgeAtDeath\": 39.0}, {\"Nationality\": \"Polish\", \"AgeAtDeath\": 39.0}, {\"Nationality\": \"German   \", \"AgeAtDeath\": 40.0}, {\"Nationality\": \"English\", \"AgeAtDeath\": 42.0}, {\"Nationality\": \"Russian\", \"AgeAtDeath\": 42.0}, {\"Nationality\": \"Russian\", \"AgeAtDeath\": 43.0}, {\"Nationality\": \"Austrian\", \"AgeAtDeath\": 43.0}, {\"Nationality\": \"Italian\", \"AgeAtDeath\": 45.0}, {\"Nationality\": \"German   \", \"AgeAtDeath\": 46.0}, {\"Nationality\": \"Austrian\", \"AgeAtDeath\": 50.0}, {\"Nationality\": \"Italian\", \"AgeAtDeath\": 51.0}, {\"Nationality\": \"Austrian\", \"AgeAtDeath\": 51.0}, {\"Nationality\": \"Russian\", \"AgeAtDeath\": 53.0}, {\"Nationality\": \"Russian\", \"AgeAtDeath\": 53.0}, {\"Nationality\": \"Russian\", \"AgeAtDeath\": 54.0}, {\"Nationality\": \"French\", \"AgeAtDeath\": 56.0}, {\"Nationality\": \"Italian\", \"AgeAtDeath\": 57.0}, {\"Nationality\": \"Italian\", \"AgeAtDeath\": 58.0}, {\"Nationality\": \"French\", \"AgeAtDeath\": 59.0}, {\"Nationality\": \"Czech\", \"AgeAtDeath\": 60.0}, {\"Nationality\": \"Italian\", \"AgeAtDeath\": 60.0}, {\"Nationality\": \"English\", \"AgeAtDeath\": 60.0}, {\"Nationality\": \"Franco-Flemish\", \"AgeAtDeath\": 62.0}, {\"Nationality\": \"Spanish\", \"AgeAtDeath\": 62.0}, {\"Nationality\": \"French\", \"AgeAtDeath\": 62.0}, {\"Nationality\": \"Russian\", \"AgeAtDeath\": 62.0}, {\"Nationality\": \"Austrian\", \"AgeAtDeath\": 62.0}, {\"Nationality\": \"English\", \"AgeAtDeath\": 63.0}, {\"Nationality\": \"Czech\", \"AgeAtDeath\": 63.0}, {\"Nationality\": \"English\", \"AgeAtDeath\": 63.0}, {\"Nationality\": \"Italian\", \"AgeAtDeath\": 63.0}, {\"Nationality\": \"Hungarian\", \"AgeAtDeath\": 64.0}, {\"Nationality\": \"Russian\", \"AgeAtDeath\": 64.0}, {\"Nationality\": \"German   \", \"AgeAtDeath\": 64.0}, {\"Nationality\": \"French\", \"AgeAtDeath\": 64.0}, {\"Nationality\": \"Norweigen\", \"AgeAtDeath\": 64.0}, {\"Nationality\": \"German   \", \"AgeAtDeath\": 65.0}, {\"Nationality\": \"French\", \"AgeAtDeath\": 65.0}, {\"Nationality\": \"French\", \"AgeAtDeath\": 65.0}, {\"Nationality\": \"French\", \"AgeAtDeath\": 66.0}, {\"Nationality\": \"Danish\", \"AgeAtDeath\": 66.0}, {\"Nationality\": \"French\", \"AgeAtDeath\": 66.0}, {\"Nationality\": \"Italian\", \"AgeAtDeath\": 66.0}, {\"Nationality\": \"English\", \"AgeAtDeath\": 67.0}, {\"Nationality\": \"German   \", \"AgeAtDeath\": 68.0}, {\"Nationality\": \"Belgian\", \"AgeAtDeath\": 68.0}, {\"Nationality\": \"Russian\", \"AgeAtDeath\": 69.0}, {\"Nationality\": \"Italian\", \"AgeAtDeath\": 69.0}, {\"Nationality\": \"French\", \"AgeAtDeath\": 70.0}, {\"Nationality\": \"German   \", \"AgeAtDeath\": 70.0}, {\"Nationality\": \"Russian\", \"AgeAtDeath\": 70.0}, {\"Nationality\": \"German   \", \"AgeAtDeath\": 70.0}, {\"Nationality\": \"Spanish\", \"AgeAtDeath\": 70.0}, {\"Nationality\": \"American\", \"AgeAtDeath\": 71.0}, {\"Nationality\": \"Russian\", \"AgeAtDeath\": 71.0}, {\"Nationality\": \"Italian\", \"AgeAtDeath\": 72.0}, {\"Nationality\": \"Austrian\", \"AgeAtDeath\": 72.0}, {\"Nationality\": \"German   \", \"AgeAtDeath\": 73.0}, {\"Nationality\": \"German   \", \"AgeAtDeath\": 73.0}, {\"Nationality\": \"Austrian\", \"AgeAtDeath\": 74.0}, {\"Nationality\": \"Czech\", \"AgeAtDeath\": 74.0}, {\"Nationality\": \"German   \", \"AgeAtDeath\": 74.0}, {\"Nationality\": \"German   \", \"AgeAtDeath\": 74.0}, {\"Nationality\": \"Hungarian\", \"AgeAtDeath\": 75.0}, {\"Nationality\": \"Italian\", \"AgeAtDeath\": 76.0}, {\"Nationality\": \"Italian\", \"AgeAtDeath\": 76.0}, {\"Nationality\": \"French\", \"AgeAtDeath\": 77.0}, {\"Nationality\": \"Austrian\", \"AgeAtDeath\": 77.0}, {\"Nationality\": \"Austrian\", \"AgeAtDeath\": 77.0}, {\"Nationality\": \"French\", \"AgeAtDeath\": 77.0}, {\"Nationality\": \"French\", \"AgeAtDeath\": 79.0}, {\"Nationality\": \"American\", \"AgeAtDeath\": 80.0}, {\"Nationality\": \"English\", \"AgeAtDeath\": 80.0}, {\"Nationality\": \"American\", \"AgeAtDeath\": 80.0}, {\"Nationality\": \"French\", \"AgeAtDeath\": 81.0}, {\"Nationality\": \"German   \", \"AgeAtDeath\": 81.0}, {\"Nationality\": \"Flemish\", \"AgeAtDeath\": 81.0}, {\"Nationality\": \"English\", \"AgeAtDeath\": 81.0}, {\"Nationality\": \"French\", \"AgeAtDeath\": 82.0}, {\"Nationality\": \"French\", \"AgeAtDeath\": 84.0}, {\"Nationality\": \"English\", \"AgeAtDeath\": 84.0}, {\"Nationality\": \"German   \", \"AgeAtDeath\": 85.0}, {\"Nationality\": \"English\", \"AgeAtDeath\": 86.0}, {\"Nationality\": \"German   \", \"AgeAtDeath\": 86.0}, {\"Nationality\": \"French\", \"AgeAtDeath\": 86.0}, {\"Nationality\": \"German   \", \"AgeAtDeath\": 87.0}, {\"Nationality\": \"Italian\", \"AgeAtDeath\": 88.0}, {\"Nationality\": \"Russian\", \"AgeAtDeath\": 89.0}, {\"Nationality\": \"American\", \"AgeAtDeath\": 90.0}, {\"Nationality\": \"Finnish\", \"AgeAtDeath\": 92.0}]}}, {\"mode\": \"vega-lite\"});\n",
       "</script>"
      ],
      "text/plain": [
       "alt.Chart(...)"
      ]
     },
     "metadata": {},
     "output_type": "display_data"
    }
   ],
   "source": [
    "import tabulate \n",
    "import altair as alt \n",
    "\n",
    "nd_df = subset_sorted[['Nationality', 'AgeAtDeath']]\n",
    "\n",
    "nd_df_ = nd_df.groupby('Nationality')\n",
    "print(tabulate.tabulate(nd_df, headers=\"keys\", tablefmt=\"rst\"))\n",
    "\n",
    "\n",
    "chart = alt.Chart(nd_df).mark_bar().encode(\n",
    "    x=alt.X('Nationality', title='Nationality'),\n",
    "    y=alt.Y('AgeAtDeath', title='Age at death'),\n",
    "    color='Nationality',\n",
    "    tooltip=['Nationality', 'AgeAtDeath']\n",
    ").properties(\n",
    "    title='Composers by Nationality and Age at Death'\n",
    ")\n",
    "\n",
    "chart.display()"
   ]
  },
  {
   "cell_type": "markdown",
   "metadata": {},
   "source": [
    "This histogram gives us the first glance into the interplay between the composers, their country of origin, and the historical context of their compositions. A further dive into the data will hopefully reveal a deeper understanding of how historical, cultural and personal factors shaped the lifespan of these creative historical figures."
   ]
  },
  {
   "cell_type": "markdown",
   "metadata": {},
   "source": [
    "DESCRIPTIVE ANALYSIS"
   ]
  },
  {
   "cell_type": "markdown",
   "metadata": {},
   "source": [
    "Composer's Productivity Over Their Lifetime..."
   ]
  },
  {
   "cell_type": "code",
   "execution_count": null,
   "metadata": {},
   "outputs": [],
   "source": [
    "# How does the composer lifespan correlate with their productivity? Measured by number of pieces or longest piece.\n",
    "\n",
    "correlation = subset_sorted['AgeAtDeath'].corr(subset_sorted['Duration of Biggest Piece(mins)'])\n",
    "\n",
    "print(f'Correlation Coefficient: {correlation}')\n"
   ]
  },
  {
   "cell_type": "markdown",
   "metadata": {},
   "source": [
    "With a correlation of -0.4763305 we can say that there is a negative correlation between the age of the composer and the longest piece they ever wrote. Since it is close to zero we can safely say that there is barely any relationship. How long each composer lived does not help us predict how long their longest piece was, and vice versa."
   ]
  },
  {
   "cell_type": "code",
   "execution_count": null,
   "metadata": {},
   "outputs": [],
   "source": [
    "# There are 98 composers\n",
    "subset_sorted['Composer'].count()\n"
   ]
  },
  {
   "cell_type": "markdown",
   "metadata": {},
   "source": [
    "Summary Statistics to find any relationships between a Copmoser and the longest Piece they ever wrote. "
   ]
  },
  {
   "cell_type": "code",
   "execution_count": null,
   "metadata": {},
   "outputs": [],
   "source": [
    "# summary stats for the longest piece collectively\n",
    "subset_sorted['Duration of Biggest Piece(mins)'].describe()"
   ]
  },
  {
   "cell_type": "code",
   "execution_count": null,
   "metadata": {},
   "outputs": [],
   "source": [
    "# Summary statistic for each composer's longest piece\n",
    "\n",
    "composer_summary = subset_sorted.groupby('Composer')['Duration of Biggest Piece(mins)'].describe()\n",
    "\n",
    "\n",
    "composer_summary\n"
   ]
  },
  {
   "cell_type": "markdown",
   "metadata": {},
   "source": [
    "Nationanality and Musical Output"
   ]
  },
  {
   "cell_type": "code",
   "execution_count": null,
   "metadata": {},
   "outputs": [],
   "source": [
    "composer_nationality_means = subset_sorted.groupby(['Composer', 'Nationality'])['Duration of Biggest Piece(mins)'].mean().reset_index()"
   ]
  },
  {
   "cell_type": "code",
   "execution_count": null,
   "metadata": {},
   "outputs": [],
   "source": [
    "# Sorting composers by mean duration\n",
    "composer_nationality_means_sorted = composer_nationality_means.sort_values(by='Duration of Biggest Piece(mins)', ascending=False)\n",
    "\n",
    "top_10 = composer_nationality_means_sorted.head(10)\n",
    "bottom_10 = composer_nationality_means_sorted.tail(10)\n"
   ]
  },
  {
   "cell_type": "code",
   "execution_count": null,
   "metadata": {},
   "outputs": [],
   "source": [
    "# Combining the teo into a single DataFrame\n",
    "\n",
    "top_10 = pd.concat([top_10, bottom_10], axis=0).reset_index(drop=True)"
   ]
  },
  {
   "cell_type": "code",
   "execution_count": null,
   "metadata": {},
   "outputs": [],
   "source": [
    "import plotly.express as px\n",
    "\n",
    "fig_top_10 = px.bar(top_10, \n",
    "                    x='Composer',\n",
    "                    y='Duration of Biggest Piece(mins)',\n",
    "                    color = 'Duration of Biggest Piece(mins)',\n",
    "                    hover_data=['Nationality'],\n",
    "                    title='Top and Bottom 10 Composers by Mean Duration of Longest Piece', \n",
    "                    labels={'Duration of Biggest Piece(mins)': 'Mean Duration(mins)', 'Composer': 'Composer'})\n",
    "\n",
    "fig_top_10.update_layout(xaxis_title='Composer',\n",
    "                  yaxis_title='Mean Duration (mins)',\n",
    "                  xaxis={'categoryorder':'total descending'},\n",
    "                  yaxis=dict(type='linear'),\n",
    "                  template='plotly_white')\n",
    "\n",
    "fig_top_10.show()"
   ]
  },
  {
   "cell_type": "markdown",
   "metadata": {},
   "source": [
    "According to the above plot the top 10 Composers with the longest pieces are represented mostly by German/Austraian descent. Whereas, the top 10 Composers with shortes durationa were predominatly of French and English descent. One could make the conjecture that there is a  correlation between the duration of the pieces the composers create and of what nationality the composer is."
   ]
  },
  {
   "cell_type": "markdown",
   "metadata": {},
   "source": [
    "Age groups of Composers vs. the duration of their longest piece"
   ]
  },
  {
   "cell_type": "code",
   "execution_count": null,
   "metadata": {},
   "outputs": [],
   "source": [
    "viz = subset_sorted[['Composer', 'AgeAtDeath', 'Duration of Biggest Piece(mins)']].copy() \n",
    "viz\n",
    "\n",
    "# Group by age in 10s\n",
    "viz['AgeGroup'] = pd.cut(viz['AgeAtDeath'], bins=range(0, 101, 10), right=False)\n",
    "grouped_age = viz.groupby('AgeGroup').size()\n",
    "\n",
    "grouped_age\n"
   ]
  },
  {
   "cell_type": "code",
   "execution_count": null,
   "metadata": {},
   "outputs": [],
   "source": [
    "import seaborn as sns\n",
    "import matplotlib.pyplot as plt\n",
    "\n",
    "\n",
    "sns.set_theme(style=\"whitegrid\")\n",
    "\n",
    "ax =sns.catplot(\n",
    "    data = viz, \n",
    "    x = 'AgeGroup', y='Duration of Biggest Piece(mins)',\n",
    "    hue='AgeAtDeath',\n",
    "    kind=\"swarm\",\n",
    ")\n",
    "ax.set_xticklabels(rotation=60)\n",
    "\n",
    "\n"
   ]
  },
  {
   "cell_type": "markdown",
   "metadata": {},
   "source": [
    "This visualization tells us that across all age groups the average pice is 40 minutes. Composers that are less than forty years of age have pieces that are the average duration or less. It also shows that composers in the ninety and one hundred age group also write compositions that are forty minutes or less. I find it interesting that the longest pieces are written by composers in the sixty to eighty age group. From previous analysis we also know that the top three composers with longest duration are German and Italian, and withi the same previous analysis we know that the shortest pieces of composition are written by English and French composers. "
   ]
  },
  {
   "cell_type": "markdown",
   "metadata": {},
   "source": [
    "COMPARITIVE ANALYSIS"
   ]
  },
  {
   "cell_type": "markdown",
   "metadata": {},
   "source": [
    "Era vs. Composition Lengths\n",
    "\n",
    "Baroque: 1600–1750\n",
    "\n",
    "Classical: 1750–1820\n",
    "\n",
    "Romantic: 1820–1900\n",
    "\n",
    "Modern: 1900–present"
   ]
  },
  {
   "cell_type": "code",
   "execution_count": null,
   "metadata": {},
   "outputs": [],
   "source": [
    "historical_era = subset_sorted[['Composer','Nationality', 'Born', 'Died', 'AgeAtDeath', 'Duration of Biggest Piece(mins)']]\n",
    "historical_era\n",
    "\n",
    "df_historical_era = pd.DataFrame(historical_era)\n",
    "df_historical_era.head()"
   ]
  },
  {
   "cell_type": "code",
   "execution_count": null,
   "metadata": {},
   "outputs": [],
   "source": [
    "def categorize_era(row):\n",
    "    if row['Born'] < 1750:\n",
    "        return'Baroque'\n",
    "    elif 1750 <= row['Born'] < 1820:\n",
    "        return 'Classical'\n",
    "    elif 1820 <= row['Born'] < 1900:\n",
    "        return 'Romantic'\n",
    "    else:\n",
    "        return 'Modern'\n",
    "    \n",
    "        \n",
    "df_historical_era['Era'] = df_historical_era.apply(categorize_era, axis=1)\n",
    "df_historical_era.head()"
   ]
  },
  {
   "cell_type": "code",
   "execution_count": null,
   "metadata": {},
   "outputs": [],
   "source": [
    "agg_data = df_historical_era.groupby('Era')['Duration of Biggest Piece(mins)'].mean().reset_index()\n",
    "\n",
    "agg_data"
   ]
  },
  {
   "cell_type": "code",
   "execution_count": null,
   "metadata": {},
   "outputs": [],
   "source": [
    "# have to convert data when using altair\n",
    "\n",
    "chart_data = alt.Data(values=agg_data.to_dict('records'))"
   ]
  },
  {
   "cell_type": "code",
   "execution_count": null,
   "metadata": {},
   "outputs": [],
   "source": [
    "\n",
    "chart = alt.Chart(chart_data).mark_bar().encode(\n",
    "    y=alt.Y('Era:N', title='Musical Era', sort='-x'),  # Note the sort is now '-x'\n",
    "    x=alt.X('mean(Duration of Biggest Piece(mins)):Q', title='Average Length of Longest Composition (mins)'),\n",
    "    color='Era:N'\n",
    ").properties(title='Average Length of Longest Compositions by Musical Era')\n",
    "\n",
    "chart.display()\n"
   ]
  },
  {
   "cell_type": "markdown",
   "metadata": {},
   "source": [
    "Looking at the data from the classical music history(era), we uncover a clear trend: compositions start long and elaborate in the Baroque era, maintain length but gain clarity in the Classical period, then gradually shorten. Romantic pieces dial back on duration, favoring emotion over length. The Modern era continues this trend towards conciseness, blending brevity with innovative twists. This pattern reveals not just shifts in musical preferences but echoes broader cultural transformations over time."
   ]
  },
  {
   "cell_type": "markdown",
   "metadata": {},
   "source": [
    "Average Age of Composer at Peak Creativity per Era and Nationality"
   ]
  },
  {
   "cell_type": "code",
   "execution_count": null,
   "metadata": {},
   "outputs": [],
   "source": [
    "# New dataframe \n",
    "\n",
    "peak_creativity = subset_sorted[['Composer', 'Nationality', 'Born', 'Died', 'Duration of Biggest Piece(mins)', 'AgeAtDeath']].copy()\n",
    "\n",
    "peak_creativity_df=pd.DataFrame(peak_creativity)\n",
    "peak_creativity_df.head()\n",
    "\n",
    "peak_creativity_df['Era'] = peak_creativity_df.apply(categorize_era, axis=1)\n",
    "peak_creativity_df.head()\n",
    "    \n"
   ]
  },
  {
   "cell_type": "code",
   "execution_count": null,
   "metadata": {},
   "outputs": [],
   "source": [
    "# What is the average age at death for each era and duration of biggest piece? \n",
    "\n",
    "era_age_at_death = peak_creativity_df.groupby('Era')['AgeAtDeath'].mean().reset_index()\n",
    "era_age_at_death"
   ]
  },
  {
   "cell_type": "code",
   "execution_count": null,
   "metadata": {},
   "outputs": [],
   "source": [
    "combined_era_peak = pd.merge(agg_data, era_age_at_death, on='Era', how='inner')\n",
    "combined_era_peak"
   ]
  },
  {
   "cell_type": "code",
   "execution_count": null,
   "metadata": {},
   "outputs": [],
   "source": [
    "nationality_peak = peak_creativity_df.groupby('Nationality')['Duration of Biggest Piece(mins)'].mean().reset_index()\n",
    "nationality_peak"
   ]
  },
  {
   "cell_type": "code",
   "execution_count": null,
   "metadata": {},
   "outputs": [],
   "source": [
    "creative_peak = df_historical_era.groupby(['Nationality', 'Era']).agg({\n",
    "    'AgeAtDeath': 'mean',\n",
    "    'Duration of Biggest Piece(mins)': 'mean'\n",
    "}).reset_index()\n",
    "\n"
   ]
  },
  {
   "cell_type": "code",
   "execution_count": null,
   "metadata": {},
   "outputs": [],
   "source": [
    "# Rename columns for average dataframe\n",
    "\n",
    "creative_peak.rename(columns={\n",
    "    'AgeAtDeath': \"Average Age at Death\",\n",
    "    'Duration of Biggest Piece(mins)': 'Average Piece(mins)',\n",
    "    'Era': 'Historical Era'\n",
    "}, inplace=True)\n",
    "creative_peak"
   ]
  },
  {
   "cell_type": "code",
   "execution_count": null,
   "metadata": {},
   "outputs": [],
   "source": [
    "import altair as alt\n",
    "\n",
    "\n",
    "facet_chart = alt.Chart(creative_peak).mark_bar().encode(\n",
    "    x='Average Age at Death:Q',\n",
    "    y='Average Piece(mins):Q',\n",
    "    color='Nationality:N',\n",
    "    tooltip=['Nationality', 'Historical Era', 'Average Piece(mins)', 'Average Age at Death']\n",
    ").properties(\n",
    "    width=200,\n",
    "    height=150\n",
    ").facet(\n",
    "    column='Historical Era:N'\n",
    ")\n",
    "\n",
    "facet_chart.display() \n"
   ]
  },
  {
   "cell_type": "markdown",
   "metadata": {},
   "source": [
    "These patterns reveal cultural undercurrents across eras. The Romantic era's uniformity hints at strong shared values and an emphasis on innovation, individualism, and emotional expression, leading composers to produce similar works despite diverse backgrounds. The Classical era's consistent music style, appealing to a broad age range, indicates its cross-generational resonance. The Baroque era, with its wide range in music and lifespans, showcases a period rich in experimentation and innovation. Meanwhile, the Modern era's concise compositions and uniform lifespans reflect societal shifts towards efficiency and a collective move towards more direct, impactful expression."
   ]
  },
  {
   "cell_type": "markdown",
   "metadata": {},
   "source": [
    "MACHING LEARNING WITH CLUSTERING"
   ]
  },
  {
   "cell_type": "code",
   "execution_count": null,
   "metadata": {},
   "outputs": [],
   "source": [
    "# use kmeans to cluster the composers into 3 groups based on their age at death and duration of their biggest piece\n",
    "\n",
    "from sklearn.cluster import KMeans\n",
    "import numpy as np\n",
    "from sklearn.preprocessing import StandardScaler\n",
    "from sklearn.pipeline import make_pipeline\n",
    "from sklearn.model_selection import train_test_split\n",
    "\n",
    "# Select the columns to cluster\n",
    "cluster_data = peak_creativity_df[['Born', 'Duration of Biggest Piece(mins)']].copy()\n",
    "\n",
    "# Create a pipeline to scale the data and then cluster it \n",
    "scaler = StandardScaler()\n",
    "kmeans = KMeans(n_clusters=3)\n",
    "\n",
    "\n"
   ]
  },
  {
   "cell_type": "code",
   "execution_count": null,
   "metadata": {},
   "outputs": [],
   "source": [
    "pipeline = make_pipeline(scaler, kmeans)\n",
    "\n",
    "# Fit the pipeline to the data\n",
    "pipeline.fit(cluster_data)\n"
   ]
  },
  {
   "cell_type": "code",
   "execution_count": null,
   "metadata": {},
   "outputs": [],
   "source": [
    "# Add the cluster labels to the original data\n",
    "cluster_labels = pipeline.predict(cluster_data)\n",
    "peak_creativity_df['Cluster'] = cluster_labels\n",
    "peak_creativity_df.head()\n"
   ]
  },
  {
   "cell_type": "code",
   "execution_count": null,
   "metadata": {},
   "outputs": [],
   "source": [
    "cluster_mean = cluster_data.groupby(cluster_labels)[['Born', 'Duration of Biggest Piece(mins)']].mean()\n",
    "cluster_mean"
   ]
  },
  {
   "cell_type": "code",
   "execution_count": null,
   "metadata": {},
   "outputs": [],
   "source": [
    "cluster_standard_deviation = cluster_data.groupby(cluster_labels)[['Born', 'Duration of Biggest Piece(mins)']].std()\n",
    "cluster_standard_deviation"
   ]
  },
  {
   "cell_type": "code",
   "execution_count": null,
   "metadata": {},
   "outputs": [],
   "source": [
    "# Visualize the clusters\n",
    "sns.scatterplot(data=peak_creativity_df, x='Born', y='Duration of Biggest Piece(mins)', hue='Cluster', size='Era', sizes=(30,150), style='Era', palette='viridis')\n",
    "plt.title('Clusters with Historical Era Context')\n",
    "plt.show()"
   ]
  },
  {
   "cell_type": "markdown",
   "metadata": {},
   "source": [
    "Clustering with k-means algorithm brought an interesting pattern to life that the rest of the analysis has not touched upon. The Baroque era is the only era that spans across all three clusters. Classical, Romantic, and Modern composers are clumped together with strong standard deviation and mean, indicating not only a clear relationship between the data and our analysis but also a strong correlation between the era, length of the compositions and a homogenity of lifespan for the composers. "
   ]
  },
  {
   "cell_type": "markdown",
   "metadata": {},
   "source": [
    "Why would the Baroque era be evaluated in each cluster? \n",
    "It suggests that the Baroque era, with its rich array of musical styles and forms, acts as a bridge connecting the characteristics of earlier and later periods of classical music."
   ]
  },
  {
   "cell_type": "markdown",
   "metadata": {},
   "source": [
    "FINAL ADVANCED ANALYSIS"
   ]
  },
  {
   "cell_type": "markdown",
   "metadata": {},
   "source": [
    "Influence of Nationality on Career Lenths\n",
    "\n",
    "Do composers from certain countries have longer careers than others?"
   ]
  },
  {
   "cell_type": "code",
   "execution_count": null,
   "metadata": {},
   "outputs": [],
   "source": [
    "# Rerun peak_creativity_df without the cluster column and new name\n",
    "influence = subset_sorted[['Composer', 'Nationality', 'Born', 'Died', 'Duration of Biggest Piece(mins)']].copy()\n",
    "\n",
    "influence_df=pd.DataFrame(influence)\n",
    "influence_df.head()\n",
    "\n",
    "influence_df['Era'] = influence_df.apply(categorize_era, axis=1)\n",
    "influence_df.head()"
   ]
  },
  {
   "cell_type": "code",
   "execution_count": null,
   "metadata": {},
   "outputs": [],
   "source": [
    "influence_df['CareerLength'] = influence_df['Died'] - influence_df['Born']\n",
    "influence_df.head()"
   ]
  },
  {
   "cell_type": "code",
   "execution_count": null,
   "metadata": {},
   "outputs": [],
   "source": [
    "nationality_career_lengths = influence_df.groupby('Nationality')['CareerLength'].agg(['mean', 'median', 'std', 'min', 'max']).reset_index()\n",
    "nationality_career_lengths"
   ]
  },
  {
   "cell_type": "code",
   "execution_count": null,
   "metadata": {},
   "outputs": [],
   "source": [
    "import pandas as pd\n",
    "\n",
    "df_nationality_career_lengths = pd.DataFrame(nationality_career_lengths)\n",
    "print(df_nationality_career_lengths)\n"
   ]
  },
  {
   "cell_type": "code",
   "execution_count": null,
   "metadata": {},
   "outputs": [],
   "source": [
    "nationality_career_filtered = df_nationality_career_lengths.dropna(subset=['std'])\n",
    "nationality_career_filtered"
   ]
  },
  {
   "cell_type": "code",
   "execution_count": 1,
   "metadata": {},
   "outputs": [
    {
     "data": {
      "application/vnd.plotly.v1+json": {
       "config": {
        "plotlyServerURL": "https://plot.ly"
       },
       "data": [
        {
         "error_y": {
          "array": [
           19.634154,
           17.573971,
           7.371115,
           17.242067,
           12.430986,
           18.668352,
           7.778175,
           16.909098,
           13.787346,
           5.656854
          ],
          "color": "black",
          "type": "data",
          "visible": true
         },
         "marker": {
          "color": [
           "#636EFA",
           "#EF553B",
           "#00CC96",
           "#AB63FA",
           "#FFA15A",
           "#19D3F3",
           "#FF6692",
           "#B6E880",
           "#FF97FF",
           "#FECB52"
          ]
         },
         "name": "Mean Career Length",
         "opacity": 0.7,
         "type": "bar",
         "x": [
          "American",
          "Austrian",
          "Czech",
          "English",
          "French",
          "German",
          "Hungarian",
          "Italian",
          "Russian",
          "Spanish"
         ],
         "y": [
          72,
          57.2,
          65.666667,
          66.2,
          69.176471,
          65.588235,
          69.5,
          60.071429,
          60.909091,
          66
         ]
        },
        {
         "marker": {
          "color": [
           "#636EFA",
           "#EF553B",
           "#00CC96",
           "#AB63FA",
           "#FFA15A",
           "#19D3F3",
           "#FF6692",
           "#B6E880",
           "#FF97FF",
           "#FECB52"
          ],
          "size": 10
         },
         "mode": "markers",
         "name": "Median",
         "type": "scatter",
         "x": [
          "American",
          "Austrian",
          "Czech",
          "English",
          "French",
          "German",
          "Hungarian",
          "Italian",
          "Russian",
          "Spanish"
         ],
         "y": [
          80,
          56.5,
          63,
          65,
          66,
          70,
          69.5,
          61.5,
          62,
          66
         ]
        },
        {
         "marker": {
          "color": "rgba(135, 206, 250, 0.8)",
          "size": 10
         },
         "mode": "markers",
         "name": "Min",
         "type": "scatter",
         "x": [
          "American",
          "Austrian",
          "Czech",
          "English",
          "French",
          "German",
          "Hungarian",
          "Italian",
          "Russian",
          "Spanish"
         ],
         "y": [
          39,
          31,
          60,
          36,
          37,
          21,
          64,
          26,
          42,
          62
         ]
        },
        {
         "marker": {
          "color": "rgba(255, 165, 0, 0.8)",
          "size": 10
         },
         "mode": "markers",
         "name": "Max",
         "type": "scatter",
         "x": [
          "American",
          "Austrian",
          "Czech",
          "English",
          "French",
          "German",
          "Hungarian",
          "Italian",
          "Russian",
          "Spanish"
         ],
         "y": [
          90,
          77,
          74,
          86,
          86,
          87,
          75,
          88,
          89,
          70
         ]
        }
       ],
       "layout": {
        "font": {
         "color": "black",
         "family": "Arial, sans-serif"
        },
        "paper_bgcolor": "rgba(0,0,0,0)",
        "plot_bgcolor": "rgba(0,0,0,0)",
        "template": {
         "data": {
          "bar": [
           {
            "error_x": {
             "color": "#2a3f5f"
            },
            "error_y": {
             "color": "#2a3f5f"
            },
            "marker": {
             "line": {
              "color": "white",
              "width": 0.5
             },
             "pattern": {
              "fillmode": "overlay",
              "size": 10,
              "solidity": 0.2
             }
            },
            "type": "bar"
           }
          ],
          "barpolar": [
           {
            "marker": {
             "line": {
              "color": "white",
              "width": 0.5
             },
             "pattern": {
              "fillmode": "overlay",
              "size": 10,
              "solidity": 0.2
             }
            },
            "type": "barpolar"
           }
          ],
          "carpet": [
           {
            "aaxis": {
             "endlinecolor": "#2a3f5f",
             "gridcolor": "#C8D4E3",
             "linecolor": "#C8D4E3",
             "minorgridcolor": "#C8D4E3",
             "startlinecolor": "#2a3f5f"
            },
            "baxis": {
             "endlinecolor": "#2a3f5f",
             "gridcolor": "#C8D4E3",
             "linecolor": "#C8D4E3",
             "minorgridcolor": "#C8D4E3",
             "startlinecolor": "#2a3f5f"
            },
            "type": "carpet"
           }
          ],
          "choropleth": [
           {
            "colorbar": {
             "outlinewidth": 0,
             "ticks": ""
            },
            "type": "choropleth"
           }
          ],
          "contour": [
           {
            "colorbar": {
             "outlinewidth": 0,
             "ticks": ""
            },
            "colorscale": [
             [
              0,
              "#0d0887"
             ],
             [
              0.1111111111111111,
              "#46039f"
             ],
             [
              0.2222222222222222,
              "#7201a8"
             ],
             [
              0.3333333333333333,
              "#9c179e"
             ],
             [
              0.4444444444444444,
              "#bd3786"
             ],
             [
              0.5555555555555556,
              "#d8576b"
             ],
             [
              0.6666666666666666,
              "#ed7953"
             ],
             [
              0.7777777777777778,
              "#fb9f3a"
             ],
             [
              0.8888888888888888,
              "#fdca26"
             ],
             [
              1,
              "#f0f921"
             ]
            ],
            "type": "contour"
           }
          ],
          "contourcarpet": [
           {
            "colorbar": {
             "outlinewidth": 0,
             "ticks": ""
            },
            "type": "contourcarpet"
           }
          ],
          "heatmap": [
           {
            "colorbar": {
             "outlinewidth": 0,
             "ticks": ""
            },
            "colorscale": [
             [
              0,
              "#0d0887"
             ],
             [
              0.1111111111111111,
              "#46039f"
             ],
             [
              0.2222222222222222,
              "#7201a8"
             ],
             [
              0.3333333333333333,
              "#9c179e"
             ],
             [
              0.4444444444444444,
              "#bd3786"
             ],
             [
              0.5555555555555556,
              "#d8576b"
             ],
             [
              0.6666666666666666,
              "#ed7953"
             ],
             [
              0.7777777777777778,
              "#fb9f3a"
             ],
             [
              0.8888888888888888,
              "#fdca26"
             ],
             [
              1,
              "#f0f921"
             ]
            ],
            "type": "heatmap"
           }
          ],
          "heatmapgl": [
           {
            "colorbar": {
             "outlinewidth": 0,
             "ticks": ""
            },
            "colorscale": [
             [
              0,
              "#0d0887"
             ],
             [
              0.1111111111111111,
              "#46039f"
             ],
             [
              0.2222222222222222,
              "#7201a8"
             ],
             [
              0.3333333333333333,
              "#9c179e"
             ],
             [
              0.4444444444444444,
              "#bd3786"
             ],
             [
              0.5555555555555556,
              "#d8576b"
             ],
             [
              0.6666666666666666,
              "#ed7953"
             ],
             [
              0.7777777777777778,
              "#fb9f3a"
             ],
             [
              0.8888888888888888,
              "#fdca26"
             ],
             [
              1,
              "#f0f921"
             ]
            ],
            "type": "heatmapgl"
           }
          ],
          "histogram": [
           {
            "marker": {
             "pattern": {
              "fillmode": "overlay",
              "size": 10,
              "solidity": 0.2
             }
            },
            "type": "histogram"
           }
          ],
          "histogram2d": [
           {
            "colorbar": {
             "outlinewidth": 0,
             "ticks": ""
            },
            "colorscale": [
             [
              0,
              "#0d0887"
             ],
             [
              0.1111111111111111,
              "#46039f"
             ],
             [
              0.2222222222222222,
              "#7201a8"
             ],
             [
              0.3333333333333333,
              "#9c179e"
             ],
             [
              0.4444444444444444,
              "#bd3786"
             ],
             [
              0.5555555555555556,
              "#d8576b"
             ],
             [
              0.6666666666666666,
              "#ed7953"
             ],
             [
              0.7777777777777778,
              "#fb9f3a"
             ],
             [
              0.8888888888888888,
              "#fdca26"
             ],
             [
              1,
              "#f0f921"
             ]
            ],
            "type": "histogram2d"
           }
          ],
          "histogram2dcontour": [
           {
            "colorbar": {
             "outlinewidth": 0,
             "ticks": ""
            },
            "colorscale": [
             [
              0,
              "#0d0887"
             ],
             [
              0.1111111111111111,
              "#46039f"
             ],
             [
              0.2222222222222222,
              "#7201a8"
             ],
             [
              0.3333333333333333,
              "#9c179e"
             ],
             [
              0.4444444444444444,
              "#bd3786"
             ],
             [
              0.5555555555555556,
              "#d8576b"
             ],
             [
              0.6666666666666666,
              "#ed7953"
             ],
             [
              0.7777777777777778,
              "#fb9f3a"
             ],
             [
              0.8888888888888888,
              "#fdca26"
             ],
             [
              1,
              "#f0f921"
             ]
            ],
            "type": "histogram2dcontour"
           }
          ],
          "mesh3d": [
           {
            "colorbar": {
             "outlinewidth": 0,
             "ticks": ""
            },
            "type": "mesh3d"
           }
          ],
          "parcoords": [
           {
            "line": {
             "colorbar": {
              "outlinewidth": 0,
              "ticks": ""
             }
            },
            "type": "parcoords"
           }
          ],
          "pie": [
           {
            "automargin": true,
            "type": "pie"
           }
          ],
          "scatter": [
           {
            "fillpattern": {
             "fillmode": "overlay",
             "size": 10,
             "solidity": 0.2
            },
            "type": "scatter"
           }
          ],
          "scatter3d": [
           {
            "line": {
             "colorbar": {
              "outlinewidth": 0,
              "ticks": ""
             }
            },
            "marker": {
             "colorbar": {
              "outlinewidth": 0,
              "ticks": ""
             }
            },
            "type": "scatter3d"
           }
          ],
          "scattercarpet": [
           {
            "marker": {
             "colorbar": {
              "outlinewidth": 0,
              "ticks": ""
             }
            },
            "type": "scattercarpet"
           }
          ],
          "scattergeo": [
           {
            "marker": {
             "colorbar": {
              "outlinewidth": 0,
              "ticks": ""
             }
            },
            "type": "scattergeo"
           }
          ],
          "scattergl": [
           {
            "marker": {
             "colorbar": {
              "outlinewidth": 0,
              "ticks": ""
             }
            },
            "type": "scattergl"
           }
          ],
          "scattermapbox": [
           {
            "marker": {
             "colorbar": {
              "outlinewidth": 0,
              "ticks": ""
             }
            },
            "type": "scattermapbox"
           }
          ],
          "scatterpolar": [
           {
            "marker": {
             "colorbar": {
              "outlinewidth": 0,
              "ticks": ""
             }
            },
            "type": "scatterpolar"
           }
          ],
          "scatterpolargl": [
           {
            "marker": {
             "colorbar": {
              "outlinewidth": 0,
              "ticks": ""
             }
            },
            "type": "scatterpolargl"
           }
          ],
          "scatterternary": [
           {
            "marker": {
             "colorbar": {
              "outlinewidth": 0,
              "ticks": ""
             }
            },
            "type": "scatterternary"
           }
          ],
          "surface": [
           {
            "colorbar": {
             "outlinewidth": 0,
             "ticks": ""
            },
            "colorscale": [
             [
              0,
              "#0d0887"
             ],
             [
              0.1111111111111111,
              "#46039f"
             ],
             [
              0.2222222222222222,
              "#7201a8"
             ],
             [
              0.3333333333333333,
              "#9c179e"
             ],
             [
              0.4444444444444444,
              "#bd3786"
             ],
             [
              0.5555555555555556,
              "#d8576b"
             ],
             [
              0.6666666666666666,
              "#ed7953"
             ],
             [
              0.7777777777777778,
              "#fb9f3a"
             ],
             [
              0.8888888888888888,
              "#fdca26"
             ],
             [
              1,
              "#f0f921"
             ]
            ],
            "type": "surface"
           }
          ],
          "table": [
           {
            "cells": {
             "fill": {
              "color": "#EBF0F8"
             },
             "line": {
              "color": "white"
             }
            },
            "header": {
             "fill": {
              "color": "#C8D4E3"
             },
             "line": {
              "color": "white"
             }
            },
            "type": "table"
           }
          ]
         },
         "layout": {
          "annotationdefaults": {
           "arrowcolor": "#2a3f5f",
           "arrowhead": 0,
           "arrowwidth": 1
          },
          "autotypenumbers": "strict",
          "coloraxis": {
           "colorbar": {
            "outlinewidth": 0,
            "ticks": ""
           }
          },
          "colorscale": {
           "diverging": [
            [
             0,
             "#8e0152"
            ],
            [
             0.1,
             "#c51b7d"
            ],
            [
             0.2,
             "#de77ae"
            ],
            [
             0.3,
             "#f1b6da"
            ],
            [
             0.4,
             "#fde0ef"
            ],
            [
             0.5,
             "#f7f7f7"
            ],
            [
             0.6,
             "#e6f5d0"
            ],
            [
             0.7,
             "#b8e186"
            ],
            [
             0.8,
             "#7fbc41"
            ],
            [
             0.9,
             "#4d9221"
            ],
            [
             1,
             "#276419"
            ]
           ],
           "sequential": [
            [
             0,
             "#0d0887"
            ],
            [
             0.1111111111111111,
             "#46039f"
            ],
            [
             0.2222222222222222,
             "#7201a8"
            ],
            [
             0.3333333333333333,
             "#9c179e"
            ],
            [
             0.4444444444444444,
             "#bd3786"
            ],
            [
             0.5555555555555556,
             "#d8576b"
            ],
            [
             0.6666666666666666,
             "#ed7953"
            ],
            [
             0.7777777777777778,
             "#fb9f3a"
            ],
            [
             0.8888888888888888,
             "#fdca26"
            ],
            [
             1,
             "#f0f921"
            ]
           ],
           "sequentialminus": [
            [
             0,
             "#0d0887"
            ],
            [
             0.1111111111111111,
             "#46039f"
            ],
            [
             0.2222222222222222,
             "#7201a8"
            ],
            [
             0.3333333333333333,
             "#9c179e"
            ],
            [
             0.4444444444444444,
             "#bd3786"
            ],
            [
             0.5555555555555556,
             "#d8576b"
            ],
            [
             0.6666666666666666,
             "#ed7953"
            ],
            [
             0.7777777777777778,
             "#fb9f3a"
            ],
            [
             0.8888888888888888,
             "#fdca26"
            ],
            [
             1,
             "#f0f921"
            ]
           ]
          },
          "colorway": [
           "#636efa",
           "#EF553B",
           "#00cc96",
           "#ab63fa",
           "#FFA15A",
           "#19d3f3",
           "#FF6692",
           "#B6E880",
           "#FF97FF",
           "#FECB52"
          ],
          "font": {
           "color": "#2a3f5f"
          },
          "geo": {
           "bgcolor": "white",
           "lakecolor": "white",
           "landcolor": "white",
           "showlakes": true,
           "showland": true,
           "subunitcolor": "#C8D4E3"
          },
          "hoverlabel": {
           "align": "left"
          },
          "hovermode": "closest",
          "mapbox": {
           "style": "light"
          },
          "paper_bgcolor": "white",
          "plot_bgcolor": "white",
          "polar": {
           "angularaxis": {
            "gridcolor": "#EBF0F8",
            "linecolor": "#EBF0F8",
            "ticks": ""
           },
           "bgcolor": "white",
           "radialaxis": {
            "gridcolor": "#EBF0F8",
            "linecolor": "#EBF0F8",
            "ticks": ""
           }
          },
          "scene": {
           "xaxis": {
            "backgroundcolor": "white",
            "gridcolor": "#DFE8F3",
            "gridwidth": 2,
            "linecolor": "#EBF0F8",
            "showbackground": true,
            "ticks": "",
            "zerolinecolor": "#EBF0F8"
           },
           "yaxis": {
            "backgroundcolor": "white",
            "gridcolor": "#DFE8F3",
            "gridwidth": 2,
            "linecolor": "#EBF0F8",
            "showbackground": true,
            "ticks": "",
            "zerolinecolor": "#EBF0F8"
           },
           "zaxis": {
            "backgroundcolor": "white",
            "gridcolor": "#DFE8F3",
            "gridwidth": 2,
            "linecolor": "#EBF0F8",
            "showbackground": true,
            "ticks": "",
            "zerolinecolor": "#EBF0F8"
           }
          },
          "shapedefaults": {
           "line": {
            "color": "#2a3f5f"
           }
          },
          "ternary": {
           "aaxis": {
            "gridcolor": "#DFE8F3",
            "linecolor": "#A2B1C6",
            "ticks": ""
           },
           "baxis": {
            "gridcolor": "#DFE8F3",
            "linecolor": "#A2B1C6",
            "ticks": ""
           },
           "bgcolor": "white",
           "caxis": {
            "gridcolor": "#DFE8F3",
            "linecolor": "#A2B1C6",
            "ticks": ""
           }
          },
          "title": {
           "x": 0.05
          },
          "xaxis": {
           "automargin": true,
           "gridcolor": "#EBF0F8",
           "linecolor": "#EBF0F8",
           "ticks": "",
           "title": {
            "standoff": 15
           },
           "zerolinecolor": "#EBF0F8",
           "zerolinewidth": 2
          },
          "yaxis": {
           "automargin": true,
           "gridcolor": "#EBF0F8",
           "linecolor": "#EBF0F8",
           "ticks": "",
           "title": {
            "standoff": 15
           },
           "zerolinecolor": "#EBF0F8",
           "zerolinewidth": 2
          }
         }
        },
        "title": {
         "font": {
          "size": 24
         },
         "text": "Career Length Statistics by Nationality"
        },
        "xaxis": {
         "tickangle": 45,
         "title": {
          "standoff": 25,
          "text": "Nationality"
         }
        },
        "yaxis": {
         "title": {
          "text": "Career Length (years)"
         }
        }
       }
      }
     },
     "metadata": {},
     "output_type": "display_data"
    }
   ],
   "source": [
    "import plotly.graph_objects as go\n",
    "import plotly.express as px\n",
    "import pandas as pd\n",
    "\n",
    "\n",
    "\n",
    "data = {\n",
    "    'Nationality': ['American', 'Austrian', 'Czech', 'English', 'French', 'German', 'Hungarian', 'Italian', 'Russian', 'Spanish'],\n",
    "    'mean': [72.0, 57.2, 65.666667, 66.2, 69.176471, 65.588235, 69.5, 60.071429, 60.909091, 66.0],\n",
    "    'std': [19.634154, 17.573971, 7.371115, 17.242067, 12.430986, 18.668352, 7.778175, 16.909098, 13.787346, 5.656854],\n",
    "    'median': [80.0, 56.5, 63.0, 65.0, 66.0, 70.0, 69.5, 61.5, 62.0, 66.0],\n",
    "    'min': [39.0, 31.0, 60.0, 36.0, 37.0, 21.0, 64.0, 26.0, 42.0, 62.0],\n",
    "    'max': [90.0, 77.0, 74.0, 86.0, 86.0, 87.0, 75.0, 88.0, 89.0, 70.0]\n",
    "}\n",
    "df = pd.DataFrame(data)\n",
    "\n",
    "colors = px.colors.qualitative.Plotly \n",
    "\n",
    "colors += px.colors.qualitative.Alphabet \n",
    "\n",
    "color_map = {nat: colors[i] for i, nat in enumerate(df['Nationality'])}\n",
    "\n",
    "fig = go.Figure()\n",
    "\n",
    "\n",
    "fig.add_trace(go.Bar(\n",
    "    x=df['Nationality'], \n",
    "    y=df['mean'], \n",
    "    name='Mean Career Length',\n",
    "    marker_color=[color_map[nat] for nat in df['Nationality']],\n",
    "    error_y=dict(\n",
    "        type='data',\n",
    "        array=df['std'],\n",
    "        visible=True,\n",
    "        color='black'),\n",
    "    opacity=0.7\n",
    "))\n",
    "\n",
    "\n",
    "fig.add_trace(go.Scatter(\n",
    "    x=df['Nationality'], \n",
    "    y=df['median'], \n",
    "    mode='markers', \n",
    "    name='Median',\n",
    "    marker=dict(color=[color_map[nat] for nat in df['Nationality']], size=10)\n",
    "    ))\n",
    "\n",
    "fig.add_trace(go.Scatter(\n",
    "    x=df['Nationality'], \n",
    "    y=df['min'], \n",
    "    mode='markers', \n",
    "    name='Min',\n",
    "    marker=dict(color='rgba(135, 206, 250, 0.8)', size=10),\n",
    "    ))\n",
    "\n",
    "fig.add_trace(go.Scatter(\n",
    "    x=df['Nationality'], \n",
    "    y=df['max'], \n",
    "    mode='markers', \n",
    "    name='Max',\n",
    "    marker=dict(color='rgba(255, 165, 0, 0.8)', size=10)))\n",
    "\n",
    "\n",
    "fig.update_layout(\n",
    "    title='Career Length Statistics by Nationality',\n",
    "    xaxis_title='Nationality',\n",
    "    yaxis_title='Career Length (years)',\n",
    "    template='plotly_white')\n",
    "\n",
    "fig.update_layout({\n",
    "    'plot_bgcolor': 'rgba(0,0,0,0)', \n",
    "    'paper_bgcolor': 'rgba(0,0,0,0)',  \n",
    "    'title_font': {'size': 24},\n",
    "    'font_family': \"Arial, sans-serif\",   \n",
    "    'font_color': \"black\",\n",
    "    'xaxis_title': \"Nationality\",\n",
    "    'yaxis_title': \"Career Length (years)\",\n",
    "    'xaxis': {'tickangle': 45, 'title_standoff': 25},\n",
    "})\n",
    "\n",
    "fig.show()\n"
   ]
  },
  {
   "cell_type": "markdown",
   "metadata": {},
   "source": [
    "The standard devition for the career lengths among the composers of different nationalities has minimal variance for many, but not all. 40% of the data exhibits nationalites with diverse career lengths. However, the uniformity of 60% of the data gives us several insights. The small variation in the career lengths as indicated by the 'std' values suggests a consistency in the condtions that may have influenced the composers career length regardless of their nationality. In other words, there may be universal factors that influnced a chosen career as a composer, that is beyond cultural or geographical differences. \n",
    "\n",
    "The uniformity of career lengths might indicate that facts such as historical events, economic conditions, education, and resources, as well as the classical music community may have standarized the external effects on a composer's career. This could also suggest that this trend is reflected in the cultural and systemic support for composers in various countries, which suggests that classical music tradtion has a robust system in place worldwide and nurtures and sustains composer's careers. "
   ]
  }
 ],
 "metadata": {
  "kernelspec": {
   "display_name": "base",
   "language": "python",
   "name": "python3"
  },
  "language_info": {
   "codemirror_mode": {
    "name": "ipython",
    "version": 3
   },
   "file_extension": ".py",
   "mimetype": "text/x-python",
   "name": "python",
   "nbconvert_exporter": "python",
   "pygments_lexer": "ipython3",
   "version": "3.11.5"
  }
 },
 "nbformat": 4,
 "nbformat_minor": 2
}
