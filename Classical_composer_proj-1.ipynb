{
 "cells": [
  {
   "cell_type": "markdown",
   "metadata": {},
   "source": [
    "Analysis of Classical Composers and the historical context of their largest compositions..."
   ]
  },
  {
   "cell_type": "markdown",
   "metadata": {},
   "source": [
    "DATA CLEAN: Classical Composers from Kaggle"
   ]
  },
  {
   "cell_type": "code",
   "execution_count": 18,
   "metadata": {},
   "outputs": [
    {
     "data": {
      "text/html": [
       "<div>\n",
       "<style scoped>\n",
       "    .dataframe tbody tr th:only-of-type {\n",
       "        vertical-align: middle;\n",
       "    }\n",
       "\n",
       "    .dataframe tbody tr th {\n",
       "        vertical-align: top;\n",
       "    }\n",
       "\n",
       "    .dataframe thead th {\n",
       "        text-align: right;\n",
       "    }\n",
       "</style>\n",
       "<table border=\"1\" class=\"dataframe\">\n",
       "  <thead>\n",
       "    <tr style=\"text-align: right;\">\n",
       "      <th></th>\n",
       "      <th>Composer</th>\n",
       "      <th>Nationality</th>\n",
       "      <th>Born</th>\n",
       "      <th>Died</th>\n",
       "      <th>Biggest Piece</th>\n",
       "      <th>Duration of Biggest Piece(mins)</th>\n",
       "    </tr>\n",
       "  </thead>\n",
       "  <tbody>\n",
       "    <tr>\n",
       "      <th>0</th>\n",
       "      <td>NaN</td>\n",
       "      <td>NaN</td>\n",
       "      <td>NaN</td>\n",
       "      <td>NaN</td>\n",
       "      <td>NaN</td>\n",
       "      <td>NaN</td>\n",
       "    </tr>\n",
       "    <tr>\n",
       "      <th>1</th>\n",
       "      <td>Ludwig van Beethoven</td>\n",
       "      <td>German</td>\n",
       "      <td>1770.0</td>\n",
       "      <td>1791.0</td>\n",
       "      <td>Symphony No. 9</td>\n",
       "      <td>65.0</td>\n",
       "    </tr>\n",
       "    <tr>\n",
       "      <th>2</th>\n",
       "      <td>Wolfgang Amadeus Mozart</td>\n",
       "      <td>Austrian</td>\n",
       "      <td>1756.0</td>\n",
       "      <td>1791.0</td>\n",
       "      <td>Symphony No.41</td>\n",
       "      <td>33.0</td>\n",
       "    </tr>\n",
       "    <tr>\n",
       "      <th>3</th>\n",
       "      <td>Johann Sebastian Bach</td>\n",
       "      <td>German</td>\n",
       "      <td>1685.0</td>\n",
       "      <td>1750.0</td>\n",
       "      <td>Mass in B minor</td>\n",
       "      <td>125.0</td>\n",
       "    </tr>\n",
       "    <tr>\n",
       "      <th>4</th>\n",
       "      <td>Richard Wagner</td>\n",
       "      <td>German</td>\n",
       "      <td>1813.0</td>\n",
       "      <td>1883.0</td>\n",
       "      <td>Der Ring des Nibelungen</td>\n",
       "      <td>NaN</td>\n",
       "    </tr>\n",
       "  </tbody>\n",
       "</table>\n",
       "</div>"
      ],
      "text/plain": [
       "                   Composer   Nationality     Born    Died  \\\n",
       "0                       NaN            NaN     NaN     NaN   \n",
       "1      Ludwig van Beethoven      German     1770.0  1791.0   \n",
       "2  Wolfgang Amadeus Mozart        Austrian  1756.0  1791.0   \n",
       "3    Johann Sebastian Bach       German     1685.0  1750.0   \n",
       "4            Richard Wagner      German     1813.0  1883.0   \n",
       "\n",
       "             Biggest Piece  Duration of Biggest Piece(mins)  \n",
       "0                      NaN                              NaN  \n",
       "1        Symphony No. 9                                65.0  \n",
       "2           Symphony No.41                             33.0  \n",
       "3          Mass in B minor                            125.0  \n",
       "4  Der Ring des Nibelungen                              NaN  "
      ]
     },
     "execution_count": 18,
     "metadata": {},
     "output_type": "execute_result"
    }
   ],
   "source": [
    "\n",
    "import pandas as pd\n",
    "df_composers = pd.read_csv('/Users/whitneyhollman/Desktop/classical_composers.csv', encoding='ISO-8859-1')\n",
    "\n",
    "df_composers.head()"
   ]
  },
  {
   "cell_type": "code",
   "execution_count": 19,
   "metadata": {},
   "outputs": [
    {
     "data": {
      "text/html": [
       "<div>\n",
       "<style scoped>\n",
       "    .dataframe tbody tr th:only-of-type {\n",
       "        vertical-align: middle;\n",
       "    }\n",
       "\n",
       "    .dataframe tbody tr th {\n",
       "        vertical-align: top;\n",
       "    }\n",
       "\n",
       "    .dataframe thead th {\n",
       "        text-align: right;\n",
       "    }\n",
       "</style>\n",
       "<table border=\"1\" class=\"dataframe\">\n",
       "  <thead>\n",
       "    <tr style=\"text-align: right;\">\n",
       "      <th></th>\n",
       "      <th>Composer</th>\n",
       "      <th>Nationality</th>\n",
       "      <th>Born</th>\n",
       "      <th>Died</th>\n",
       "      <th>Biggest Piece</th>\n",
       "      <th>Duration of Biggest Piece(mins)</th>\n",
       "    </tr>\n",
       "  </thead>\n",
       "  <tbody>\n",
       "    <tr>\n",
       "      <th>1</th>\n",
       "      <td>Ludwig van Beethoven</td>\n",
       "      <td>German</td>\n",
       "      <td>1770.0</td>\n",
       "      <td>1791.0</td>\n",
       "      <td>Symphony No. 9</td>\n",
       "      <td>65.0</td>\n",
       "    </tr>\n",
       "    <tr>\n",
       "      <th>2</th>\n",
       "      <td>Wolfgang Amadeus Mozart</td>\n",
       "      <td>Austrian</td>\n",
       "      <td>1756.0</td>\n",
       "      <td>1791.0</td>\n",
       "      <td>Symphony No.41</td>\n",
       "      <td>33.0</td>\n",
       "    </tr>\n",
       "    <tr>\n",
       "      <th>3</th>\n",
       "      <td>Johann Sebastian Bach</td>\n",
       "      <td>German</td>\n",
       "      <td>1685.0</td>\n",
       "      <td>1750.0</td>\n",
       "      <td>Mass in B minor</td>\n",
       "      <td>125.0</td>\n",
       "    </tr>\n",
       "    <tr>\n",
       "      <th>4</th>\n",
       "      <td>Richard Wagner</td>\n",
       "      <td>German</td>\n",
       "      <td>1813.0</td>\n",
       "      <td>1883.0</td>\n",
       "      <td>Der Ring des Nibelungen</td>\n",
       "      <td>NaN</td>\n",
       "    </tr>\n",
       "    <tr>\n",
       "      <th>5</th>\n",
       "      <td>Joseph Haydn</td>\n",
       "      <td>Austrian</td>\n",
       "      <td>1732.0</td>\n",
       "      <td>1809.0</td>\n",
       "      <td>Symphony No. 45</td>\n",
       "      <td>25.0</td>\n",
       "    </tr>\n",
       "  </tbody>\n",
       "</table>\n",
       "</div>"
      ],
      "text/plain": [
       "                   Composer   Nationality     Born    Died  \\\n",
       "1      Ludwig van Beethoven      German     1770.0  1791.0   \n",
       "2  Wolfgang Amadeus Mozart        Austrian  1756.0  1791.0   \n",
       "3    Johann Sebastian Bach       German     1685.0  1750.0   \n",
       "4            Richard Wagner      German     1813.0  1883.0   \n",
       "5             Joseph Haydn        Austrian  1732.0  1809.0   \n",
       "\n",
       "             Biggest Piece  Duration of Biggest Piece(mins)  \n",
       "1        Symphony No. 9                                65.0  \n",
       "2           Symphony No.41                             33.0  \n",
       "3          Mass in B minor                            125.0  \n",
       "4  Der Ring des Nibelungen                              NaN  \n",
       "5          Symphony No. 45                             25.0  "
      ]
     },
     "execution_count": 19,
     "metadata": {},
     "output_type": "execute_result"
    }
   ],
   "source": [
    "df_composers = df_composers.drop(df_composers.index[0])\n",
    "df_composers.head()\n"
   ]
  },
  {
   "cell_type": "code",
   "execution_count": 20,
   "metadata": {},
   "outputs": [
    {
     "data": {
      "text/html": [
       "<div>\n",
       "<style scoped>\n",
       "    .dataframe tbody tr th:only-of-type {\n",
       "        vertical-align: middle;\n",
       "    }\n",
       "\n",
       "    .dataframe tbody tr th {\n",
       "        vertical-align: top;\n",
       "    }\n",
       "\n",
       "    .dataframe thead th {\n",
       "        text-align: right;\n",
       "    }\n",
       "</style>\n",
       "<table border=\"1\" class=\"dataframe\">\n",
       "  <thead>\n",
       "    <tr style=\"text-align: right;\">\n",
       "      <th></th>\n",
       "      <th>Composer</th>\n",
       "      <th>Nationality</th>\n",
       "      <th>Born</th>\n",
       "      <th>Died</th>\n",
       "      <th>Biggest Piece</th>\n",
       "      <th>Duration of Biggest Piece(mins)</th>\n",
       "    </tr>\n",
       "  </thead>\n",
       "  <tbody>\n",
       "    <tr>\n",
       "      <th>1</th>\n",
       "      <td>Ludwig van Beethoven</td>\n",
       "      <td>German</td>\n",
       "      <td>1770.0</td>\n",
       "      <td>1791.0</td>\n",
       "      <td>Symphony No. 9</td>\n",
       "      <td>65.0</td>\n",
       "    </tr>\n",
       "    <tr>\n",
       "      <th>2</th>\n",
       "      <td>Wolfgang Amadeus Mozart</td>\n",
       "      <td>Austrian</td>\n",
       "      <td>1756.0</td>\n",
       "      <td>1791.0</td>\n",
       "      <td>Symphony No.41</td>\n",
       "      <td>33.0</td>\n",
       "    </tr>\n",
       "    <tr>\n",
       "      <th>3</th>\n",
       "      <td>Johann Sebastian Bach</td>\n",
       "      <td>German</td>\n",
       "      <td>1685.0</td>\n",
       "      <td>1750.0</td>\n",
       "      <td>Mass in B minor</td>\n",
       "      <td>125.0</td>\n",
       "    </tr>\n",
       "    <tr>\n",
       "      <th>4</th>\n",
       "      <td>Richard Wagner</td>\n",
       "      <td>German</td>\n",
       "      <td>1813.0</td>\n",
       "      <td>1883.0</td>\n",
       "      <td>Der Ring des Nibelungen</td>\n",
       "      <td>NaN</td>\n",
       "    </tr>\n",
       "    <tr>\n",
       "      <th>5</th>\n",
       "      <td>Joseph Haydn</td>\n",
       "      <td>Austrian</td>\n",
       "      <td>1732.0</td>\n",
       "      <td>1809.0</td>\n",
       "      <td>Symphony No. 45</td>\n",
       "      <td>25.0</td>\n",
       "    </tr>\n",
       "    <tr>\n",
       "      <th>...</th>\n",
       "      <td>...</td>\n",
       "      <td>...</td>\n",
       "      <td>...</td>\n",
       "      <td>...</td>\n",
       "      <td>...</td>\n",
       "      <td>...</td>\n",
       "    </tr>\n",
       "    <tr>\n",
       "      <th>95</th>\n",
       "      <td>Léonin</td>\n",
       "      <td>French</td>\n",
       "      <td>1135.0</td>\n",
       "      <td>1201.0</td>\n",
       "      <td>Magnus Liber Organi</td>\n",
       "      <td>NaN</td>\n",
       "    </tr>\n",
       "    <tr>\n",
       "      <th>96</th>\n",
       "      <td>Manuel de Falla</td>\n",
       "      <td>Spanish</td>\n",
       "      <td>1876.0</td>\n",
       "      <td>1946.0</td>\n",
       "      <td>El amor brujo, Noches en los jardines de España</td>\n",
       "      <td>23.0</td>\n",
       "    </tr>\n",
       "    <tr>\n",
       "      <th>97</th>\n",
       "      <td>Hildegard von Bingen</td>\n",
       "      <td>German</td>\n",
       "      <td>1098.0</td>\n",
       "      <td>1179.0</td>\n",
       "      <td>Ordo Virtutum, Symphony of the Harmony of Cele...</td>\n",
       "      <td>NaN</td>\n",
       "    </tr>\n",
       "    <tr>\n",
       "      <th>98</th>\n",
       "      <td>Mikhail Glinka</td>\n",
       "      <td>Russian</td>\n",
       "      <td>1804.0</td>\n",
       "      <td>1857.0</td>\n",
       "      <td>A Life for the Tsar, Ruslan and Ludmila</td>\n",
       "      <td>NaN</td>\n",
       "    </tr>\n",
       "    <tr>\n",
       "      <th>99</th>\n",
       "      <td>Alexander Glazunov</td>\n",
       "      <td>Russian</td>\n",
       "      <td>1865.0</td>\n",
       "      <td>1936.0</td>\n",
       "      <td>The Seasons, Symphony No. 5</td>\n",
       "      <td>35.0</td>\n",
       "    </tr>\n",
       "  </tbody>\n",
       "</table>\n",
       "<p>99 rows × 6 columns</p>\n",
       "</div>"
      ],
      "text/plain": [
       "                    Composer   Nationality     Born    Died  \\\n",
       "1       Ludwig van Beethoven      German     1770.0  1791.0   \n",
       "2   Wolfgang Amadeus Mozart        Austrian  1756.0  1791.0   \n",
       "3     Johann Sebastian Bach       German     1685.0  1750.0   \n",
       "4             Richard Wagner      German     1813.0  1883.0   \n",
       "5              Joseph Haydn        Austrian  1732.0  1809.0   \n",
       "..                       ...            ...     ...     ...   \n",
       "95                    Léonin         French  1135.0  1201.0   \n",
       "96           Manuel de Falla        Spanish  1876.0  1946.0   \n",
       "97      Hildegard von Bingen      German     1098.0  1179.0   \n",
       "98            Mikhail Glinka        Russian  1804.0  1857.0   \n",
       "99        Alexander Glazunov        Russian  1865.0  1936.0   \n",
       "\n",
       "                                        Biggest Piece  \\\n",
       "1                                   Symphony No. 9      \n",
       "2                                      Symphony No.41   \n",
       "3                                     Mass in B minor   \n",
       "4                             Der Ring des Nibelungen   \n",
       "5                                     Symphony No. 45   \n",
       "..                                                ...   \n",
       "95                                Magnus Liber Organi   \n",
       "96    El amor brujo, Noches en los jardines de España   \n",
       "97  Ordo Virtutum, Symphony of the Harmony of Cele...   \n",
       "98            A Life for the Tsar, Ruslan and Ludmila   \n",
       "99                        The Seasons, Symphony No. 5   \n",
       "\n",
       "    Duration of Biggest Piece(mins)  \n",
       "1                              65.0  \n",
       "2                              33.0  \n",
       "3                             125.0  \n",
       "4                               NaN  \n",
       "5                              25.0  \n",
       "..                              ...  \n",
       "95                              NaN  \n",
       "96                             23.0  \n",
       "97                              NaN  \n",
       "98                              NaN  \n",
       "99                             35.0  \n",
       "\n",
       "[99 rows x 6 columns]"
      ]
     },
     "execution_count": 20,
     "metadata": {},
     "output_type": "execute_result"
    }
   ],
   "source": [
    "df_composers = df_composers.drop(100)\n",
    "df_composers\n"
   ]
  },
  {
   "cell_type": "markdown",
   "metadata": {},
   "source": [
    "EXPLORATORY DATA ANALYSIS (EDA)"
   ]
  },
  {
   "cell_type": "code",
   "execution_count": 21,
   "metadata": {},
   "outputs": [
    {
     "data": {
      "text/plain": [
       "38.4375"
      ]
     },
     "execution_count": 21,
     "metadata": {},
     "output_type": "execute_result"
    }
   ],
   "source": [
    "average_duration = df_composers['Duration of Biggest Piece(mins)'].mean()\n",
    "average_duration\n"
   ]
  },
  {
   "cell_type": "code",
   "execution_count": 22,
   "metadata": {},
   "outputs": [
    {
     "data": {
      "text/html": [
       "<div>\n",
       "<style scoped>\n",
       "    .dataframe tbody tr th:only-of-type {\n",
       "        vertical-align: middle;\n",
       "    }\n",
       "\n",
       "    .dataframe tbody tr th {\n",
       "        vertical-align: top;\n",
       "    }\n",
       "\n",
       "    .dataframe thead th {\n",
       "        text-align: right;\n",
       "    }\n",
       "</style>\n",
       "<table border=\"1\" class=\"dataframe\">\n",
       "  <thead>\n",
       "    <tr style=\"text-align: right;\">\n",
       "      <th></th>\n",
       "      <th>Composer</th>\n",
       "      <th>Nationality</th>\n",
       "      <th>Born</th>\n",
       "      <th>Died</th>\n",
       "      <th>Biggest Piece</th>\n",
       "      <th>Duration of Biggest Piece(mins)</th>\n",
       "    </tr>\n",
       "  </thead>\n",
       "  <tbody>\n",
       "    <tr>\n",
       "      <th>1</th>\n",
       "      <td>Ludwig van Beethoven</td>\n",
       "      <td>German</td>\n",
       "      <td>1770.0</td>\n",
       "      <td>1791.0</td>\n",
       "      <td>Symphony No. 9</td>\n",
       "      <td>65.0</td>\n",
       "    </tr>\n",
       "    <tr>\n",
       "      <th>2</th>\n",
       "      <td>Wolfgang Amadeus Mozart</td>\n",
       "      <td>Austrian</td>\n",
       "      <td>1756.0</td>\n",
       "      <td>1791.0</td>\n",
       "      <td>Symphony No.41</td>\n",
       "      <td>33.0</td>\n",
       "    </tr>\n",
       "    <tr>\n",
       "      <th>3</th>\n",
       "      <td>Johann Sebastian Bach</td>\n",
       "      <td>German</td>\n",
       "      <td>1685.0</td>\n",
       "      <td>1750.0</td>\n",
       "      <td>Mass in B minor</td>\n",
       "      <td>125.0</td>\n",
       "    </tr>\n",
       "    <tr>\n",
       "      <th>4</th>\n",
       "      <td>Richard Wagner</td>\n",
       "      <td>German</td>\n",
       "      <td>1813.0</td>\n",
       "      <td>1883.0</td>\n",
       "      <td>Der Ring des Nibelungen</td>\n",
       "      <td>38.4</td>\n",
       "    </tr>\n",
       "    <tr>\n",
       "      <th>5</th>\n",
       "      <td>Joseph Haydn</td>\n",
       "      <td>Austrian</td>\n",
       "      <td>1732.0</td>\n",
       "      <td>1809.0</td>\n",
       "      <td>Symphony No. 45</td>\n",
       "      <td>25.0</td>\n",
       "    </tr>\n",
       "    <tr>\n",
       "      <th>...</th>\n",
       "      <td>...</td>\n",
       "      <td>...</td>\n",
       "      <td>...</td>\n",
       "      <td>...</td>\n",
       "      <td>...</td>\n",
       "      <td>...</td>\n",
       "    </tr>\n",
       "    <tr>\n",
       "      <th>95</th>\n",
       "      <td>Léonin</td>\n",
       "      <td>French</td>\n",
       "      <td>1135.0</td>\n",
       "      <td>1201.0</td>\n",
       "      <td>Magnus Liber Organi</td>\n",
       "      <td>38.4</td>\n",
       "    </tr>\n",
       "    <tr>\n",
       "      <th>96</th>\n",
       "      <td>Manuel de Falla</td>\n",
       "      <td>Spanish</td>\n",
       "      <td>1876.0</td>\n",
       "      <td>1946.0</td>\n",
       "      <td>El amor brujo, Noches en los jardines de España</td>\n",
       "      <td>23.0</td>\n",
       "    </tr>\n",
       "    <tr>\n",
       "      <th>97</th>\n",
       "      <td>Hildegard von Bingen</td>\n",
       "      <td>German</td>\n",
       "      <td>1098.0</td>\n",
       "      <td>1179.0</td>\n",
       "      <td>Ordo Virtutum, Symphony of the Harmony of Cele...</td>\n",
       "      <td>38.4</td>\n",
       "    </tr>\n",
       "    <tr>\n",
       "      <th>98</th>\n",
       "      <td>Mikhail Glinka</td>\n",
       "      <td>Russian</td>\n",
       "      <td>1804.0</td>\n",
       "      <td>1857.0</td>\n",
       "      <td>A Life for the Tsar, Ruslan and Ludmila</td>\n",
       "      <td>38.4</td>\n",
       "    </tr>\n",
       "    <tr>\n",
       "      <th>99</th>\n",
       "      <td>Alexander Glazunov</td>\n",
       "      <td>Russian</td>\n",
       "      <td>1865.0</td>\n",
       "      <td>1936.0</td>\n",
       "      <td>The Seasons, Symphony No. 5</td>\n",
       "      <td>35.0</td>\n",
       "    </tr>\n",
       "  </tbody>\n",
       "</table>\n",
       "<p>99 rows × 6 columns</p>\n",
       "</div>"
      ],
      "text/plain": [
       "                    Composer   Nationality     Born    Died  \\\n",
       "1       Ludwig van Beethoven      German     1770.0  1791.0   \n",
       "2   Wolfgang Amadeus Mozart        Austrian  1756.0  1791.0   \n",
       "3     Johann Sebastian Bach       German     1685.0  1750.0   \n",
       "4             Richard Wagner      German     1813.0  1883.0   \n",
       "5              Joseph Haydn        Austrian  1732.0  1809.0   \n",
       "..                       ...            ...     ...     ...   \n",
       "95                    Léonin         French  1135.0  1201.0   \n",
       "96           Manuel de Falla        Spanish  1876.0  1946.0   \n",
       "97      Hildegard von Bingen      German     1098.0  1179.0   \n",
       "98            Mikhail Glinka        Russian  1804.0  1857.0   \n",
       "99        Alexander Glazunov        Russian  1865.0  1936.0   \n",
       "\n",
       "                                        Biggest Piece  \\\n",
       "1                                   Symphony No. 9      \n",
       "2                                      Symphony No.41   \n",
       "3                                     Mass in B minor   \n",
       "4                             Der Ring des Nibelungen   \n",
       "5                                     Symphony No. 45   \n",
       "..                                                ...   \n",
       "95                                Magnus Liber Organi   \n",
       "96    El amor brujo, Noches en los jardines de España   \n",
       "97  Ordo Virtutum, Symphony of the Harmony of Cele...   \n",
       "98            A Life for the Tsar, Ruslan and Ludmila   \n",
       "99                        The Seasons, Symphony No. 5   \n",
       "\n",
       "    Duration of Biggest Piece(mins)  \n",
       "1                              65.0  \n",
       "2                              33.0  \n",
       "3                             125.0  \n",
       "4                              38.4  \n",
       "5                              25.0  \n",
       "..                              ...  \n",
       "95                             38.4  \n",
       "96                             23.0  \n",
       "97                             38.4  \n",
       "98                             38.4  \n",
       "99                             35.0  \n",
       "\n",
       "[99 rows x 6 columns]"
      ]
     },
     "execution_count": 22,
     "metadata": {},
     "output_type": "execute_result"
    }
   ],
   "source": [
    "# Fill the NaN values with the average duration \n",
    "\n",
    "df_composers.fillna({'Duration of Biggest Piece(mins)': 38.4}, inplace=True)\n",
    "\n",
    "df_composers"
   ]
  },
  {
   "cell_type": "code",
   "execution_count": 23,
   "metadata": {},
   "outputs": [
    {
     "data": {
      "text/html": [
       "<div>\n",
       "<style scoped>\n",
       "    .dataframe tbody tr th:only-of-type {\n",
       "        vertical-align: middle;\n",
       "    }\n",
       "\n",
       "    .dataframe tbody tr th {\n",
       "        vertical-align: top;\n",
       "    }\n",
       "\n",
       "    .dataframe thead th {\n",
       "        text-align: right;\n",
       "    }\n",
       "</style>\n",
       "<table border=\"1\" class=\"dataframe\">\n",
       "  <thead>\n",
       "    <tr style=\"text-align: right;\">\n",
       "      <th></th>\n",
       "      <th>Composer</th>\n",
       "      <th>Nationality</th>\n",
       "      <th>Born</th>\n",
       "      <th>Died</th>\n",
       "      <th>Biggest Piece</th>\n",
       "      <th>Duration of Biggest Piece(mins)</th>\n",
       "    </tr>\n",
       "  </thead>\n",
       "  <tbody>\n",
       "    <tr>\n",
       "      <th>29</th>\n",
       "      <td>Maurice Ravel</td>\n",
       "      <td>French</td>\n",
       "      <td>1875.0</td>\n",
       "      <td>1937.0</td>\n",
       "      <td>Boléro, Daphnis et Chloé</td>\n",
       "      <td>15.0</td>\n",
       "    </tr>\n",
       "    <tr>\n",
       "      <th>50</th>\n",
       "      <td>Aaron Copland</td>\n",
       "      <td>American</td>\n",
       "      <td>1900.0</td>\n",
       "      <td>1990.0</td>\n",
       "      <td>Appalachian Spring, Fanfare for the Common Man</td>\n",
       "      <td>25.0</td>\n",
       "    </tr>\n",
       "    <tr>\n",
       "      <th>71</th>\n",
       "      <td>Alban Berg</td>\n",
       "      <td>Austrian</td>\n",
       "      <td>1885.0</td>\n",
       "      <td>1935.0</td>\n",
       "      <td>Wozzeck, Lulu</td>\n",
       "      <td>38.4</td>\n",
       "    </tr>\n",
       "    <tr>\n",
       "      <th>72</th>\n",
       "      <td>Alexander Borodin</td>\n",
       "      <td>Russian</td>\n",
       "      <td>1833.0</td>\n",
       "      <td>1887.0</td>\n",
       "      <td>Prince Igor, Polovtsian Dances</td>\n",
       "      <td>11.0</td>\n",
       "    </tr>\n",
       "    <tr>\n",
       "      <th>99</th>\n",
       "      <td>Alexander Glazunov</td>\n",
       "      <td>Russian</td>\n",
       "      <td>1865.0</td>\n",
       "      <td>1936.0</td>\n",
       "      <td>The Seasons, Symphony No. 5</td>\n",
       "      <td>35.0</td>\n",
       "    </tr>\n",
       "    <tr>\n",
       "      <th>...</th>\n",
       "      <td>...</td>\n",
       "      <td>...</td>\n",
       "      <td>...</td>\n",
       "      <td>...</td>\n",
       "      <td>...</td>\n",
       "      <td>...</td>\n",
       "    </tr>\n",
       "    <tr>\n",
       "      <th>94</th>\n",
       "      <td>Tomás Luis de Victoria</td>\n",
       "      <td>Spanish</td>\n",
       "      <td>1549.0</td>\n",
       "      <td>1611.0</td>\n",
       "      <td>Requiem, O magnum mysterium</td>\n",
       "      <td>38.4</td>\n",
       "    </tr>\n",
       "    <tr>\n",
       "      <th>73</th>\n",
       "      <td>Vincenzo Bellini</td>\n",
       "      <td>Italian</td>\n",
       "      <td>1801.0</td>\n",
       "      <td>1835.0</td>\n",
       "      <td>Norma, La Sonnambula</td>\n",
       "      <td>38.4</td>\n",
       "    </tr>\n",
       "    <tr>\n",
       "      <th>52</th>\n",
       "      <td>William Byrd</td>\n",
       "      <td>English</td>\n",
       "      <td>1539.0</td>\n",
       "      <td>1623.0</td>\n",
       "      <td>Mass for Four Voices, Ave verum corpus</td>\n",
       "      <td>38.4</td>\n",
       "    </tr>\n",
       "    <tr>\n",
       "      <th>89</th>\n",
       "      <td>William Walton</td>\n",
       "      <td>English</td>\n",
       "      <td>1902.0</td>\n",
       "      <td>1983.0</td>\n",
       "      <td>Belshazzar's Feast, Violin Concerto</td>\n",
       "      <td>35.0</td>\n",
       "    </tr>\n",
       "    <tr>\n",
       "      <th>2</th>\n",
       "      <td>Wolfgang Amadeus Mozart</td>\n",
       "      <td>Austrian</td>\n",
       "      <td>1756.0</td>\n",
       "      <td>1791.0</td>\n",
       "      <td>Symphony No.41</td>\n",
       "      <td>33.0</td>\n",
       "    </tr>\n",
       "  </tbody>\n",
       "</table>\n",
       "<p>99 rows × 6 columns</p>\n",
       "</div>"
      ],
      "text/plain": [
       "                    Composer   Nationality     Born    Died  \\\n",
       "29            Maurice Ravel          French  1875.0  1937.0   \n",
       "50             Aaron Copland       American  1900.0  1990.0   \n",
       "71               Alban Berg        Austrian  1885.0  1935.0   \n",
       "72        Alexander Borodin         Russian  1833.0  1887.0   \n",
       "99        Alexander Glazunov        Russian  1865.0  1936.0   \n",
       "..                       ...            ...     ...     ...   \n",
       "94    Tomás Luis de Victoria        Spanish  1549.0  1611.0   \n",
       "73         Vincenzo Bellini         Italian  1801.0  1835.0   \n",
       "52              William Byrd        English  1539.0  1623.0   \n",
       "89            William Walton        English  1902.0  1983.0   \n",
       "2   Wolfgang Amadeus Mozart        Austrian  1756.0  1791.0   \n",
       "\n",
       "                                     Biggest Piece  \\\n",
       "29                        Boléro, Daphnis et Chloé   \n",
       "50  Appalachian Spring, Fanfare for the Common Man   \n",
       "71                                   Wozzeck, Lulu   \n",
       "72                  Prince Igor, Polovtsian Dances   \n",
       "99                     The Seasons, Symphony No. 5   \n",
       "..                                             ...   \n",
       "94                    Requiem, O magnum mysterium    \n",
       "73                            Norma, La Sonnambula   \n",
       "52          Mass for Four Voices, Ave verum corpus   \n",
       "89             Belshazzar's Feast, Violin Concerto   \n",
       "2                                   Symphony No.41   \n",
       "\n",
       "    Duration of Biggest Piece(mins)  \n",
       "29                             15.0  \n",
       "50                             25.0  \n",
       "71                             38.4  \n",
       "72                             11.0  \n",
       "99                             35.0  \n",
       "..                              ...  \n",
       "94                             38.4  \n",
       "73                             38.4  \n",
       "52                             38.4  \n",
       "89                             35.0  \n",
       "2                              33.0  \n",
       "\n",
       "[99 rows x 6 columns]"
      ]
     },
     "execution_count": 23,
     "metadata": {},
     "output_type": "execute_result"
    }
   ],
   "source": [
    "# First we will sort by composer and the duration of their biggest piece\n",
    "\n",
    "df_composers.sort_values(by=['Composer', 'Duration of Biggest Piece(mins)'], ascending=[True, False])\n"
   ]
  },
  {
   "cell_type": "code",
   "execution_count": 24,
   "metadata": {},
   "outputs": [
    {
     "data": {
      "text/plain": [
       "1         Ludwig van Beethoven\n",
       "2     Wolfgang Amadeus Mozart \n",
       "3       Johann Sebastian Bach \n",
       "4               Richard Wagner\n",
       "5                Joseph Haydn \n",
       "                ...           \n",
       "90              Darius Milhaud\n",
       "91             Orlando Gibbons\n",
       "93               Samuel Barber\n",
       "96             Manuel de Falla\n",
       "99          Alexander Glazunov\n",
       "Name: Composer, Length: 67, dtype: object"
      ]
     },
     "execution_count": 24,
     "metadata": {},
     "output_type": "execute_result"
    }
   ],
   "source": [
    "# Group composer by duration\n",
    "\n",
    "group = df_composers['Composer'].groupby(df_composers['Duration of Biggest Piece(mins)'])\n",
    "\n",
    "group.head()\n"
   ]
  },
  {
   "cell_type": "code",
   "execution_count": 25,
   "metadata": {},
   "outputs": [
    {
     "data": {
      "text/plain": [
       "Duration of Biggest Piece(mins)\n",
       "4.0      1625.000000\n",
       "7.0      1935.000000\n",
       "8.0      1981.000000\n",
       "10.0     1825.666667\n",
       "11.0     1887.000000\n",
       "15.0     1947.500000\n",
       "17.0     1937.000000\n",
       "20.0     1933.000000\n",
       "22.0     1936.000000\n",
       "23.0     1946.000000\n",
       "24.0     1920.333333\n",
       "25.0     1928.000000\n",
       "26.0     1963.000000\n",
       "28.0     1847.000000\n",
       "30.0     1834.571429\n",
       "31.0     1886.000000\n",
       "32.0     1957.000000\n",
       "33.0     1881.000000\n",
       "35.0     1873.600000\n",
       "38.0     1945.000000\n",
       "38.4     1744.628571\n",
       "40.0     1747.600000\n",
       "45.0     1906.000000\n",
       "50.0     1967.000000\n",
       "54.0     1869.000000\n",
       "60.0     1976.000000\n",
       "64.0     1828.000000\n",
       "65.0     1791.000000\n",
       "75.0     1766.500000\n",
       "80.0     1896.000000\n",
       "125.0    1750.000000\n",
       "135.0    1701.000000\n",
       "Name: Died, dtype: float64"
      ]
     },
     "execution_count": 25,
     "metadata": {},
     "output_type": "execute_result"
    }
   ],
   "source": [
    "# What is the average duration of the biggest piece for composers who died in the same year?\n",
    "grouped = df_composers['Died'].groupby(df_composers['Duration of Biggest Piece(mins)'])\n",
    "grouped.mean()\n"
   ]
  },
  {
   "cell_type": "code",
   "execution_count": 26,
   "metadata": {},
   "outputs": [
    {
     "data": {
      "text/html": [
       "<div>\n",
       "<style scoped>\n",
       "    .dataframe tbody tr th:only-of-type {\n",
       "        vertical-align: middle;\n",
       "    }\n",
       "\n",
       "    .dataframe tbody tr th {\n",
       "        vertical-align: top;\n",
       "    }\n",
       "\n",
       "    .dataframe thead th {\n",
       "        text-align: right;\n",
       "    }\n",
       "</style>\n",
       "<table border=\"1\" class=\"dataframe\">\n",
       "  <thead>\n",
       "    <tr style=\"text-align: right;\">\n",
       "      <th></th>\n",
       "      <th>Composer</th>\n",
       "      <th>Nationality</th>\n",
       "      <th>Born</th>\n",
       "      <th>Died</th>\n",
       "      <th>Biggest Piece</th>\n",
       "      <th>Duration of Biggest Piece(mins)</th>\n",
       "    </tr>\n",
       "  </thead>\n",
       "  <tbody>\n",
       "    <tr>\n",
       "      <th>1</th>\n",
       "      <td>Ludwig van Beethoven</td>\n",
       "      <td>German</td>\n",
       "      <td>1770.0</td>\n",
       "      <td>1791.0</td>\n",
       "      <td>Symphony No. 9</td>\n",
       "      <td>65.0</td>\n",
       "    </tr>\n",
       "    <tr>\n",
       "      <th>2</th>\n",
       "      <td>Wolfgang Amadeus Mozart</td>\n",
       "      <td>Austrian</td>\n",
       "      <td>1756.0</td>\n",
       "      <td>1791.0</td>\n",
       "      <td>Symphony No.41</td>\n",
       "      <td>33.0</td>\n",
       "    </tr>\n",
       "    <tr>\n",
       "      <th>3</th>\n",
       "      <td>Johann Sebastian Bach</td>\n",
       "      <td>German</td>\n",
       "      <td>1685.0</td>\n",
       "      <td>1750.0</td>\n",
       "      <td>Mass in B minor</td>\n",
       "      <td>125.0</td>\n",
       "    </tr>\n",
       "    <tr>\n",
       "      <th>4</th>\n",
       "      <td>Richard Wagner</td>\n",
       "      <td>German</td>\n",
       "      <td>1813.0</td>\n",
       "      <td>1883.0</td>\n",
       "      <td>Der Ring des Nibelungen</td>\n",
       "      <td>38.4</td>\n",
       "    </tr>\n",
       "    <tr>\n",
       "      <th>5</th>\n",
       "      <td>Joseph Haydn</td>\n",
       "      <td>Austrian</td>\n",
       "      <td>1732.0</td>\n",
       "      <td>1809.0</td>\n",
       "      <td>Symphony No. 45</td>\n",
       "      <td>25.0</td>\n",
       "    </tr>\n",
       "    <tr>\n",
       "      <th>...</th>\n",
       "      <td>...</td>\n",
       "      <td>...</td>\n",
       "      <td>...</td>\n",
       "      <td>...</td>\n",
       "      <td>...</td>\n",
       "      <td>...</td>\n",
       "    </tr>\n",
       "    <tr>\n",
       "      <th>95</th>\n",
       "      <td>Léonin</td>\n",
       "      <td>French</td>\n",
       "      <td>1135.0</td>\n",
       "      <td>1201.0</td>\n",
       "      <td>Magnus Liber Organi</td>\n",
       "      <td>38.4</td>\n",
       "    </tr>\n",
       "    <tr>\n",
       "      <th>96</th>\n",
       "      <td>Manuel de Falla</td>\n",
       "      <td>Spanish</td>\n",
       "      <td>1876.0</td>\n",
       "      <td>1946.0</td>\n",
       "      <td>El amor brujo, Noches en los jardines de España</td>\n",
       "      <td>23.0</td>\n",
       "    </tr>\n",
       "    <tr>\n",
       "      <th>97</th>\n",
       "      <td>Hildegard von Bingen</td>\n",
       "      <td>German</td>\n",
       "      <td>1098.0</td>\n",
       "      <td>1179.0</td>\n",
       "      <td>Ordo Virtutum, Symphony of the Harmony of Cele...</td>\n",
       "      <td>38.4</td>\n",
       "    </tr>\n",
       "    <tr>\n",
       "      <th>98</th>\n",
       "      <td>Mikhail Glinka</td>\n",
       "      <td>Russian</td>\n",
       "      <td>1804.0</td>\n",
       "      <td>1857.0</td>\n",
       "      <td>A Life for the Tsar, Ruslan and Ludmila</td>\n",
       "      <td>38.4</td>\n",
       "    </tr>\n",
       "    <tr>\n",
       "      <th>99</th>\n",
       "      <td>Alexander Glazunov</td>\n",
       "      <td>Russian</td>\n",
       "      <td>1865.0</td>\n",
       "      <td>1936.0</td>\n",
       "      <td>The Seasons, Symphony No. 5</td>\n",
       "      <td>35.0</td>\n",
       "    </tr>\n",
       "  </tbody>\n",
       "</table>\n",
       "<p>98 rows × 6 columns</p>\n",
       "</div>"
      ],
      "text/plain": [
       "                    Composer   Nationality     Born    Died  \\\n",
       "1       Ludwig van Beethoven      German     1770.0  1791.0   \n",
       "2   Wolfgang Amadeus Mozart        Austrian  1756.0  1791.0   \n",
       "3     Johann Sebastian Bach       German     1685.0  1750.0   \n",
       "4             Richard Wagner      German     1813.0  1883.0   \n",
       "5              Joseph Haydn        Austrian  1732.0  1809.0   \n",
       "..                       ...            ...     ...     ...   \n",
       "95                    Léonin         French  1135.0  1201.0   \n",
       "96           Manuel de Falla        Spanish  1876.0  1946.0   \n",
       "97      Hildegard von Bingen      German     1098.0  1179.0   \n",
       "98            Mikhail Glinka        Russian  1804.0  1857.0   \n",
       "99        Alexander Glazunov        Russian  1865.0  1936.0   \n",
       "\n",
       "                                        Biggest Piece  \\\n",
       "1                                   Symphony No. 9      \n",
       "2                                      Symphony No.41   \n",
       "3                                     Mass in B minor   \n",
       "4                             Der Ring des Nibelungen   \n",
       "5                                     Symphony No. 45   \n",
       "..                                                ...   \n",
       "95                                Magnus Liber Organi   \n",
       "96    El amor brujo, Noches en los jardines de España   \n",
       "97  Ordo Virtutum, Symphony of the Harmony of Cele...   \n",
       "98            A Life for the Tsar, Ruslan and Ludmila   \n",
       "99                        The Seasons, Symphony No. 5   \n",
       "\n",
       "    Duration of Biggest Piece(mins)  \n",
       "1                              65.0  \n",
       "2                              33.0  \n",
       "3                             125.0  \n",
       "4                              38.4  \n",
       "5                              25.0  \n",
       "..                              ...  \n",
       "95                             38.4  \n",
       "96                             23.0  \n",
       "97                             38.4  \n",
       "98                             38.4  \n",
       "99                             35.0  \n",
       "\n",
       "[98 rows x 6 columns]"
      ]
     },
     "execution_count": 26,
     "metadata": {},
     "output_type": "execute_result"
    }
   ],
   "source": [
    "# Removed Composer Guillaume Dufay because his Nationality was one of two places and it was not clear which one was correct\n",
    "df_composers = df_composers[df_composers['Composer'] != 'Guillaume Dufay']\n",
    "df_composers\n"
   ]
  },
  {
   "cell_type": "markdown",
   "metadata": {},
   "source": [
    "New dataframe which includes the Composers age at their death."
   ]
  },
  {
   "cell_type": "code",
   "execution_count": 27,
   "metadata": {},
   "outputs": [
    {
     "name": "stdout",
     "output_type": "stream",
     "text": [
      "Index(['Composer', '  Nationality ', ' Born', 'Died', 'Biggest Piece',\n",
      "       'Duration of Biggest Piece(mins)'],\n",
      "      dtype='object')\n"
     ]
    },
    {
     "data": {
      "text/html": [
       "<div>\n",
       "<style scoped>\n",
       "    .dataframe tbody tr th:only-of-type {\n",
       "        vertical-align: middle;\n",
       "    }\n",
       "\n",
       "    .dataframe tbody tr th {\n",
       "        vertical-align: top;\n",
       "    }\n",
       "\n",
       "    .dataframe thead th {\n",
       "        text-align: right;\n",
       "    }\n",
       "</style>\n",
       "<table border=\"1\" class=\"dataframe\">\n",
       "  <thead>\n",
       "    <tr style=\"text-align: right;\">\n",
       "      <th></th>\n",
       "      <th>Composer</th>\n",
       "      <th>Nationality</th>\n",
       "      <th>Born</th>\n",
       "      <th>Died</th>\n",
       "      <th>Biggest Piece</th>\n",
       "      <th>Duration of Biggest Piece(mins)</th>\n",
       "      <th>AgeAtDeath</th>\n",
       "    </tr>\n",
       "  </thead>\n",
       "  <tbody>\n",
       "    <tr>\n",
       "      <th>1</th>\n",
       "      <td>Ludwig van Beethoven</td>\n",
       "      <td>German</td>\n",
       "      <td>1770.0</td>\n",
       "      <td>1791.0</td>\n",
       "      <td>Symphony No. 9</td>\n",
       "      <td>65.0</td>\n",
       "      <td>21.0</td>\n",
       "    </tr>\n",
       "    <tr>\n",
       "      <th>2</th>\n",
       "      <td>Wolfgang Amadeus Mozart</td>\n",
       "      <td>Austrian</td>\n",
       "      <td>1756.0</td>\n",
       "      <td>1791.0</td>\n",
       "      <td>Symphony No.41</td>\n",
       "      <td>33.0</td>\n",
       "      <td>35.0</td>\n",
       "    </tr>\n",
       "    <tr>\n",
       "      <th>3</th>\n",
       "      <td>Johann Sebastian Bach</td>\n",
       "      <td>German</td>\n",
       "      <td>1685.0</td>\n",
       "      <td>1750.0</td>\n",
       "      <td>Mass in B minor</td>\n",
       "      <td>125.0</td>\n",
       "      <td>65.0</td>\n",
       "    </tr>\n",
       "    <tr>\n",
       "      <th>4</th>\n",
       "      <td>Richard Wagner</td>\n",
       "      <td>German</td>\n",
       "      <td>1813.0</td>\n",
       "      <td>1883.0</td>\n",
       "      <td>Der Ring des Nibelungen</td>\n",
       "      <td>38.4</td>\n",
       "      <td>70.0</td>\n",
       "    </tr>\n",
       "    <tr>\n",
       "      <th>5</th>\n",
       "      <td>Joseph Haydn</td>\n",
       "      <td>Austrian</td>\n",
       "      <td>1732.0</td>\n",
       "      <td>1809.0</td>\n",
       "      <td>Symphony No. 45</td>\n",
       "      <td>25.0</td>\n",
       "      <td>77.0</td>\n",
       "    </tr>\n",
       "    <tr>\n",
       "      <th>...</th>\n",
       "      <td>...</td>\n",
       "      <td>...</td>\n",
       "      <td>...</td>\n",
       "      <td>...</td>\n",
       "      <td>...</td>\n",
       "      <td>...</td>\n",
       "      <td>...</td>\n",
       "    </tr>\n",
       "    <tr>\n",
       "      <th>95</th>\n",
       "      <td>Léonin</td>\n",
       "      <td>French</td>\n",
       "      <td>1135.0</td>\n",
       "      <td>1201.0</td>\n",
       "      <td>Magnus Liber Organi</td>\n",
       "      <td>38.4</td>\n",
       "      <td>66.0</td>\n",
       "    </tr>\n",
       "    <tr>\n",
       "      <th>96</th>\n",
       "      <td>Manuel de Falla</td>\n",
       "      <td>Spanish</td>\n",
       "      <td>1876.0</td>\n",
       "      <td>1946.0</td>\n",
       "      <td>El amor brujo, Noches en los jardines de España</td>\n",
       "      <td>23.0</td>\n",
       "      <td>70.0</td>\n",
       "    </tr>\n",
       "    <tr>\n",
       "      <th>97</th>\n",
       "      <td>Hildegard von Bingen</td>\n",
       "      <td>German</td>\n",
       "      <td>1098.0</td>\n",
       "      <td>1179.0</td>\n",
       "      <td>Ordo Virtutum, Symphony of the Harmony of Cele...</td>\n",
       "      <td>38.4</td>\n",
       "      <td>81.0</td>\n",
       "    </tr>\n",
       "    <tr>\n",
       "      <th>98</th>\n",
       "      <td>Mikhail Glinka</td>\n",
       "      <td>Russian</td>\n",
       "      <td>1804.0</td>\n",
       "      <td>1857.0</td>\n",
       "      <td>A Life for the Tsar, Ruslan and Ludmila</td>\n",
       "      <td>38.4</td>\n",
       "      <td>53.0</td>\n",
       "    </tr>\n",
       "    <tr>\n",
       "      <th>99</th>\n",
       "      <td>Alexander Glazunov</td>\n",
       "      <td>Russian</td>\n",
       "      <td>1865.0</td>\n",
       "      <td>1936.0</td>\n",
       "      <td>The Seasons, Symphony No. 5</td>\n",
       "      <td>35.0</td>\n",
       "      <td>71.0</td>\n",
       "    </tr>\n",
       "  </tbody>\n",
       "</table>\n",
       "<p>98 rows × 7 columns</p>\n",
       "</div>"
      ],
      "text/plain": [
       "                    Composer   Nationality     Born    Died  \\\n",
       "1       Ludwig van Beethoven      German     1770.0  1791.0   \n",
       "2   Wolfgang Amadeus Mozart        Austrian  1756.0  1791.0   \n",
       "3     Johann Sebastian Bach       German     1685.0  1750.0   \n",
       "4             Richard Wagner      German     1813.0  1883.0   \n",
       "5              Joseph Haydn        Austrian  1732.0  1809.0   \n",
       "..                       ...            ...     ...     ...   \n",
       "95                    Léonin         French  1135.0  1201.0   \n",
       "96           Manuel de Falla        Spanish  1876.0  1946.0   \n",
       "97      Hildegard von Bingen      German     1098.0  1179.0   \n",
       "98            Mikhail Glinka        Russian  1804.0  1857.0   \n",
       "99        Alexander Glazunov        Russian  1865.0  1936.0   \n",
       "\n",
       "                                        Biggest Piece  \\\n",
       "1                                   Symphony No. 9      \n",
       "2                                      Symphony No.41   \n",
       "3                                     Mass in B minor   \n",
       "4                             Der Ring des Nibelungen   \n",
       "5                                     Symphony No. 45   \n",
       "..                                                ...   \n",
       "95                                Magnus Liber Organi   \n",
       "96    El amor brujo, Noches en los jardines de España   \n",
       "97  Ordo Virtutum, Symphony of the Harmony of Cele...   \n",
       "98            A Life for the Tsar, Ruslan and Ludmila   \n",
       "99                        The Seasons, Symphony No. 5   \n",
       "\n",
       "    Duration of Biggest Piece(mins)  AgeAtDeath  \n",
       "1                              65.0        21.0  \n",
       "2                              33.0        35.0  \n",
       "3                             125.0        65.0  \n",
       "4                              38.4        70.0  \n",
       "5                              25.0        77.0  \n",
       "..                              ...         ...  \n",
       "95                             38.4        66.0  \n",
       "96                             23.0        70.0  \n",
       "97                             38.4        81.0  \n",
       "98                             38.4        53.0  \n",
       "99                             35.0        71.0  \n",
       "\n",
       "[98 rows x 7 columns]"
      ]
     },
     "execution_count": 27,
     "metadata": {},
     "output_type": "execute_result"
    }
   ],
   "source": [
    "print(df_composers.columns)\n",
    "\n",
    "subset = df_composers[df_composers['Died'] - df_composers[' Born']>15].copy()\n",
    "\n",
    "subset['AgeAtDeath'] = subset['Died' ]- subset[' Born']\n",
    "subset"
   ]
  },
  {
   "cell_type": "code",
   "execution_count": 28,
   "metadata": {},
   "outputs": [
    {
     "data": {
      "text/html": [
       "<div>\n",
       "<style scoped>\n",
       "    .dataframe tbody tr th:only-of-type {\n",
       "        vertical-align: middle;\n",
       "    }\n",
       "\n",
       "    .dataframe tbody tr th {\n",
       "        vertical-align: top;\n",
       "    }\n",
       "\n",
       "    .dataframe thead th {\n",
       "        text-align: right;\n",
       "    }\n",
       "</style>\n",
       "<table border=\"1\" class=\"dataframe\">\n",
       "  <thead>\n",
       "    <tr style=\"text-align: right;\">\n",
       "      <th></th>\n",
       "      <th>Composer</th>\n",
       "      <th>Nationality</th>\n",
       "      <th>Born</th>\n",
       "      <th>Died</th>\n",
       "      <th>Biggest Piece</th>\n",
       "      <th>Duration of Biggest Piece(mins)</th>\n",
       "      <th>AgeAtDeath</th>\n",
       "    </tr>\n",
       "  </thead>\n",
       "  <tbody>\n",
       "    <tr>\n",
       "      <th>1</th>\n",
       "      <td>Ludwig van Beethoven</td>\n",
       "      <td>German</td>\n",
       "      <td>1770.0</td>\n",
       "      <td>1791.0</td>\n",
       "      <td>Symphony No. 9</td>\n",
       "      <td>65.0</td>\n",
       "      <td>21.0</td>\n",
       "    </tr>\n",
       "    <tr>\n",
       "      <th>81</th>\n",
       "      <td>Giovanni Battista Pergolesi</td>\n",
       "      <td>Italian</td>\n",
       "      <td>1710.0</td>\n",
       "      <td>1736.0</td>\n",
       "      <td>Stabat Mater, La serva padrona</td>\n",
       "      <td>40.0</td>\n",
       "      <td>26.0</td>\n",
       "    </tr>\n",
       "    <tr>\n",
       "      <th>7</th>\n",
       "      <td>Franz Schubert</td>\n",
       "      <td>Austrian</td>\n",
       "      <td>1797.0</td>\n",
       "      <td>1828.0</td>\n",
       "      <td>Symphony No. 9</td>\n",
       "      <td>64.0</td>\n",
       "      <td>31.0</td>\n",
       "    </tr>\n",
       "    <tr>\n",
       "      <th>73</th>\n",
       "      <td>Vincenzo Bellini</td>\n",
       "      <td>Italian</td>\n",
       "      <td>1801.0</td>\n",
       "      <td>1835.0</td>\n",
       "      <td>Norma, La Sonnambula</td>\n",
       "      <td>38.4</td>\n",
       "      <td>34.0</td>\n",
       "    </tr>\n",
       "    <tr>\n",
       "      <th>2</th>\n",
       "      <td>Wolfgang Amadeus Mozart</td>\n",
       "      <td>Austrian</td>\n",
       "      <td>1756.0</td>\n",
       "      <td>1791.0</td>\n",
       "      <td>Symphony No.41</td>\n",
       "      <td>33.0</td>\n",
       "      <td>35.0</td>\n",
       "    </tr>\n",
       "    <tr>\n",
       "      <th>...</th>\n",
       "      <td>...</td>\n",
       "      <td>...</td>\n",
       "      <td>...</td>\n",
       "      <td>...</td>\n",
       "      <td>...</td>\n",
       "      <td>...</td>\n",
       "      <td>...</td>\n",
       "    </tr>\n",
       "    <tr>\n",
       "      <th>79</th>\n",
       "      <td>Heinrich Schütz</td>\n",
       "      <td>German</td>\n",
       "      <td>1585.0</td>\n",
       "      <td>1672.0</td>\n",
       "      <td>Musikalische Exequien, Psalmen Davids</td>\n",
       "      <td>38.4</td>\n",
       "      <td>87.0</td>\n",
       "    </tr>\n",
       "    <tr>\n",
       "      <th>17</th>\n",
       "      <td>Giuseppe Verdi</td>\n",
       "      <td>Italian</td>\n",
       "      <td>1813.0</td>\n",
       "      <td>1901.0</td>\n",
       "      <td>La Traviata, Rigoletto, Aida, Nabucco</td>\n",
       "      <td>38.4</td>\n",
       "      <td>88.0</td>\n",
       "    </tr>\n",
       "    <tr>\n",
       "      <th>10</th>\n",
       "      <td>Igor Stravinsky</td>\n",
       "      <td>Russian</td>\n",
       "      <td>1882.0</td>\n",
       "      <td>1971.0</td>\n",
       "      <td>The Rite of Spring</td>\n",
       "      <td>33.0</td>\n",
       "      <td>89.0</td>\n",
       "    </tr>\n",
       "    <tr>\n",
       "      <th>50</th>\n",
       "      <td>Aaron Copland</td>\n",
       "      <td>American</td>\n",
       "      <td>1900.0</td>\n",
       "      <td>1990.0</td>\n",
       "      <td>Appalachian Spring, Fanfare for the Common Man</td>\n",
       "      <td>25.0</td>\n",
       "      <td>90.0</td>\n",
       "    </tr>\n",
       "    <tr>\n",
       "      <th>28</th>\n",
       "      <td>Jean Sibelius</td>\n",
       "      <td>Finnish</td>\n",
       "      <td>1865.0</td>\n",
       "      <td>1957.0</td>\n",
       "      <td>Symphony No. 5</td>\n",
       "      <td>32.0</td>\n",
       "      <td>92.0</td>\n",
       "    </tr>\n",
       "  </tbody>\n",
       "</table>\n",
       "<p>98 rows × 7 columns</p>\n",
       "</div>"
      ],
      "text/plain": [
       "                       Composer   Nationality     Born    Died  \\\n",
       "1          Ludwig van Beethoven      German     1770.0  1791.0   \n",
       "81  Giovanni Battista Pergolesi        Italian  1710.0  1736.0   \n",
       "7               Franz Schubert        Austrian  1797.0  1828.0   \n",
       "73            Vincenzo Bellini         Italian  1801.0  1835.0   \n",
       "2      Wolfgang Amadeus Mozart        Austrian  1756.0  1791.0   \n",
       "..                          ...            ...     ...     ...   \n",
       "79              Heinrich Schütz      German     1585.0  1672.0   \n",
       "17               Giuseppe Verdi        Italian  1813.0  1901.0   \n",
       "10             Igor Stravinsky         Russian  1882.0  1971.0   \n",
       "50                Aaron Copland       American  1900.0  1990.0   \n",
       "28                Jean Sibelius        Finnish  1865.0  1957.0   \n",
       "\n",
       "                                     Biggest Piece  \\\n",
       "1                                Symphony No. 9      \n",
       "81                  Stabat Mater, La serva padrona   \n",
       "7                                 Symphony No. 9     \n",
       "73                            Norma, La Sonnambula   \n",
       "2                                   Symphony No.41   \n",
       "..                                             ...   \n",
       "79           Musikalische Exequien, Psalmen Davids   \n",
       "17           La Traviata, Rigoletto, Aida, Nabucco   \n",
       "10                             The Rite of Spring    \n",
       "50  Appalachian Spring, Fanfare for the Common Man   \n",
       "28                                  Symphony No. 5   \n",
       "\n",
       "    Duration of Biggest Piece(mins)  AgeAtDeath  \n",
       "1                              65.0        21.0  \n",
       "81                             40.0        26.0  \n",
       "7                              64.0        31.0  \n",
       "73                             38.4        34.0  \n",
       "2                              33.0        35.0  \n",
       "..                              ...         ...  \n",
       "79                             38.4        87.0  \n",
       "17                             38.4        88.0  \n",
       "10                             33.0        89.0  \n",
       "50                             25.0        90.0  \n",
       "28                             32.0        92.0  \n",
       "\n",
       "[98 rows x 7 columns]"
      ]
     },
     "execution_count": 28,
     "metadata": {},
     "output_type": "execute_result"
    }
   ],
   "source": [
    "subset_sorted = subset.sort_values(by='AgeAtDeath', ascending=True)\n",
    "subset_sorted\n"
   ]
  },
  {
   "cell_type": "code",
   "execution_count": 29,
   "metadata": {},
   "outputs": [],
   "source": [
    "subset_sorted.columns = subset_sorted.columns.str.strip()\n",
    "subset_sorted['AgeAtDeath'] = subset_sorted['Died' ]- subset_sorted['Born']"
   ]
  },
  {
   "cell_type": "code",
   "execution_count": 30,
   "metadata": {},
   "outputs": [
    {
     "name": "stdout",
     "output_type": "stream",
     "text": [
      "====  ==============  ============\n",
      "  ..  Nationality       AgeAtDeath\n",
      "====  ==============  ============\n",
      "  14  Polish               39\n",
      "   1  Austrian             57.2\n",
      "  12  Italian              60.0714\n",
      "  15  Russian              60.9091\n",
      "   8  Franco-Flemish       62\n",
      "  13  Norweigen            64\n",
      "  10  German               65.5882\n",
      "   3  Czech                65.6667\n",
      "  16  Spanish              66\n",
      "   4  Danish               66\n",
      "   5  English              66.2\n",
      "   2  Belgian              68\n",
      "   9  French               69.1765\n",
      "  11  Hungarian            69.5\n",
      "   0  American             72\n",
      "   7  Flemish              81\n",
      "   6  Finnish              92\n",
      "====  ==============  ============\n"
     ]
    }
   ],
   "source": [
    "from tabulate import tabulate\n",
    "\n",
    "average_age_at_death = subset_sorted.groupby('Nationality')['AgeAtDeath'].mean()\n",
    "average_age_at_death\n",
    "\n",
    "average_age_at_death_nationality_df = average_age_at_death.reset_index()\n",
    "\n",
    "sorted_df = average_age_at_death_nationality_df.sort_values(by='AgeAtDeath', ascending=True)\n",
    "print(tabulate(sorted_df, headers='keys', tablefmt='rst'))\n",
    "\n"
   ]
  },
  {
   "cell_type": "code",
   "execution_count": null,
   "metadata": {},
   "outputs": [],
   "source": [
    "# Data visualization for age at death by nationality\n",
    "\n",
    "import seaborn as sns\n",
    "import matplotlib.pyplot as plt\n",
    "sns.set_theme(style=\"whitegrid\")\n",
    "\n",
    "sns.catplot(\n",
    "    data = sorted_df, \n",
    "    x = 'AgeAtDeath', y='Nationality',\n",
    "    hue='AgeAtDeath',\n",
    "    kind=\"swarm\"\n",
    ")\n",
    "\n"
   ]
  },
  {
   "cell_type": "code",
   "execution_count": 32,
   "metadata": {},
   "outputs": [
    {
     "name": "stdout",
     "output_type": "stream",
     "text": [
      "Nationality : American\n",
      "            Composer  AgeAtDeath\n",
      "63  George Gershwin         39.0\n",
      "93     Samuel Barber        71.0\n",
      "47     Charles Ives         80.0\n",
      "80         John Cage        80.0\n",
      "50     Aaron Copland        90.0 \n",
      "\n",
      "Nationality : Austrian\n",
      "                    Composer  AgeAtDeath\n",
      "7            Franz Schubert         31.0\n",
      "2   Wolfgang Amadeus Mozart         35.0\n",
      "87                 Hugo Wolf        43.0\n",
      "71               Alban Berg         50.0\n",
      "18            Gustav Mahler         51.0\n",
      "61              Anton Webern        62.0\n",
      "25            Anton Bruckner        72.0\n",
      "68         Johann Strauss II        74.0\n",
      "5              Joseph Haydn         77.0\n",
      "46         Arnold Schoenberg        77.0 \n",
      "\n",
      "Nationality : Belgian\n",
      "        Composer  AgeAtDeath\n",
      "56  Cesar Franck        68.0 \n",
      "\n",
      "Nationality : Czech\n",
      "           Composer  AgeAtDeath\n",
      "55  Bedrich Smetana        60.0\n",
      "16   Antonin Dvorak        63.0\n",
      "69     Leos Janacek        74.0 \n",
      "\n",
      "Nationality : Danish\n",
      "        Composer  AgeAtDeath\n",
      "88  Carl Nielsen        66.0 \n",
      "\n",
      "Nationality : English\n",
      "                  Composer  AgeAtDeath\n",
      "33           Henry Purcell        36.0\n",
      "91         Orlando Gibbons        42.0\n",
      "83            Gustav Holst        60.0\n",
      "82            John Dowland        63.0\n",
      "54        Benjamin Britten        63.0\n",
      "35            Edward Elgar        67.0\n",
      "67           Thomas Tallis        80.0\n",
      "89          William Walton        81.0\n",
      "52            William Byrd        84.0\n",
      "30  Ralph Vaughan Williams        86.0 \n",
      "\n",
      "Nationality : Finnish\n",
      "         Composer  AgeAtDeath\n",
      "28  Jean Sibelius        92.0 \n",
      "\n",
      "Nationality : Flemish\n",
      "             Composer  AgeAtDeath\n",
      "38  Josquin Des Prez         81.0 \n",
      "\n",
      "Nationality : Franco-Flemish\n",
      "            Composer  AgeAtDeath\n",
      "62  Roland de Lassus        62.0 \n",
      "\n",
      "Nationality : French\n",
      "                Composer  AgeAtDeath\n",
      "58         Georges Bizet        37.0\n",
      "14       Claude Debussy         56.0\n",
      "53            Erik Satie        59.0\n",
      "29        Maurice Ravel         62.0\n",
      "76       Francis Poulenc        64.0\n",
      "51     Francois Couperin        65.0\n",
      "78               Pérotin        65.0\n",
      "24        Hector Berlioz        66.0\n",
      "95                Léonin        66.0\n",
      "75        Jules Massenet        70.0\n",
      "70  Guillaume de Machaut        77.0\n",
      "74        Charles Gounod        77.0\n",
      "43         Gabriel Faure        79.0\n",
      "41  Jean-Philippe Rameau        81.0\n",
      "90        Darius Milhaud        82.0\n",
      "49      Olivier Messiaen        84.0\n",
      "37   Camille Saint-Saens        86.0 \n",
      "\n",
      "Nationality : German   \n",
      "                     Composer  AgeAtDeath\n",
      "1        Ludwig van Beethoven        21.0\n",
      "13         Felix Mendelssohn         38.0\n",
      "40       Carl Maria von Weber        40.0\n",
      "11            Robert Schumann        46.0\n",
      "6             Johannes Brahms        64.0\n",
      "3      Johann Sebastian Bach         65.0\n",
      "48            Paul Hindemith         68.0\n",
      "84         Dietrich Buxtehude        70.0\n",
      "4              Richard Wagner        70.0\n",
      "92          Giacomo Meyerbeer        73.0\n",
      "45  Christoph Willibald Gluck        73.0\n",
      "65  Carl Philipp Emanuel Bach        74.0\n",
      "9     George Frideric Handel         74.0\n",
      "97       Hildegard von Bingen        81.0\n",
      "20           Richard Strauss         85.0\n",
      "60     Georg Philipp Telemann        86.0\n",
      "79            Heinrich Schütz        87.0 \n",
      "\n",
      "Nationality : Hungarian\n",
      "        Composer  AgeAtDeath\n",
      "23   Bela Bartok        64.0\n",
      "15  Franz Liszt         75.0 \n",
      "\n",
      "Nationality : Italian\n",
      "                             Composer  AgeAtDeath\n",
      "81        Giovanni Battista Pergolesi        26.0\n",
      "73                  Vincenzo Bellini         34.0\n",
      "42               Jean-Baptiste Lully         45.0\n",
      "64                  Gaetano Donizetti        51.0\n",
      "85                  Ottorino Respighi        57.0\n",
      "77                  Giovanni Gabrieli        58.0\n",
      "66                 Archangelo Corelli        60.0\n",
      "19                   Antonio Vivaldi         63.0\n",
      "32                    Giacomo Puccini        66.0\n",
      "26  Giovanni Pierluigi da Palestrina         69.0\n",
      "59                 Domenico Scarlatti        72.0\n",
      "27                 Claudio Monteverdi        76.0\n",
      "34                 Gioacchino Rossini        76.0\n",
      "17                     Giuseppe Verdi        88.0 \n",
      "\n",
      "Nationality : Norweigen\n",
      "        Composer  AgeAtDeath\n",
      "44  Edvard Grieg        64.0 \n",
      "\n",
      "Nationality : Polish\n",
      "           Composer  AgeAtDeath\n",
      "12  Frederic Chopin        39.0 \n",
      "\n",
      "Nationality : Russian\n",
      "                           Composer  AgeAtDeath\n",
      "31                Modest Mussorgsky        42.0\n",
      "57  Alexander Nikolayevich Scriabin        43.0\n",
      "98                   Mikhail Glinka        53.0\n",
      "8         Peter Ilyich Tchaikovsky         53.0\n",
      "72               Alexander Borodin         54.0\n",
      "21                  Serge Prokofiev        62.0\n",
      "39         Nikolai Rimsky-Korsakov         64.0\n",
      "22              Dmitri Shostakovich        69.0\n",
      "36              Sergei Rachmaninoff        70.0\n",
      "99               Alexander Glazunov        71.0\n",
      "10                 Igor Stravinsky         89.0 \n",
      "\n",
      "Nationality : Spanish\n",
      "                  Composer  AgeAtDeath\n",
      "94  Tomás Luis de Victoria        62.0\n",
      "96         Manuel de Falla        70.0 \n",
      "\n"
     ]
    }
   ],
   "source": [
    "# subset_sorted by nationality\n",
    "for name, group in subset_sorted.groupby('Nationality'):\n",
    "    print(f\"Nationality : {name}\")\n",
    "    print(group[['Composer', 'AgeAtDeath']], \"\\n\")"
   ]
  },
  {
   "cell_type": "code",
   "execution_count": 33,
   "metadata": {},
   "outputs": [
    {
     "name": "stdout",
     "output_type": "stream",
     "text": [
      "====  ==============  ================================  ============\n",
      "  ..  Nationality     Composer                            AgeAtDeath\n",
      "====  ==============  ================================  ============\n",
      "   1  German          Ludwig van Beethoven                        21\n",
      "  81  Italian         Giovanni Battista Pergolesi                 26\n",
      "   7  Austrian        Franz Schubert                              31\n",
      "  73  Italian         Vincenzo Bellini                            34\n",
      "   2  Austrian        Wolfgang Amadeus Mozart                     35\n",
      "  33  English         Henry Purcell                               36\n",
      "  58  French          Georges Bizet                               37\n",
      "  13  German          Felix Mendelssohn                           38\n",
      "  63  American        George Gershwin                             39\n",
      "  12  Polish          Frederic Chopin                             39\n",
      "  40  German          Carl Maria von Weber                        40\n",
      "  91  English         Orlando Gibbons                             42\n",
      "  31  Russian         Modest Mussorgsky                           42\n",
      "  57  Russian         Alexander Nikolayevich Scriabin             43\n",
      "  87  Austrian        Hugo Wolf                                   43\n",
      "  42  Italian         Jean-Baptiste Lully                         45\n",
      "  11  German          Robert Schumann                             46\n",
      "  71  Austrian        Alban Berg                                  50\n",
      "  64  Italian         Gaetano Donizetti                           51\n",
      "  18  Austrian        Gustav Mahler                               51\n",
      "  98  Russian         Mikhail Glinka                              53\n",
      "   8  Russian         Peter Ilyich Tchaikovsky                    53\n",
      "  72  Russian         Alexander Borodin                           54\n",
      "  14  French          Claude Debussy                              56\n",
      "  85  Italian         Ottorino Respighi                           57\n",
      "  77  Italian         Giovanni Gabrieli                           58\n",
      "  53  French          Erik Satie                                  59\n",
      "  55  Czech           Bedrich Smetana                             60\n",
      "  66  Italian         Archangelo Corelli                          60\n",
      "  83  English         Gustav Holst                                60\n",
      "  62  Franco-Flemish  Roland de Lassus                            62\n",
      "  94  Spanish         Tomás Luis de Victoria                      62\n",
      "  29  French          Maurice Ravel                               62\n",
      "  21  Russian         Serge Prokofiev                             62\n",
      "  61  Austrian        Anton Webern                                62\n",
      "  82  English         John Dowland                                63\n",
      "  16  Czech           Antonin Dvorak                              63\n",
      "  54  English         Benjamin Britten                            63\n",
      "  19  Italian         Antonio Vivaldi                             63\n",
      "  23  Hungarian       Bela Bartok                                 64\n",
      "  39  Russian         Nikolai Rimsky-Korsakov                     64\n",
      "   6  German          Johannes Brahms                             64\n",
      "  76  French          Francis Poulenc                             64\n",
      "  44  Norweigen       Edvard Grieg                                64\n",
      "   3  German          Johann Sebastian Bach                       65\n",
      "  51  French          Francois Couperin                           65\n",
      "  78  French          Pérotin                                     65\n",
      "  24  French          Hector Berlioz                              66\n",
      "  88  Danish          Carl Nielsen                                66\n",
      "  95  French          Léonin                                      66\n",
      "  32  Italian         Giacomo Puccini                             66\n",
      "  35  English         Edward Elgar                                67\n",
      "  48  German          Paul Hindemith                              68\n",
      "  56  Belgian         Cesar Franck                                68\n",
      "  22  Russian         Dmitri Shostakovich                         69\n",
      "  26  Italian         Giovanni Pierluigi da Palestrina            69\n",
      "  75  French          Jules Massenet                              70\n",
      "  84  German          Dietrich Buxtehude                          70\n",
      "  36  Russian         Sergei Rachmaninoff                         70\n",
      "   4  German          Richard Wagner                              70\n",
      "  96  Spanish         Manuel de Falla                             70\n",
      "  93  American        Samuel Barber                               71\n",
      "  99  Russian         Alexander Glazunov                          71\n",
      "  59  Italian         Domenico Scarlatti                          72\n",
      "  25  Austrian        Anton Bruckner                              72\n",
      "  92  German          Giacomo Meyerbeer                           73\n",
      "  45  German          Christoph Willibald Gluck                   73\n",
      "  68  Austrian        Johann Strauss II                           74\n",
      "  69  Czech           Leos Janacek                                74\n",
      "  65  German          Carl Philipp Emanuel Bach                   74\n",
      "   9  German          George Frideric Handel                      74\n",
      "  15  Hungarian       Franz Liszt                                 75\n",
      "  27  Italian         Claudio Monteverdi                          76\n",
      "  34  Italian         Gioacchino Rossini                          76\n",
      "  70  French          Guillaume de Machaut                        77\n",
      "   5  Austrian        Joseph Haydn                                77\n",
      "  46  Austrian        Arnold Schoenberg                           77\n",
      "  74  French          Charles Gounod                              77\n",
      "  43  French          Gabriel Faure                               79\n",
      "  47  American        Charles Ives                                80\n",
      "  67  English         Thomas Tallis                               80\n",
      "  80  American        John Cage                                   80\n",
      "  41  French          Jean-Philippe Rameau                        81\n",
      "  97  German          Hildegard von Bingen                        81\n",
      "  38  Flemish         Josquin Des Prez                            81\n",
      "  89  English         William Walton                              81\n",
      "  90  French          Darius Milhaud                              82\n",
      "  49  French          Olivier Messiaen                            84\n",
      "  52  English         William Byrd                                84\n",
      "  20  German          Richard Strauss                             85\n",
      "  30  English         Ralph Vaughan Williams                      86\n",
      "  60  German          Georg Philipp Telemann                      86\n",
      "  37  French          Camille Saint-Saens                         86\n",
      "  79  German          Heinrich Schütz                             87\n",
      "  17  Italian         Giuseppe Verdi                              88\n",
      "  10  Russian         Igor Stravinsky                             89\n",
      "  50  American        Aaron Copland                               90\n",
      "  28  Finnish         Jean Sibelius                               92\n",
      "====  ==============  ================================  ============\n"
     ]
    }
   ],
   "source": [
    "# Nationality of compower and time of death in ascending order\n",
    "ncd_df = subset_sorted[['Nationality', 'Composer', 'AgeAtDeath']]\n",
    "\n",
    "ncd_df_ = ncd_df.groupby('Nationality')\n",
    "print(tabulate(ncd_df, headers=\"keys\", tablefmt=\"rst\"))"
   ]
  },
  {
   "cell_type": "markdown",
   "metadata": {},
   "source": [
    "The youngest composer to die was Ludig Beethoven at the age of 21. The oldest Composer was Jean Sibelius at the age of 92. "
   ]
  },
  {
   "cell_type": "code",
   "execution_count": 34,
   "metadata": {},
   "outputs": [
    {
     "ename": "TypeError",
     "evalue": "'module' object is not callable",
     "output_type": "error",
     "traceback": [
      "\u001b[0;31m---------------------------------------------------------------------------\u001b[0m",
      "\u001b[0;31mTypeError\u001b[0m                                 Traceback (most recent call last)",
      "Cell \u001b[0;32mIn[34], line 7\u001b[0m\n\u001b[1;32m      4\u001b[0m nd_df \u001b[38;5;241m=\u001b[39m subset_sorted[[\u001b[38;5;124m'\u001b[39m\u001b[38;5;124mNationality\u001b[39m\u001b[38;5;124m'\u001b[39m, \u001b[38;5;124m'\u001b[39m\u001b[38;5;124mAgeAtDeath\u001b[39m\u001b[38;5;124m'\u001b[39m]]\n\u001b[1;32m      6\u001b[0m nd_df_ \u001b[38;5;241m=\u001b[39m nd_df\u001b[38;5;241m.\u001b[39mgroupby(\u001b[38;5;124m'\u001b[39m\u001b[38;5;124mNationality\u001b[39m\u001b[38;5;124m'\u001b[39m)\n\u001b[0;32m----> 7\u001b[0m \u001b[38;5;28mprint\u001b[39m(tabulate(nd_df, headers\u001b[38;5;241m=\u001b[39m\u001b[38;5;124m\"\u001b[39m\u001b[38;5;124mkeys\u001b[39m\u001b[38;5;124m\"\u001b[39m, tablefmt\u001b[38;5;241m=\u001b[39m\u001b[38;5;124m\"\u001b[39m\u001b[38;5;124mrst\u001b[39m\u001b[38;5;124m\"\u001b[39m))\n\u001b[1;32m     11\u001b[0m chart \u001b[38;5;241m=\u001b[39m alt\u001b[38;5;241m.\u001b[39mChart(nd_df)\u001b[38;5;241m.\u001b[39mmark_bar()\u001b[38;5;241m.\u001b[39mencode(\n\u001b[1;32m     12\u001b[0m     x\u001b[38;5;241m=\u001b[39malt\u001b[38;5;241m.\u001b[39mX(\u001b[38;5;124m'\u001b[39m\u001b[38;5;124mNationality\u001b[39m\u001b[38;5;124m'\u001b[39m, title\u001b[38;5;241m=\u001b[39m\u001b[38;5;124m'\u001b[39m\u001b[38;5;124mNationality\u001b[39m\u001b[38;5;124m'\u001b[39m),\n\u001b[1;32m     13\u001b[0m     y\u001b[38;5;241m=\u001b[39malt\u001b[38;5;241m.\u001b[39mY(\u001b[38;5;124m'\u001b[39m\u001b[38;5;124mAgeAtDeath\u001b[39m\u001b[38;5;124m'\u001b[39m, title\u001b[38;5;241m=\u001b[39m\u001b[38;5;124m'\u001b[39m\u001b[38;5;124mAge at death\u001b[39m\u001b[38;5;124m'\u001b[39m),\n\u001b[0;32m   (...)\u001b[0m\n\u001b[1;32m     17\u001b[0m     title\u001b[38;5;241m=\u001b[39m\u001b[38;5;124m'\u001b[39m\u001b[38;5;124mComposers by Nationality and Age at Death\u001b[39m\u001b[38;5;124m'\u001b[39m\n\u001b[1;32m     18\u001b[0m )\n\u001b[1;32m     20\u001b[0m chart\u001b[38;5;241m.\u001b[39mdisplay()\n",
      "\u001b[0;31mTypeError\u001b[0m: 'module' object is not callable"
     ]
    }
   ],
   "source": [
    "import altair as alt \n",
    "import tabulate as tabulate\n",
    "\n",
    "nd_df = subset_sorted[['Nationality', 'AgeAtDeath']]\n",
    "\n",
    "nd_df_ = nd_df.groupby('Nationality')\n",
    "print(tabulate(nd_df, headers=\"keys\", tablefmt=\"rst\"))\n",
    "\n",
    "\n",
    "\n",
    "chart = alt.Chart(nd_df).mark_bar().encode(\n",
    "    x=alt.X('Nationality', title='Nationality'),\n",
    "    y=alt.Y('AgeAtDeath', title='Age at death'),\n",
    "    color='Nationality',\n",
    "    tooltip=['Nationality', 'AgeAtDeath']\n",
    ").properties(\n",
    "    title='Composers by Nationality and Age at Death'\n",
    ")\n",
    "\n",
    "chart.display()"
   ]
  },
  {
   "cell_type": "markdown",
   "metadata": {},
   "source": [
    "This histogram gives us the first glance into the interplay between the composers, their country of origin, and the historical context of their compositions. A further dive into the data will hopefully reveal a deeper understanding of how historical, cultural and personal factors shaped the lifespan of these creative historical figures."
   ]
  },
  {
   "cell_type": "markdown",
   "metadata": {},
   "source": [
    "DESCRIPTIVE ANALYSIS"
   ]
  },
  {
   "cell_type": "markdown",
   "metadata": {},
   "source": [
    "Composer's Productivity Over Their Lifetime..."
   ]
  },
  {
   "cell_type": "code",
   "execution_count": null,
   "metadata": {},
   "outputs": [
    {
     "name": "stdout",
     "output_type": "stream",
     "text": [
      "Correlation Coefficient: -0.047633051463362414\n"
     ]
    }
   ],
   "source": [
    "# How does the composer lifespan correlate with their productivity? Measured by number of pieces or longest piece.\n",
    "\n",
    "correlation = subset_sorted['AgeAtDeath'].corr(subset_sorted['Duration of Biggest Piece(mins)'])\n",
    "\n",
    "print(f'Correlation Coefficient: {correlation}')\n"
   ]
  },
  {
   "cell_type": "markdown",
   "metadata": {},
   "source": [
    "With a correlation of -0.4763305 we can say that there is a negative correlation between the age of the composer and the longest piece they ever wrote. Since it is close to zero we can safely say that there is barely any relationship. How long each composer lived does not help us predict how long their longest piece was, and vice versa."
   ]
  },
  {
   "cell_type": "code",
   "execution_count": null,
   "metadata": {},
   "outputs": [
    {
     "data": {
      "text/plain": [
       "98"
      ]
     },
     "execution_count": 212,
     "metadata": {},
     "output_type": "execute_result"
    }
   ],
   "source": [
    "# There are 98 composers\n",
    "subset_sorted['Composer'].count()\n"
   ]
  },
  {
   "cell_type": "markdown",
   "metadata": {},
   "source": [
    "Summary Statistics to find any relationships between a Copmoser and the longest Piece they ever wrote. "
   ]
  },
  {
   "cell_type": "code",
   "execution_count": null,
   "metadata": {},
   "outputs": [
    {
     "data": {
      "text/plain": [
       "count     98.000000\n",
       "mean      38.408163\n",
       "std       22.314360\n",
       "min        4.000000\n",
       "25%       28.500000\n",
       "50%       38.400000\n",
       "75%       38.400000\n",
       "max      135.000000\n",
       "Name: Duration of Biggest Piece(mins), dtype: float64"
      ]
     },
     "execution_count": 213,
     "metadata": {},
     "output_type": "execute_result"
    }
   ],
   "source": [
    "# summary stats for the longest piece collectively\n",
    "subset_sorted['Duration of Biggest Piece(mins)'].describe()"
   ]
  },
  {
   "cell_type": "code",
   "execution_count": null,
   "metadata": {},
   "outputs": [
    {
     "data": {
      "text/html": [
       "<div>\n",
       "<style scoped>\n",
       "    .dataframe tbody tr th:only-of-type {\n",
       "        vertical-align: middle;\n",
       "    }\n",
       "\n",
       "    .dataframe tbody tr th {\n",
       "        vertical-align: top;\n",
       "    }\n",
       "\n",
       "    .dataframe thead th {\n",
       "        text-align: right;\n",
       "    }\n",
       "</style>\n",
       "<table border=\"1\" class=\"dataframe\">\n",
       "  <thead>\n",
       "    <tr style=\"text-align: right;\">\n",
       "      <th></th>\n",
       "      <th>count</th>\n",
       "      <th>mean</th>\n",
       "      <th>std</th>\n",
       "      <th>min</th>\n",
       "      <th>25%</th>\n",
       "      <th>50%</th>\n",
       "      <th>75%</th>\n",
       "      <th>max</th>\n",
       "    </tr>\n",
       "    <tr>\n",
       "      <th>Composer</th>\n",
       "      <th></th>\n",
       "      <th></th>\n",
       "      <th></th>\n",
       "      <th></th>\n",
       "      <th></th>\n",
       "      <th></th>\n",
       "      <th></th>\n",
       "      <th></th>\n",
       "    </tr>\n",
       "  </thead>\n",
       "  <tbody>\n",
       "    <tr>\n",
       "      <th>Maurice Ravel</th>\n",
       "      <td>1.0</td>\n",
       "      <td>15.0</td>\n",
       "      <td>NaN</td>\n",
       "      <td>15.0</td>\n",
       "      <td>15.0</td>\n",
       "      <td>15.0</td>\n",
       "      <td>15.0</td>\n",
       "      <td>15.0</td>\n",
       "    </tr>\n",
       "    <tr>\n",
       "      <th>Aaron Copland</th>\n",
       "      <td>1.0</td>\n",
       "      <td>25.0</td>\n",
       "      <td>NaN</td>\n",
       "      <td>25.0</td>\n",
       "      <td>25.0</td>\n",
       "      <td>25.0</td>\n",
       "      <td>25.0</td>\n",
       "      <td>25.0</td>\n",
       "    </tr>\n",
       "    <tr>\n",
       "      <th>Alban Berg</th>\n",
       "      <td>1.0</td>\n",
       "      <td>38.4</td>\n",
       "      <td>NaN</td>\n",
       "      <td>38.4</td>\n",
       "      <td>38.4</td>\n",
       "      <td>38.4</td>\n",
       "      <td>38.4</td>\n",
       "      <td>38.4</td>\n",
       "    </tr>\n",
       "    <tr>\n",
       "      <th>Alexander Borodin</th>\n",
       "      <td>1.0</td>\n",
       "      <td>11.0</td>\n",
       "      <td>NaN</td>\n",
       "      <td>11.0</td>\n",
       "      <td>11.0</td>\n",
       "      <td>11.0</td>\n",
       "      <td>11.0</td>\n",
       "      <td>11.0</td>\n",
       "    </tr>\n",
       "    <tr>\n",
       "      <th>Alexander Glazunov</th>\n",
       "      <td>1.0</td>\n",
       "      <td>35.0</td>\n",
       "      <td>NaN</td>\n",
       "      <td>35.0</td>\n",
       "      <td>35.0</td>\n",
       "      <td>35.0</td>\n",
       "      <td>35.0</td>\n",
       "      <td>35.0</td>\n",
       "    </tr>\n",
       "    <tr>\n",
       "      <th>...</th>\n",
       "      <td>...</td>\n",
       "      <td>...</td>\n",
       "      <td>...</td>\n",
       "      <td>...</td>\n",
       "      <td>...</td>\n",
       "      <td>...</td>\n",
       "      <td>...</td>\n",
       "      <td>...</td>\n",
       "    </tr>\n",
       "    <tr>\n",
       "      <th>Tomás Luis de Victoria</th>\n",
       "      <td>1.0</td>\n",
       "      <td>38.4</td>\n",
       "      <td>NaN</td>\n",
       "      <td>38.4</td>\n",
       "      <td>38.4</td>\n",
       "      <td>38.4</td>\n",
       "      <td>38.4</td>\n",
       "      <td>38.4</td>\n",
       "    </tr>\n",
       "    <tr>\n",
       "      <th>Vincenzo Bellini</th>\n",
       "      <td>1.0</td>\n",
       "      <td>38.4</td>\n",
       "      <td>NaN</td>\n",
       "      <td>38.4</td>\n",
       "      <td>38.4</td>\n",
       "      <td>38.4</td>\n",
       "      <td>38.4</td>\n",
       "      <td>38.4</td>\n",
       "    </tr>\n",
       "    <tr>\n",
       "      <th>William Byrd</th>\n",
       "      <td>1.0</td>\n",
       "      <td>38.4</td>\n",
       "      <td>NaN</td>\n",
       "      <td>38.4</td>\n",
       "      <td>38.4</td>\n",
       "      <td>38.4</td>\n",
       "      <td>38.4</td>\n",
       "      <td>38.4</td>\n",
       "    </tr>\n",
       "    <tr>\n",
       "      <th>William Walton</th>\n",
       "      <td>1.0</td>\n",
       "      <td>35.0</td>\n",
       "      <td>NaN</td>\n",
       "      <td>35.0</td>\n",
       "      <td>35.0</td>\n",
       "      <td>35.0</td>\n",
       "      <td>35.0</td>\n",
       "      <td>35.0</td>\n",
       "    </tr>\n",
       "    <tr>\n",
       "      <th>Wolfgang Amadeus Mozart</th>\n",
       "      <td>1.0</td>\n",
       "      <td>33.0</td>\n",
       "      <td>NaN</td>\n",
       "      <td>33.0</td>\n",
       "      <td>33.0</td>\n",
       "      <td>33.0</td>\n",
       "      <td>33.0</td>\n",
       "      <td>33.0</td>\n",
       "    </tr>\n",
       "  </tbody>\n",
       "</table>\n",
       "<p>98 rows × 8 columns</p>\n",
       "</div>"
      ],
      "text/plain": [
       "                          count  mean  std   min   25%   50%   75%   max\n",
       "Composer                                                                \n",
       " Maurice Ravel              1.0  15.0  NaN  15.0  15.0  15.0  15.0  15.0\n",
       "Aaron Copland               1.0  25.0  NaN  25.0  25.0  25.0  25.0  25.0\n",
       "Alban Berg                  1.0  38.4  NaN  38.4  38.4  38.4  38.4  38.4\n",
       "Alexander Borodin           1.0  11.0  NaN  11.0  11.0  11.0  11.0  11.0\n",
       "Alexander Glazunov          1.0  35.0  NaN  35.0  35.0  35.0  35.0  35.0\n",
       "...                         ...   ...  ...   ...   ...   ...   ...   ...\n",
       "Tomás Luis de Victoria      1.0  38.4  NaN  38.4  38.4  38.4  38.4  38.4\n",
       "Vincenzo Bellini            1.0  38.4  NaN  38.4  38.4  38.4  38.4  38.4\n",
       "William Byrd                1.0  38.4  NaN  38.4  38.4  38.4  38.4  38.4\n",
       "William Walton              1.0  35.0  NaN  35.0  35.0  35.0  35.0  35.0\n",
       "Wolfgang Amadeus Mozart     1.0  33.0  NaN  33.0  33.0  33.0  33.0  33.0\n",
       "\n",
       "[98 rows x 8 columns]"
      ]
     },
     "execution_count": 214,
     "metadata": {},
     "output_type": "execute_result"
    }
   ],
   "source": [
    "# Summary statistic for each composer's longest piece\n",
    "\n",
    "composer_summary = subset_sorted.groupby('Composer')['Duration of Biggest Piece(mins)'].describe()\n",
    "\n",
    "\n",
    "composer_summary\n"
   ]
  },
  {
   "cell_type": "markdown",
   "metadata": {},
   "source": [
    "Nationanality and Musical Output"
   ]
  },
  {
   "cell_type": "code",
   "execution_count": null,
   "metadata": {},
   "outputs": [],
   "source": [
    "composer_nationality_means = subset_sorted.groupby(['Composer', 'Nationality'])['Duration of Biggest Piece(mins)'].mean().reset_index()"
   ]
  },
  {
   "cell_type": "code",
   "execution_count": null,
   "metadata": {},
   "outputs": [],
   "source": [
    "# Sorting composers by mean duration\n",
    "composer_nationality_means_sorted = composer_nationality_means.sort_values(by='Duration of Biggest Piece(mins)', ascending=False)\n",
    "\n",
    "top_10 = composer_nationality_means_sorted.head(10)\n",
    "bottom_10 = composer_nationality_means_sorted.tail(10)\n"
   ]
  },
  {
   "cell_type": "code",
   "execution_count": null,
   "metadata": {},
   "outputs": [],
   "source": [
    "# Combining the teo into a single DataFrame\n",
    "\n",
    "top_10 = pd.concat([top_10, bottom_10], axis=0).reset_index(drop=True)"
   ]
  },
  {
   "cell_type": "code",
   "execution_count": null,
   "metadata": {},
   "outputs": [
    {
     "data": {
      "application/vnd.plotly.v1+json": {
       "config": {
        "plotlyServerURL": "https://plot.ly"
       },
       "data": [
        {
         "alignmentgroup": "True",
         "customdata": [
          [
           "German   "
          ],
          [
           "Italian"
          ],
          [
           "German   "
          ],
          [
           "Austrian"
          ],
          [
           "English"
          ],
          [
           "Russian"
          ],
          [
           "Czech"
          ],
          [
           "Franco-Flemish"
          ],
          [
           "German   "
          ],
          [
           "Austrian"
          ],
          [
           "English"
          ],
          [
           "French"
          ],
          [
           "Russian"
          ],
          [
           "French"
          ],
          [
           "French"
          ],
          [
           "English"
          ],
          [
           "American"
          ],
          [
           "French"
          ],
          [
           "Austrian"
          ],
          [
           "English"
          ]
         ],
         "hovertemplate": "Composer=%{x}<br>Mean Duration(mins)=%{marker.color}<br>Nationality=%{customdata[0]}<extra></extra>",
         "legendgroup": "",
         "marker": {
          "color": [
           135,
           135,
           125,
           80,
           75,
           75,
           75,
           75,
           65,
           64,
           15,
           15,
           11,
           10,
           10,
           10,
           8,
           7,
           7,
           4
          ],
          "coloraxis": "coloraxis",
          "pattern": {
           "shape": ""
          }
         },
         "name": "",
         "offsetgroup": "",
         "orientation": "v",
         "showlegend": false,
         "textposition": "auto",
         "type": "bar",
         "x": [
          "George Frideric Handel ",
          "Claudio Monteverdi",
          "Johann Sebastian Bach ",
          "Anton Bruckner",
          "Henry Purcell",
          "Peter Ilyich Tchaikovsky ",
          "Bedrich Smetana",
          "Roland de Lassus",
          "Ludwig van Beethoven",
          "Franz Schubert ",
          "Ralph Vaughan Williams",
          " Maurice Ravel ",
          "Alexander Borodin ",
          "Claude Debussy ",
          "Darius Milhaud",
          "Thomas Tallis",
          "Samuel Barber",
          "Erik Satie",
          "Anton Webern",
          "Orlando Gibbons"
         ],
         "xaxis": "x",
         "y": [
          135,
          135,
          125,
          80,
          75,
          75,
          75,
          75,
          65,
          64,
          15,
          15,
          11,
          10,
          10,
          10,
          8,
          7,
          7,
          4
         ],
         "yaxis": "y"
        }
       ],
       "layout": {
        "barmode": "relative",
        "coloraxis": {
         "colorbar": {
          "title": {
           "text": "Mean Duration(mins)"
          }
         },
         "colorscale": [
          [
           0,
           "#0d0887"
          ],
          [
           0.1111111111111111,
           "#46039f"
          ],
          [
           0.2222222222222222,
           "#7201a8"
          ],
          [
           0.3333333333333333,
           "#9c179e"
          ],
          [
           0.4444444444444444,
           "#bd3786"
          ],
          [
           0.5555555555555556,
           "#d8576b"
          ],
          [
           0.6666666666666666,
           "#ed7953"
          ],
          [
           0.7777777777777778,
           "#fb9f3a"
          ],
          [
           0.8888888888888888,
           "#fdca26"
          ],
          [
           1,
           "#f0f921"
          ]
         ]
        },
        "legend": {
         "tracegroupgap": 0
        },
        "template": {
         "data": {
          "bar": [
           {
            "error_x": {
             "color": "#2a3f5f"
            },
            "error_y": {
             "color": "#2a3f5f"
            },
            "marker": {
             "line": {
              "color": "white",
              "width": 0.5
             },
             "pattern": {
              "fillmode": "overlay",
              "size": 10,
              "solidity": 0.2
             }
            },
            "type": "bar"
           }
          ],
          "barpolar": [
           {
            "marker": {
             "line": {
              "color": "white",
              "width": 0.5
             },
             "pattern": {
              "fillmode": "overlay",
              "size": 10,
              "solidity": 0.2
             }
            },
            "type": "barpolar"
           }
          ],
          "carpet": [
           {
            "aaxis": {
             "endlinecolor": "#2a3f5f",
             "gridcolor": "#C8D4E3",
             "linecolor": "#C8D4E3",
             "minorgridcolor": "#C8D4E3",
             "startlinecolor": "#2a3f5f"
            },
            "baxis": {
             "endlinecolor": "#2a3f5f",
             "gridcolor": "#C8D4E3",
             "linecolor": "#C8D4E3",
             "minorgridcolor": "#C8D4E3",
             "startlinecolor": "#2a3f5f"
            },
            "type": "carpet"
           }
          ],
          "choropleth": [
           {
            "colorbar": {
             "outlinewidth": 0,
             "ticks": ""
            },
            "type": "choropleth"
           }
          ],
          "contour": [
           {
            "colorbar": {
             "outlinewidth": 0,
             "ticks": ""
            },
            "colorscale": [
             [
              0,
              "#0d0887"
             ],
             [
              0.1111111111111111,
              "#46039f"
             ],
             [
              0.2222222222222222,
              "#7201a8"
             ],
             [
              0.3333333333333333,
              "#9c179e"
             ],
             [
              0.4444444444444444,
              "#bd3786"
             ],
             [
              0.5555555555555556,
              "#d8576b"
             ],
             [
              0.6666666666666666,
              "#ed7953"
             ],
             [
              0.7777777777777778,
              "#fb9f3a"
             ],
             [
              0.8888888888888888,
              "#fdca26"
             ],
             [
              1,
              "#f0f921"
             ]
            ],
            "type": "contour"
           }
          ],
          "contourcarpet": [
           {
            "colorbar": {
             "outlinewidth": 0,
             "ticks": ""
            },
            "type": "contourcarpet"
           }
          ],
          "heatmap": [
           {
            "colorbar": {
             "outlinewidth": 0,
             "ticks": ""
            },
            "colorscale": [
             [
              0,
              "#0d0887"
             ],
             [
              0.1111111111111111,
              "#46039f"
             ],
             [
              0.2222222222222222,
              "#7201a8"
             ],
             [
              0.3333333333333333,
              "#9c179e"
             ],
             [
              0.4444444444444444,
              "#bd3786"
             ],
             [
              0.5555555555555556,
              "#d8576b"
             ],
             [
              0.6666666666666666,
              "#ed7953"
             ],
             [
              0.7777777777777778,
              "#fb9f3a"
             ],
             [
              0.8888888888888888,
              "#fdca26"
             ],
             [
              1,
              "#f0f921"
             ]
            ],
            "type": "heatmap"
           }
          ],
          "heatmapgl": [
           {
            "colorbar": {
             "outlinewidth": 0,
             "ticks": ""
            },
            "colorscale": [
             [
              0,
              "#0d0887"
             ],
             [
              0.1111111111111111,
              "#46039f"
             ],
             [
              0.2222222222222222,
              "#7201a8"
             ],
             [
              0.3333333333333333,
              "#9c179e"
             ],
             [
              0.4444444444444444,
              "#bd3786"
             ],
             [
              0.5555555555555556,
              "#d8576b"
             ],
             [
              0.6666666666666666,
              "#ed7953"
             ],
             [
              0.7777777777777778,
              "#fb9f3a"
             ],
             [
              0.8888888888888888,
              "#fdca26"
             ],
             [
              1,
              "#f0f921"
             ]
            ],
            "type": "heatmapgl"
           }
          ],
          "histogram": [
           {
            "marker": {
             "pattern": {
              "fillmode": "overlay",
              "size": 10,
              "solidity": 0.2
             }
            },
            "type": "histogram"
           }
          ],
          "histogram2d": [
           {
            "colorbar": {
             "outlinewidth": 0,
             "ticks": ""
            },
            "colorscale": [
             [
              0,
              "#0d0887"
             ],
             [
              0.1111111111111111,
              "#46039f"
             ],
             [
              0.2222222222222222,
              "#7201a8"
             ],
             [
              0.3333333333333333,
              "#9c179e"
             ],
             [
              0.4444444444444444,
              "#bd3786"
             ],
             [
              0.5555555555555556,
              "#d8576b"
             ],
             [
              0.6666666666666666,
              "#ed7953"
             ],
             [
              0.7777777777777778,
              "#fb9f3a"
             ],
             [
              0.8888888888888888,
              "#fdca26"
             ],
             [
              1,
              "#f0f921"
             ]
            ],
            "type": "histogram2d"
           }
          ],
          "histogram2dcontour": [
           {
            "colorbar": {
             "outlinewidth": 0,
             "ticks": ""
            },
            "colorscale": [
             [
              0,
              "#0d0887"
             ],
             [
              0.1111111111111111,
              "#46039f"
             ],
             [
              0.2222222222222222,
              "#7201a8"
             ],
             [
              0.3333333333333333,
              "#9c179e"
             ],
             [
              0.4444444444444444,
              "#bd3786"
             ],
             [
              0.5555555555555556,
              "#d8576b"
             ],
             [
              0.6666666666666666,
              "#ed7953"
             ],
             [
              0.7777777777777778,
              "#fb9f3a"
             ],
             [
              0.8888888888888888,
              "#fdca26"
             ],
             [
              1,
              "#f0f921"
             ]
            ],
            "type": "histogram2dcontour"
           }
          ],
          "mesh3d": [
           {
            "colorbar": {
             "outlinewidth": 0,
             "ticks": ""
            },
            "type": "mesh3d"
           }
          ],
          "parcoords": [
           {
            "line": {
             "colorbar": {
              "outlinewidth": 0,
              "ticks": ""
             }
            },
            "type": "parcoords"
           }
          ],
          "pie": [
           {
            "automargin": true,
            "type": "pie"
           }
          ],
          "scatter": [
           {
            "fillpattern": {
             "fillmode": "overlay",
             "size": 10,
             "solidity": 0.2
            },
            "type": "scatter"
           }
          ],
          "scatter3d": [
           {
            "line": {
             "colorbar": {
              "outlinewidth": 0,
              "ticks": ""
             }
            },
            "marker": {
             "colorbar": {
              "outlinewidth": 0,
              "ticks": ""
             }
            },
            "type": "scatter3d"
           }
          ],
          "scattercarpet": [
           {
            "marker": {
             "colorbar": {
              "outlinewidth": 0,
              "ticks": ""
             }
            },
            "type": "scattercarpet"
           }
          ],
          "scattergeo": [
           {
            "marker": {
             "colorbar": {
              "outlinewidth": 0,
              "ticks": ""
             }
            },
            "type": "scattergeo"
           }
          ],
          "scattergl": [
           {
            "marker": {
             "colorbar": {
              "outlinewidth": 0,
              "ticks": ""
             }
            },
            "type": "scattergl"
           }
          ],
          "scattermapbox": [
           {
            "marker": {
             "colorbar": {
              "outlinewidth": 0,
              "ticks": ""
             }
            },
            "type": "scattermapbox"
           }
          ],
          "scatterpolar": [
           {
            "marker": {
             "colorbar": {
              "outlinewidth": 0,
              "ticks": ""
             }
            },
            "type": "scatterpolar"
           }
          ],
          "scatterpolargl": [
           {
            "marker": {
             "colorbar": {
              "outlinewidth": 0,
              "ticks": ""
             }
            },
            "type": "scatterpolargl"
           }
          ],
          "scatterternary": [
           {
            "marker": {
             "colorbar": {
              "outlinewidth": 0,
              "ticks": ""
             }
            },
            "type": "scatterternary"
           }
          ],
          "surface": [
           {
            "colorbar": {
             "outlinewidth": 0,
             "ticks": ""
            },
            "colorscale": [
             [
              0,
              "#0d0887"
             ],
             [
              0.1111111111111111,
              "#46039f"
             ],
             [
              0.2222222222222222,
              "#7201a8"
             ],
             [
              0.3333333333333333,
              "#9c179e"
             ],
             [
              0.4444444444444444,
              "#bd3786"
             ],
             [
              0.5555555555555556,
              "#d8576b"
             ],
             [
              0.6666666666666666,
              "#ed7953"
             ],
             [
              0.7777777777777778,
              "#fb9f3a"
             ],
             [
              0.8888888888888888,
              "#fdca26"
             ],
             [
              1,
              "#f0f921"
             ]
            ],
            "type": "surface"
           }
          ],
          "table": [
           {
            "cells": {
             "fill": {
              "color": "#EBF0F8"
             },
             "line": {
              "color": "white"
             }
            },
            "header": {
             "fill": {
              "color": "#C8D4E3"
             },
             "line": {
              "color": "white"
             }
            },
            "type": "table"
           }
          ]
         },
         "layout": {
          "annotationdefaults": {
           "arrowcolor": "#2a3f5f",
           "arrowhead": 0,
           "arrowwidth": 1
          },
          "autotypenumbers": "strict",
          "coloraxis": {
           "colorbar": {
            "outlinewidth": 0,
            "ticks": ""
           }
          },
          "colorscale": {
           "diverging": [
            [
             0,
             "#8e0152"
            ],
            [
             0.1,
             "#c51b7d"
            ],
            [
             0.2,
             "#de77ae"
            ],
            [
             0.3,
             "#f1b6da"
            ],
            [
             0.4,
             "#fde0ef"
            ],
            [
             0.5,
             "#f7f7f7"
            ],
            [
             0.6,
             "#e6f5d0"
            ],
            [
             0.7,
             "#b8e186"
            ],
            [
             0.8,
             "#7fbc41"
            ],
            [
             0.9,
             "#4d9221"
            ],
            [
             1,
             "#276419"
            ]
           ],
           "sequential": [
            [
             0,
             "#0d0887"
            ],
            [
             0.1111111111111111,
             "#46039f"
            ],
            [
             0.2222222222222222,
             "#7201a8"
            ],
            [
             0.3333333333333333,
             "#9c179e"
            ],
            [
             0.4444444444444444,
             "#bd3786"
            ],
            [
             0.5555555555555556,
             "#d8576b"
            ],
            [
             0.6666666666666666,
             "#ed7953"
            ],
            [
             0.7777777777777778,
             "#fb9f3a"
            ],
            [
             0.8888888888888888,
             "#fdca26"
            ],
            [
             1,
             "#f0f921"
            ]
           ],
           "sequentialminus": [
            [
             0,
             "#0d0887"
            ],
            [
             0.1111111111111111,
             "#46039f"
            ],
            [
             0.2222222222222222,
             "#7201a8"
            ],
            [
             0.3333333333333333,
             "#9c179e"
            ],
            [
             0.4444444444444444,
             "#bd3786"
            ],
            [
             0.5555555555555556,
             "#d8576b"
            ],
            [
             0.6666666666666666,
             "#ed7953"
            ],
            [
             0.7777777777777778,
             "#fb9f3a"
            ],
            [
             0.8888888888888888,
             "#fdca26"
            ],
            [
             1,
             "#f0f921"
            ]
           ]
          },
          "colorway": [
           "#636efa",
           "#EF553B",
           "#00cc96",
           "#ab63fa",
           "#FFA15A",
           "#19d3f3",
           "#FF6692",
           "#B6E880",
           "#FF97FF",
           "#FECB52"
          ],
          "font": {
           "color": "#2a3f5f"
          },
          "geo": {
           "bgcolor": "white",
           "lakecolor": "white",
           "landcolor": "white",
           "showlakes": true,
           "showland": true,
           "subunitcolor": "#C8D4E3"
          },
          "hoverlabel": {
           "align": "left"
          },
          "hovermode": "closest",
          "mapbox": {
           "style": "light"
          },
          "paper_bgcolor": "white",
          "plot_bgcolor": "white",
          "polar": {
           "angularaxis": {
            "gridcolor": "#EBF0F8",
            "linecolor": "#EBF0F8",
            "ticks": ""
           },
           "bgcolor": "white",
           "radialaxis": {
            "gridcolor": "#EBF0F8",
            "linecolor": "#EBF0F8",
            "ticks": ""
           }
          },
          "scene": {
           "xaxis": {
            "backgroundcolor": "white",
            "gridcolor": "#DFE8F3",
            "gridwidth": 2,
            "linecolor": "#EBF0F8",
            "showbackground": true,
            "ticks": "",
            "zerolinecolor": "#EBF0F8"
           },
           "yaxis": {
            "backgroundcolor": "white",
            "gridcolor": "#DFE8F3",
            "gridwidth": 2,
            "linecolor": "#EBF0F8",
            "showbackground": true,
            "ticks": "",
            "zerolinecolor": "#EBF0F8"
           },
           "zaxis": {
            "backgroundcolor": "white",
            "gridcolor": "#DFE8F3",
            "gridwidth": 2,
            "linecolor": "#EBF0F8",
            "showbackground": true,
            "ticks": "",
            "zerolinecolor": "#EBF0F8"
           }
          },
          "shapedefaults": {
           "line": {
            "color": "#2a3f5f"
           }
          },
          "ternary": {
           "aaxis": {
            "gridcolor": "#DFE8F3",
            "linecolor": "#A2B1C6",
            "ticks": ""
           },
           "baxis": {
            "gridcolor": "#DFE8F3",
            "linecolor": "#A2B1C6",
            "ticks": ""
           },
           "bgcolor": "white",
           "caxis": {
            "gridcolor": "#DFE8F3",
            "linecolor": "#A2B1C6",
            "ticks": ""
           }
          },
          "title": {
           "x": 0.05
          },
          "xaxis": {
           "automargin": true,
           "gridcolor": "#EBF0F8",
           "linecolor": "#EBF0F8",
           "ticks": "",
           "title": {
            "standoff": 15
           },
           "zerolinecolor": "#EBF0F8",
           "zerolinewidth": 2
          },
          "yaxis": {
           "automargin": true,
           "gridcolor": "#EBF0F8",
           "linecolor": "#EBF0F8",
           "ticks": "",
           "title": {
            "standoff": 15
           },
           "zerolinecolor": "#EBF0F8",
           "zerolinewidth": 2
          }
         }
        },
        "title": {
         "text": "Top and Bottom 10 Composers by Mean Duration of Longest Piece"
        },
        "xaxis": {
         "anchor": "y",
         "categoryorder": "total descending",
         "domain": [
          0,
          1
         ],
         "title": {
          "text": "Composer"
         }
        },
        "yaxis": {
         "anchor": "x",
         "domain": [
          0,
          1
         ],
         "title": {
          "text": "Mean Duration (mins)"
         },
         "type": "linear"
        }
       }
      }
     },
     "metadata": {},
     "output_type": "display_data"
    }
   ],
   "source": [
    "import plotly.express as px\n",
    "\n",
    "fig_top_10 = px.bar(top_10, \n",
    "                    x='Composer',\n",
    "                    y='Duration of Biggest Piece(mins)',\n",
    "                    color = 'Duration of Biggest Piece(mins)',\n",
    "                    hover_data=['Nationality'],\n",
    "                    title='Top and Bottom 10 Composers by Mean Duration of Longest Piece', \n",
    "                    labels={'Duration of Biggest Piece(mins)': 'Mean Duration(mins)', 'Composer': 'Composer'})\n",
    "\n",
    "fig_top_10.update_layout(xaxis_title='Composer',\n",
    "                  yaxis_title='Mean Duration (mins)',\n",
    "                  xaxis={'categoryorder':'total descending'},\n",
    "                  yaxis=dict(type='linear'),\n",
    "                  template='plotly_white')\n",
    "\n",
    "fig_top_10.show()"
   ]
  },
  {
   "cell_type": "markdown",
   "metadata": {},
   "source": [
    "According to the above plot the top 10 Composers with the longest pieces are represented mostly by German/Austraian descent. Whereas, the top 10 Composers with shortes durationa were predominatly of French and English descent. One could make the conjecture that there is a  correlation between the duration of the pieces the composers create and of what nationality the composer is."
   ]
  },
  {
   "cell_type": "markdown",
   "metadata": {},
   "source": [
    "Age groups of Composers vs. the duration of their longest piece"
   ]
  },
  {
   "cell_type": "code",
   "execution_count": null,
   "metadata": {},
   "outputs": [],
   "source": [
    "viz = subset_sorted[['Composer', 'AgeAtDeath', 'Duration of Biggest Piece(mins)']].copy() \n",
    "viz\n",
    "\n",
    "# Group by age in 10s\n",
    "viz['AgeGroup'] = pd.cut(viz['AgeAtDeath'], bins=range(0, 101, 10), right=False)\n",
    "grouped_age = viz.groupby('AgeGroup').size()\n",
    "\n",
    "grouped_age\n"
   ]
  },
  {
   "cell_type": "code",
   "execution_count": null,
   "metadata": {},
   "outputs": [],
   "source": [
    "import seaborn as sns\n",
    "import matplotlib.pyplot as plt\n",
    "\n",
    "\n",
    "sns.set_theme(style=\"whitegrid\")\n",
    "\n",
    "ax =sns.catplot(\n",
    "    data = viz, \n",
    "    x = 'AgeGroup', y='Duration of Biggest Piece(mins)',\n",
    "    hue='AgeAtDeath',\n",
    "    kind=\"swarm\",\n",
    ")\n",
    "ax.set_xticklabels(rotation=60)\n",
    "\n",
    "\n"
   ]
  },
  {
   "cell_type": "markdown",
   "metadata": {},
   "source": [
    "This visualization tells us that across all age groups the average pice is 40 minutes. Composers that are less than forty years of age have pieces that are the average duration or less. It also shows that composers in the ninety and one hundred age group also write compositions that are forty minutes or less. I find it interesting that the longest pieces are written by composers in the sixty to eighty age group. From previous analysis we also know that the top three composers with longest duration are German and Italian, and withi the same previous analysis we know that the shortest pieces of composition are written by English and French composers. "
   ]
  },
  {
   "cell_type": "markdown",
   "metadata": {},
   "source": [
    "COMPARITIVE ANALYSIS"
   ]
  },
  {
   "cell_type": "markdown",
   "metadata": {},
   "source": [
    "Era vs. Composition Lengths\n",
    "\n",
    "Baroque: 1600–1750\n",
    "\n",
    "Classical: 1750–1820\n",
    "\n",
    "Romantic: 1820–1900\n",
    "\n",
    "Modern: 1900–present"
   ]
  },
  {
   "cell_type": "code",
   "execution_count": null,
   "metadata": {},
   "outputs": [
    {
     "data": {
      "text/html": [
       "<div>\n",
       "<style scoped>\n",
       "    .dataframe tbody tr th:only-of-type {\n",
       "        vertical-align: middle;\n",
       "    }\n",
       "\n",
       "    .dataframe tbody tr th {\n",
       "        vertical-align: top;\n",
       "    }\n",
       "\n",
       "    .dataframe thead th {\n",
       "        text-align: right;\n",
       "    }\n",
       "</style>\n",
       "<table border=\"1\" class=\"dataframe\">\n",
       "  <thead>\n",
       "    <tr style=\"text-align: right;\">\n",
       "      <th></th>\n",
       "      <th>Composer</th>\n",
       "      <th>Nationality</th>\n",
       "      <th>Born</th>\n",
       "      <th>Died</th>\n",
       "      <th>AgeAtDeath</th>\n",
       "      <th>Duration of Biggest Piece(mins)</th>\n",
       "    </tr>\n",
       "  </thead>\n",
       "  <tbody>\n",
       "    <tr>\n",
       "      <th>1</th>\n",
       "      <td>Ludwig van Beethoven</td>\n",
       "      <td>German</td>\n",
       "      <td>1770.0</td>\n",
       "      <td>1791.0</td>\n",
       "      <td>21.0</td>\n",
       "      <td>65.0</td>\n",
       "    </tr>\n",
       "    <tr>\n",
       "      <th>81</th>\n",
       "      <td>Giovanni Battista Pergolesi</td>\n",
       "      <td>Italian</td>\n",
       "      <td>1710.0</td>\n",
       "      <td>1736.0</td>\n",
       "      <td>26.0</td>\n",
       "      <td>40.0</td>\n",
       "    </tr>\n",
       "    <tr>\n",
       "      <th>7</th>\n",
       "      <td>Franz Schubert</td>\n",
       "      <td>Austrian</td>\n",
       "      <td>1797.0</td>\n",
       "      <td>1828.0</td>\n",
       "      <td>31.0</td>\n",
       "      <td>64.0</td>\n",
       "    </tr>\n",
       "    <tr>\n",
       "      <th>73</th>\n",
       "      <td>Vincenzo Bellini</td>\n",
       "      <td>Italian</td>\n",
       "      <td>1801.0</td>\n",
       "      <td>1835.0</td>\n",
       "      <td>34.0</td>\n",
       "      <td>38.4</td>\n",
       "    </tr>\n",
       "    <tr>\n",
       "      <th>2</th>\n",
       "      <td>Wolfgang Amadeus Mozart</td>\n",
       "      <td>Austrian</td>\n",
       "      <td>1756.0</td>\n",
       "      <td>1791.0</td>\n",
       "      <td>35.0</td>\n",
       "      <td>33.0</td>\n",
       "    </tr>\n",
       "  </tbody>\n",
       "</table>\n",
       "</div>"
      ],
      "text/plain": [
       "                       Composer Nationality    Born    Died  AgeAtDeath  \\\n",
       "1          Ludwig van Beethoven   German     1770.0  1791.0        21.0   \n",
       "81  Giovanni Battista Pergolesi     Italian  1710.0  1736.0        26.0   \n",
       "7               Franz Schubert     Austrian  1797.0  1828.0        31.0   \n",
       "73            Vincenzo Bellini      Italian  1801.0  1835.0        34.0   \n",
       "2      Wolfgang Amadeus Mozart     Austrian  1756.0  1791.0        35.0   \n",
       "\n",
       "    Duration of Biggest Piece(mins)  \n",
       "1                              65.0  \n",
       "81                             40.0  \n",
       "7                              64.0  \n",
       "73                             38.4  \n",
       "2                              33.0  "
      ]
     },
     "execution_count": 221,
     "metadata": {},
     "output_type": "execute_result"
    }
   ],
   "source": [
    "historical_era = subset_sorted[['Composer','Nationality', 'Born', 'Died', 'AgeAtDeath', 'Duration of Biggest Piece(mins)']]\n",
    "historical_era\n",
    "\n",
    "df_historical_era = pd.DataFrame(historical_era)\n",
    "df_historical_era.head()"
   ]
  },
  {
   "cell_type": "code",
   "execution_count": null,
   "metadata": {},
   "outputs": [
    {
     "data": {
      "text/html": [
       "<div>\n",
       "<style scoped>\n",
       "    .dataframe tbody tr th:only-of-type {\n",
       "        vertical-align: middle;\n",
       "    }\n",
       "\n",
       "    .dataframe tbody tr th {\n",
       "        vertical-align: top;\n",
       "    }\n",
       "\n",
       "    .dataframe thead th {\n",
       "        text-align: right;\n",
       "    }\n",
       "</style>\n",
       "<table border=\"1\" class=\"dataframe\">\n",
       "  <thead>\n",
       "    <tr style=\"text-align: right;\">\n",
       "      <th></th>\n",
       "      <th>Composer</th>\n",
       "      <th>Nationality</th>\n",
       "      <th>Born</th>\n",
       "      <th>Died</th>\n",
       "      <th>AgeAtDeath</th>\n",
       "      <th>Duration of Biggest Piece(mins)</th>\n",
       "      <th>Era</th>\n",
       "    </tr>\n",
       "  </thead>\n",
       "  <tbody>\n",
       "    <tr>\n",
       "      <th>1</th>\n",
       "      <td>Ludwig van Beethoven</td>\n",
       "      <td>German</td>\n",
       "      <td>1770.0</td>\n",
       "      <td>1791.0</td>\n",
       "      <td>21.0</td>\n",
       "      <td>65.0</td>\n",
       "      <td>Classical</td>\n",
       "    </tr>\n",
       "    <tr>\n",
       "      <th>81</th>\n",
       "      <td>Giovanni Battista Pergolesi</td>\n",
       "      <td>Italian</td>\n",
       "      <td>1710.0</td>\n",
       "      <td>1736.0</td>\n",
       "      <td>26.0</td>\n",
       "      <td>40.0</td>\n",
       "      <td>Baroque</td>\n",
       "    </tr>\n",
       "    <tr>\n",
       "      <th>7</th>\n",
       "      <td>Franz Schubert</td>\n",
       "      <td>Austrian</td>\n",
       "      <td>1797.0</td>\n",
       "      <td>1828.0</td>\n",
       "      <td>31.0</td>\n",
       "      <td>64.0</td>\n",
       "      <td>Classical</td>\n",
       "    </tr>\n",
       "    <tr>\n",
       "      <th>73</th>\n",
       "      <td>Vincenzo Bellini</td>\n",
       "      <td>Italian</td>\n",
       "      <td>1801.0</td>\n",
       "      <td>1835.0</td>\n",
       "      <td>34.0</td>\n",
       "      <td>38.4</td>\n",
       "      <td>Classical</td>\n",
       "    </tr>\n",
       "    <tr>\n",
       "      <th>2</th>\n",
       "      <td>Wolfgang Amadeus Mozart</td>\n",
       "      <td>Austrian</td>\n",
       "      <td>1756.0</td>\n",
       "      <td>1791.0</td>\n",
       "      <td>35.0</td>\n",
       "      <td>33.0</td>\n",
       "      <td>Classical</td>\n",
       "    </tr>\n",
       "  </tbody>\n",
       "</table>\n",
       "</div>"
      ],
      "text/plain": [
       "                       Composer Nationality    Born    Died  AgeAtDeath  \\\n",
       "1          Ludwig van Beethoven   German     1770.0  1791.0        21.0   \n",
       "81  Giovanni Battista Pergolesi     Italian  1710.0  1736.0        26.0   \n",
       "7               Franz Schubert     Austrian  1797.0  1828.0        31.0   \n",
       "73            Vincenzo Bellini      Italian  1801.0  1835.0        34.0   \n",
       "2      Wolfgang Amadeus Mozart     Austrian  1756.0  1791.0        35.0   \n",
       "\n",
       "    Duration of Biggest Piece(mins)        Era  \n",
       "1                              65.0  Classical  \n",
       "81                             40.0    Baroque  \n",
       "7                              64.0  Classical  \n",
       "73                             38.4  Classical  \n",
       "2                              33.0  Classical  "
      ]
     },
     "execution_count": 222,
     "metadata": {},
     "output_type": "execute_result"
    }
   ],
   "source": [
    "def categorize_era(row):\n",
    "    if row['Born'] < 1750:\n",
    "        return'Baroque'\n",
    "    elif 1750 <= row['Born'] < 1820:\n",
    "        return 'Classical'\n",
    "    elif 1820 <= row['Born'] < 1900:\n",
    "        return 'Romantic'\n",
    "    else:\n",
    "        return 'Modern'\n",
    "    \n",
    "        \n",
    "df_historical_era['Era'] = df_historical_era.apply(categorize_era, axis=1)\n",
    "df_historical_era.head()"
   ]
  },
  {
   "cell_type": "code",
   "execution_count": null,
   "metadata": {},
   "outputs": [
    {
     "data": {
      "text/html": [
       "<div>\n",
       "<style scoped>\n",
       "    .dataframe tbody tr th:only-of-type {\n",
       "        vertical-align: middle;\n",
       "    }\n",
       "\n",
       "    .dataframe tbody tr th {\n",
       "        vertical-align: top;\n",
       "    }\n",
       "\n",
       "    .dataframe thead th {\n",
       "        text-align: right;\n",
       "    }\n",
       "</style>\n",
       "<table border=\"1\" class=\"dataframe\">\n",
       "  <thead>\n",
       "    <tr style=\"text-align: right;\">\n",
       "      <th></th>\n",
       "      <th>Era</th>\n",
       "      <th>Duration of Biggest Piece(mins)</th>\n",
       "    </tr>\n",
       "  </thead>\n",
       "  <tbody>\n",
       "    <tr>\n",
       "      <th>0</th>\n",
       "      <td>Baroque</td>\n",
       "      <td>47.340000</td>\n",
       "    </tr>\n",
       "    <tr>\n",
       "      <th>1</th>\n",
       "      <td>Classical</td>\n",
       "      <td>39.682353</td>\n",
       "    </tr>\n",
       "    <tr>\n",
       "      <th>2</th>\n",
       "      <td>Modern</td>\n",
       "      <td>36.142857</td>\n",
       "    </tr>\n",
       "    <tr>\n",
       "      <th>3</th>\n",
       "      <td>Romantic</td>\n",
       "      <td>32.186364</td>\n",
       "    </tr>\n",
       "  </tbody>\n",
       "</table>\n",
       "</div>"
      ],
      "text/plain": [
       "         Era  Duration of Biggest Piece(mins)\n",
       "0    Baroque                        47.340000\n",
       "1  Classical                        39.682353\n",
       "2     Modern                        36.142857\n",
       "3   Romantic                        32.186364"
      ]
     },
     "execution_count": 223,
     "metadata": {},
     "output_type": "execute_result"
    }
   ],
   "source": [
    "agg_data = df_historical_era.groupby('Era')['Duration of Biggest Piece(mins)'].mean().reset_index()\n",
    "\n",
    "agg_data"
   ]
  },
  {
   "cell_type": "code",
   "execution_count": null,
   "metadata": {},
   "outputs": [],
   "source": [
    "# have to convert data when using altair\n",
    "\n",
    "chart_data = alt.Data(values=agg_data.to_dict('records'))"
   ]
  },
  {
   "cell_type": "code",
   "execution_count": null,
   "metadata": {},
   "outputs": [
    {
     "data": {
      "text/html": [
       "\n",
       "<style>\n",
       "  #altair-viz-0d1e3ffb62e44208a5f6dd3caeed3674.vega-embed {\n",
       "    width: 100%;\n",
       "    display: flex;\n",
       "  }\n",
       "\n",
       "  #altair-viz-0d1e3ffb62e44208a5f6dd3caeed3674.vega-embed details,\n",
       "  #altair-viz-0d1e3ffb62e44208a5f6dd3caeed3674.vega-embed details summary {\n",
       "    position: relative;\n",
       "  }\n",
       "</style>\n",
       "<div id=\"altair-viz-0d1e3ffb62e44208a5f6dd3caeed3674\"></div>\n",
       "<script type=\"text/javascript\">\n",
       "  var VEGA_DEBUG = (typeof VEGA_DEBUG == \"undefined\") ? {} : VEGA_DEBUG;\n",
       "  (function(spec, embedOpt){\n",
       "    let outputDiv = document.currentScript.previousElementSibling;\n",
       "    if (outputDiv.id !== \"altair-viz-0d1e3ffb62e44208a5f6dd3caeed3674\") {\n",
       "      outputDiv = document.getElementById(\"altair-viz-0d1e3ffb62e44208a5f6dd3caeed3674\");\n",
       "    }\n",
       "    const paths = {\n",
       "      \"vega\": \"https://cdn.jsdelivr.net/npm/vega@5?noext\",\n",
       "      \"vega-lib\": \"https://cdn.jsdelivr.net/npm/vega-lib?noext\",\n",
       "      \"vega-lite\": \"https://cdn.jsdelivr.net/npm/vega-lite@5.16.3?noext\",\n",
       "      \"vega-embed\": \"https://cdn.jsdelivr.net/npm/vega-embed@6?noext\",\n",
       "    };\n",
       "\n",
       "    function maybeLoadScript(lib, version) {\n",
       "      var key = `${lib.replace(\"-\", \"\")}_version`;\n",
       "      return (VEGA_DEBUG[key] == version) ?\n",
       "        Promise.resolve(paths[lib]) :\n",
       "        new Promise(function(resolve, reject) {\n",
       "          var s = document.createElement('script');\n",
       "          document.getElementsByTagName(\"head\")[0].appendChild(s);\n",
       "          s.async = true;\n",
       "          s.onload = () => {\n",
       "            VEGA_DEBUG[key] = version;\n",
       "            return resolve(paths[lib]);\n",
       "          };\n",
       "          s.onerror = () => reject(`Error loading script: ${paths[lib]}`);\n",
       "          s.src = paths[lib];\n",
       "        });\n",
       "    }\n",
       "\n",
       "    function showError(err) {\n",
       "      outputDiv.innerHTML = `<div class=\"error\" style=\"color:red;\">${err}</div>`;\n",
       "      throw err;\n",
       "    }\n",
       "\n",
       "    function displayChart(vegaEmbed) {\n",
       "      vegaEmbed(outputDiv, spec, embedOpt)\n",
       "        .catch(err => showError(`Javascript Error: ${err.message}<br>This usually means there's a typo in your chart specification. See the javascript console for the full traceback.`));\n",
       "    }\n",
       "\n",
       "    if(typeof define === \"function\" && define.amd) {\n",
       "      requirejs.config({paths});\n",
       "      require([\"vega-embed\"], displayChart, err => showError(`Error loading script: ${err.message}`));\n",
       "    } else {\n",
       "      maybeLoadScript(\"vega\", \"5\")\n",
       "        .then(() => maybeLoadScript(\"vega-lite\", \"5.16.3\"))\n",
       "        .then(() => maybeLoadScript(\"vega-embed\", \"6\"))\n",
       "        .catch(showError)\n",
       "        .then(() => displayChart(vegaEmbed));\n",
       "    }\n",
       "  })({\"config\": {\"view\": {\"continuousWidth\": 300, \"continuousHeight\": 300}}, \"data\": {\"values\": [{\"Era\": \"Baroque\", \"Duration of Biggest Piece(mins)\": 47.34}, {\"Era\": \"Classical\", \"Duration of Biggest Piece(mins)\": 39.682352941176475}, {\"Era\": \"Modern\", \"Duration of Biggest Piece(mins)\": 36.142857142857146}, {\"Era\": \"Romantic\", \"Duration of Biggest Piece(mins)\": 32.18636363636364}]}, \"mark\": {\"type\": \"bar\"}, \"encoding\": {\"color\": {\"field\": \"Era\", \"type\": \"nominal\"}, \"x\": {\"aggregate\": \"mean\", \"field\": \"Duration of Biggest Piece(mins)\", \"title\": \"Average Length of Longest Composition (mins)\", \"type\": \"quantitative\"}, \"y\": {\"field\": \"Era\", \"sort\": \"-x\", \"title\": \"Musical Era\", \"type\": \"nominal\"}}, \"title\": \"Average Length of Longest Compositions by Musical Era\", \"$schema\": \"https://vega.github.io/schema/vega-lite/v5.16.3.json\"}, {\"mode\": \"vega-lite\"});\n",
       "</script>"
      ],
      "text/plain": [
       "alt.Chart(...)"
      ]
     },
     "metadata": {},
     "output_type": "display_data"
    }
   ],
   "source": [
    "\n",
    "chart = alt.Chart(chart_data).mark_bar().encode(\n",
    "    y=alt.Y('Era:N', title='Musical Era', sort='-x'),  # Note the sort is now '-x'\n",
    "    x=alt.X('mean(Duration of Biggest Piece(mins)):Q', title='Average Length of Longest Composition (mins)'),\n",
    "    color='Era:N'\n",
    ").properties(title='Average Length of Longest Compositions by Musical Era')\n",
    "\n",
    "chart.display()\n"
   ]
  },
  {
   "cell_type": "markdown",
   "metadata": {},
   "source": [
    "Looking at the data from the classical music history(era), we uncover a clear trend: compositions start long and elaborate in the Baroque era, maintain length but gain clarity in the Classical period, then gradually shorten. Romantic pieces dial back on duration, favoring emotion over length. The Modern era continues this trend towards conciseness, blending brevity with innovative twists. This pattern reveals not just shifts in musical preferences but echoes broader cultural transformations over time."
   ]
  },
  {
   "cell_type": "markdown",
   "metadata": {},
   "source": [
    "Average Age of Composer at Peak Creativity per Era and Nationality"
   ]
  },
  {
   "cell_type": "code",
   "execution_count": null,
   "metadata": {},
   "outputs": [
    {
     "data": {
      "text/html": [
       "<div>\n",
       "<style scoped>\n",
       "    .dataframe tbody tr th:only-of-type {\n",
       "        vertical-align: middle;\n",
       "    }\n",
       "\n",
       "    .dataframe tbody tr th {\n",
       "        vertical-align: top;\n",
       "    }\n",
       "\n",
       "    .dataframe thead th {\n",
       "        text-align: right;\n",
       "    }\n",
       "</style>\n",
       "<table border=\"1\" class=\"dataframe\">\n",
       "  <thead>\n",
       "    <tr style=\"text-align: right;\">\n",
       "      <th></th>\n",
       "      <th>Composer</th>\n",
       "      <th>Nationality</th>\n",
       "      <th>Born</th>\n",
       "      <th>Died</th>\n",
       "      <th>Duration of Biggest Piece(mins)</th>\n",
       "      <th>AgeAtDeath</th>\n",
       "      <th>Era</th>\n",
       "    </tr>\n",
       "  </thead>\n",
       "  <tbody>\n",
       "    <tr>\n",
       "      <th>1</th>\n",
       "      <td>Ludwig van Beethoven</td>\n",
       "      <td>German</td>\n",
       "      <td>1770.0</td>\n",
       "      <td>1791.0</td>\n",
       "      <td>65.0</td>\n",
       "      <td>21.0</td>\n",
       "      <td>Classical</td>\n",
       "    </tr>\n",
       "    <tr>\n",
       "      <th>81</th>\n",
       "      <td>Giovanni Battista Pergolesi</td>\n",
       "      <td>Italian</td>\n",
       "      <td>1710.0</td>\n",
       "      <td>1736.0</td>\n",
       "      <td>40.0</td>\n",
       "      <td>26.0</td>\n",
       "      <td>Baroque</td>\n",
       "    </tr>\n",
       "    <tr>\n",
       "      <th>7</th>\n",
       "      <td>Franz Schubert</td>\n",
       "      <td>Austrian</td>\n",
       "      <td>1797.0</td>\n",
       "      <td>1828.0</td>\n",
       "      <td>64.0</td>\n",
       "      <td>31.0</td>\n",
       "      <td>Classical</td>\n",
       "    </tr>\n",
       "    <tr>\n",
       "      <th>73</th>\n",
       "      <td>Vincenzo Bellini</td>\n",
       "      <td>Italian</td>\n",
       "      <td>1801.0</td>\n",
       "      <td>1835.0</td>\n",
       "      <td>38.4</td>\n",
       "      <td>34.0</td>\n",
       "      <td>Classical</td>\n",
       "    </tr>\n",
       "    <tr>\n",
       "      <th>2</th>\n",
       "      <td>Wolfgang Amadeus Mozart</td>\n",
       "      <td>Austrian</td>\n",
       "      <td>1756.0</td>\n",
       "      <td>1791.0</td>\n",
       "      <td>33.0</td>\n",
       "      <td>35.0</td>\n",
       "      <td>Classical</td>\n",
       "    </tr>\n",
       "  </tbody>\n",
       "</table>\n",
       "</div>"
      ],
      "text/plain": [
       "                       Composer Nationality    Born    Died  \\\n",
       "1          Ludwig van Beethoven   German     1770.0  1791.0   \n",
       "81  Giovanni Battista Pergolesi     Italian  1710.0  1736.0   \n",
       "7               Franz Schubert     Austrian  1797.0  1828.0   \n",
       "73            Vincenzo Bellini      Italian  1801.0  1835.0   \n",
       "2      Wolfgang Amadeus Mozart     Austrian  1756.0  1791.0   \n",
       "\n",
       "    Duration of Biggest Piece(mins)  AgeAtDeath        Era  \n",
       "1                              65.0        21.0  Classical  \n",
       "81                             40.0        26.0    Baroque  \n",
       "7                              64.0        31.0  Classical  \n",
       "73                             38.4        34.0  Classical  \n",
       "2                              33.0        35.0  Classical  "
      ]
     },
     "execution_count": 226,
     "metadata": {},
     "output_type": "execute_result"
    }
   ],
   "source": [
    "# New dataframe \n",
    "\n",
    "peak_creativity = subset_sorted[['Composer', 'Nationality', 'Born', 'Died', 'Duration of Biggest Piece(mins)', 'AgeAtDeath']].copy()\n",
    "\n",
    "peak_creativity_df=pd.DataFrame(peak_creativity)\n",
    "peak_creativity_df.head()\n",
    "\n",
    "peak_creativity_df['Era'] = peak_creativity_df.apply(categorize_era, axis=1)\n",
    "peak_creativity_df.head()\n",
    "    \n"
   ]
  },
  {
   "cell_type": "code",
   "execution_count": null,
   "metadata": {},
   "outputs": [
    {
     "data": {
      "text/html": [
       "<div>\n",
       "<style scoped>\n",
       "    .dataframe tbody tr th:only-of-type {\n",
       "        vertical-align: middle;\n",
       "    }\n",
       "\n",
       "    .dataframe tbody tr th {\n",
       "        vertical-align: top;\n",
       "    }\n",
       "\n",
       "    .dataframe thead th {\n",
       "        text-align: right;\n",
       "    }\n",
       "</style>\n",
       "<table border=\"1\" class=\"dataframe\">\n",
       "  <thead>\n",
       "    <tr style=\"text-align: right;\">\n",
       "      <th></th>\n",
       "      <th>Era</th>\n",
       "      <th>AgeAtDeath</th>\n",
       "    </tr>\n",
       "  </thead>\n",
       "  <tbody>\n",
       "    <tr>\n",
       "      <th>0</th>\n",
       "      <td>Baroque</td>\n",
       "      <td>67.333333</td>\n",
       "    </tr>\n",
       "    <tr>\n",
       "      <th>1</th>\n",
       "      <td>Classical</td>\n",
       "      <td>53.705882</td>\n",
       "    </tr>\n",
       "    <tr>\n",
       "      <th>2</th>\n",
       "      <td>Modern</td>\n",
       "      <td>76.857143</td>\n",
       "    </tr>\n",
       "    <tr>\n",
       "      <th>3</th>\n",
       "      <td>Romantic</td>\n",
       "      <td>65.113636</td>\n",
       "    </tr>\n",
       "  </tbody>\n",
       "</table>\n",
       "</div>"
      ],
      "text/plain": [
       "         Era  AgeAtDeath\n",
       "0    Baroque   67.333333\n",
       "1  Classical   53.705882\n",
       "2     Modern   76.857143\n",
       "3   Romantic   65.113636"
      ]
     },
     "execution_count": 227,
     "metadata": {},
     "output_type": "execute_result"
    }
   ],
   "source": [
    "# What is the average age at death for each era and duration of biggest piece? \n",
    "\n",
    "era_age_at_death = peak_creativity_df.groupby('Era')['AgeAtDeath'].mean().reset_index()\n",
    "era_age_at_death"
   ]
  },
  {
   "cell_type": "code",
   "execution_count": null,
   "metadata": {},
   "outputs": [
    {
     "data": {
      "text/html": [
       "<div>\n",
       "<style scoped>\n",
       "    .dataframe tbody tr th:only-of-type {\n",
       "        vertical-align: middle;\n",
       "    }\n",
       "\n",
       "    .dataframe tbody tr th {\n",
       "        vertical-align: top;\n",
       "    }\n",
       "\n",
       "    .dataframe thead th {\n",
       "        text-align: right;\n",
       "    }\n",
       "</style>\n",
       "<table border=\"1\" class=\"dataframe\">\n",
       "  <thead>\n",
       "    <tr style=\"text-align: right;\">\n",
       "      <th></th>\n",
       "      <th>Era</th>\n",
       "      <th>Duration of Biggest Piece(mins)</th>\n",
       "      <th>AgeAtDeath</th>\n",
       "    </tr>\n",
       "  </thead>\n",
       "  <tbody>\n",
       "    <tr>\n",
       "      <th>0</th>\n",
       "      <td>Baroque</td>\n",
       "      <td>47.340000</td>\n",
       "      <td>67.333333</td>\n",
       "    </tr>\n",
       "    <tr>\n",
       "      <th>1</th>\n",
       "      <td>Classical</td>\n",
       "      <td>39.682353</td>\n",
       "      <td>53.705882</td>\n",
       "    </tr>\n",
       "    <tr>\n",
       "      <th>2</th>\n",
       "      <td>Modern</td>\n",
       "      <td>36.142857</td>\n",
       "      <td>76.857143</td>\n",
       "    </tr>\n",
       "    <tr>\n",
       "      <th>3</th>\n",
       "      <td>Romantic</td>\n",
       "      <td>32.186364</td>\n",
       "      <td>65.113636</td>\n",
       "    </tr>\n",
       "  </tbody>\n",
       "</table>\n",
       "</div>"
      ],
      "text/plain": [
       "         Era  Duration of Biggest Piece(mins)  AgeAtDeath\n",
       "0    Baroque                        47.340000   67.333333\n",
       "1  Classical                        39.682353   53.705882\n",
       "2     Modern                        36.142857   76.857143\n",
       "3   Romantic                        32.186364   65.113636"
      ]
     },
     "execution_count": 228,
     "metadata": {},
     "output_type": "execute_result"
    }
   ],
   "source": [
    "combined_era_peak = pd.merge(agg_data, era_age_at_death, on='Era', how='inner')\n",
    "combined_era_peak"
   ]
  },
  {
   "cell_type": "code",
   "execution_count": null,
   "metadata": {},
   "outputs": [
    {
     "data": {
      "text/html": [
       "<div>\n",
       "<style scoped>\n",
       "    .dataframe tbody tr th:only-of-type {\n",
       "        vertical-align: middle;\n",
       "    }\n",
       "\n",
       "    .dataframe tbody tr th {\n",
       "        vertical-align: top;\n",
       "    }\n",
       "\n",
       "    .dataframe thead th {\n",
       "        text-align: right;\n",
       "    }\n",
       "</style>\n",
       "<table border=\"1\" class=\"dataframe\">\n",
       "  <thead>\n",
       "    <tr style=\"text-align: right;\">\n",
       "      <th></th>\n",
       "      <th>Nationality</th>\n",
       "      <th>Duration of Biggest Piece(mins)</th>\n",
       "    </tr>\n",
       "  </thead>\n",
       "  <tbody>\n",
       "    <tr>\n",
       "      <th>0</th>\n",
       "      <td>American</td>\n",
       "      <td>21.000000</td>\n",
       "    </tr>\n",
       "    <tr>\n",
       "      <th>1</th>\n",
       "      <td>Austrian</td>\n",
       "      <td>38.260000</td>\n",
       "    </tr>\n",
       "    <tr>\n",
       "      <th>2</th>\n",
       "      <td>Belgian</td>\n",
       "      <td>40.000000</td>\n",
       "    </tr>\n",
       "    <tr>\n",
       "      <th>3</th>\n",
       "      <td>Czech</td>\n",
       "      <td>48.333333</td>\n",
       "    </tr>\n",
       "    <tr>\n",
       "      <th>4</th>\n",
       "      <td>Danish</td>\n",
       "      <td>35.000000</td>\n",
       "    </tr>\n",
       "    <tr>\n",
       "      <th>5</th>\n",
       "      <td>English</td>\n",
       "      <td>35.580000</td>\n",
       "    </tr>\n",
       "    <tr>\n",
       "      <th>6</th>\n",
       "      <td>Finnish</td>\n",
       "      <td>32.000000</td>\n",
       "    </tr>\n",
       "    <tr>\n",
       "      <th>7</th>\n",
       "      <td>Flemish</td>\n",
       "      <td>38.400000</td>\n",
       "    </tr>\n",
       "    <tr>\n",
       "      <th>8</th>\n",
       "      <td>Franco-Flemish</td>\n",
       "      <td>75.000000</td>\n",
       "    </tr>\n",
       "    <tr>\n",
       "      <th>9</th>\n",
       "      <td>French</td>\n",
       "      <td>31.105882</td>\n",
       "    </tr>\n",
       "    <tr>\n",
       "      <th>10</th>\n",
       "      <td>German</td>\n",
       "      <td>48.152941</td>\n",
       "    </tr>\n",
       "    <tr>\n",
       "      <th>11</th>\n",
       "      <td>Hungarian</td>\n",
       "      <td>34.500000</td>\n",
       "    </tr>\n",
       "    <tr>\n",
       "      <th>12</th>\n",
       "      <td>Italian</td>\n",
       "      <td>44.114286</td>\n",
       "    </tr>\n",
       "    <tr>\n",
       "      <th>13</th>\n",
       "      <td>Norweigen</td>\n",
       "      <td>30.000000</td>\n",
       "    </tr>\n",
       "    <tr>\n",
       "      <th>14</th>\n",
       "      <td>Polish</td>\n",
       "      <td>24.000000</td>\n",
       "    </tr>\n",
       "    <tr>\n",
       "      <th>15</th>\n",
       "      <td>Russian</td>\n",
       "      <td>36.890909</td>\n",
       "    </tr>\n",
       "    <tr>\n",
       "      <th>16</th>\n",
       "      <td>Spanish</td>\n",
       "      <td>30.700000</td>\n",
       "    </tr>\n",
       "  </tbody>\n",
       "</table>\n",
       "</div>"
      ],
      "text/plain": [
       "       Nationality  Duration of Biggest Piece(mins)\n",
       "0         American                        21.000000\n",
       "1         Austrian                        38.260000\n",
       "2          Belgian                        40.000000\n",
       "3            Czech                        48.333333\n",
       "4           Danish                        35.000000\n",
       "5          English                        35.580000\n",
       "6          Finnish                        32.000000\n",
       "7          Flemish                        38.400000\n",
       "8   Franco-Flemish                        75.000000\n",
       "9           French                        31.105882\n",
       "10       German                           48.152941\n",
       "11       Hungarian                        34.500000\n",
       "12         Italian                        44.114286\n",
       "13       Norweigen                        30.000000\n",
       "14          Polish                        24.000000\n",
       "15         Russian                        36.890909\n",
       "16         Spanish                        30.700000"
      ]
     },
     "execution_count": 229,
     "metadata": {},
     "output_type": "execute_result"
    }
   ],
   "source": [
    "nationality_peak = peak_creativity_df.groupby('Nationality')['Duration of Biggest Piece(mins)'].mean().reset_index()\n",
    "nationality_peak"
   ]
  },
  {
   "cell_type": "code",
   "execution_count": null,
   "metadata": {},
   "outputs": [],
   "source": [
    "creative_peak = df_historical_era.groupby(['Nationality', 'Era']).agg({\n",
    "    'AgeAtDeath': 'mean',\n",
    "    'Duration of Biggest Piece(mins)': 'mean'\n",
    "}).reset_index()\n",
    "\n"
   ]
  },
  {
   "cell_type": "code",
   "execution_count": null,
   "metadata": {},
   "outputs": [
    {
     "data": {
      "text/html": [
       "<div>\n",
       "<style scoped>\n",
       "    .dataframe tbody tr th:only-of-type {\n",
       "        vertical-align: middle;\n",
       "    }\n",
       "\n",
       "    .dataframe tbody tr th {\n",
       "        vertical-align: top;\n",
       "    }\n",
       "\n",
       "    .dataframe thead th {\n",
       "        text-align: right;\n",
       "    }\n",
       "</style>\n",
       "<table border=\"1\" class=\"dataframe\">\n",
       "  <thead>\n",
       "    <tr style=\"text-align: right;\">\n",
       "      <th></th>\n",
       "      <th>Nationality</th>\n",
       "      <th>Historical Era</th>\n",
       "      <th>Average Age at Death</th>\n",
       "      <th>Average Piece(mins)</th>\n",
       "    </tr>\n",
       "  </thead>\n",
       "  <tbody>\n",
       "    <tr>\n",
       "      <th>0</th>\n",
       "      <td>American</td>\n",
       "      <td>Modern</td>\n",
       "      <td>80.333333</td>\n",
       "      <td>19.333333</td>\n",
       "    </tr>\n",
       "    <tr>\n",
       "      <th>1</th>\n",
       "      <td>American</td>\n",
       "      <td>Romantic</td>\n",
       "      <td>59.500000</td>\n",
       "      <td>23.500000</td>\n",
       "    </tr>\n",
       "    <tr>\n",
       "      <th>2</th>\n",
       "      <td>Austrian</td>\n",
       "      <td>Baroque</td>\n",
       "      <td>77.000000</td>\n",
       "      <td>25.000000</td>\n",
       "    </tr>\n",
       "    <tr>\n",
       "      <th>3</th>\n",
       "      <td>Austrian</td>\n",
       "      <td>Classical</td>\n",
       "      <td>33.000000</td>\n",
       "      <td>48.500000</td>\n",
       "    </tr>\n",
       "    <tr>\n",
       "      <th>4</th>\n",
       "      <td>Austrian</td>\n",
       "      <td>Romantic</td>\n",
       "      <td>61.285714</td>\n",
       "      <td>37.228571</td>\n",
       "    </tr>\n",
       "    <tr>\n",
       "      <th>5</th>\n",
       "      <td>Belgian</td>\n",
       "      <td>Romantic</td>\n",
       "      <td>68.000000</td>\n",
       "      <td>40.000000</td>\n",
       "    </tr>\n",
       "    <tr>\n",
       "      <th>6</th>\n",
       "      <td>Czech</td>\n",
       "      <td>Romantic</td>\n",
       "      <td>65.666667</td>\n",
       "      <td>48.333333</td>\n",
       "    </tr>\n",
       "    <tr>\n",
       "      <th>7</th>\n",
       "      <td>Danish</td>\n",
       "      <td>Romantic</td>\n",
       "      <td>66.000000</td>\n",
       "      <td>35.000000</td>\n",
       "    </tr>\n",
       "    <tr>\n",
       "      <th>8</th>\n",
       "      <td>English</td>\n",
       "      <td>Baroque</td>\n",
       "      <td>61.000000</td>\n",
       "      <td>33.160000</td>\n",
       "    </tr>\n",
       "    <tr>\n",
       "      <th>9</th>\n",
       "      <td>English</td>\n",
       "      <td>Modern</td>\n",
       "      <td>72.000000</td>\n",
       "      <td>47.500000</td>\n",
       "    </tr>\n",
       "    <tr>\n",
       "      <th>10</th>\n",
       "      <td>English</td>\n",
       "      <td>Romantic</td>\n",
       "      <td>71.000000</td>\n",
       "      <td>31.666667</td>\n",
       "    </tr>\n",
       "    <tr>\n",
       "      <th>11</th>\n",
       "      <td>Finnish</td>\n",
       "      <td>Romantic</td>\n",
       "      <td>92.000000</td>\n",
       "      <td>32.000000</td>\n",
       "    </tr>\n",
       "    <tr>\n",
       "      <th>12</th>\n",
       "      <td>Flemish</td>\n",
       "      <td>Baroque</td>\n",
       "      <td>81.000000</td>\n",
       "      <td>38.400000</td>\n",
       "    </tr>\n",
       "    <tr>\n",
       "      <th>13</th>\n",
       "      <td>Franco-Flemish</td>\n",
       "      <td>Baroque</td>\n",
       "      <td>62.000000</td>\n",
       "      <td>75.000000</td>\n",
       "    </tr>\n",
       "    <tr>\n",
       "      <th>14</th>\n",
       "      <td>French</td>\n",
       "      <td>Baroque</td>\n",
       "      <td>70.800000</td>\n",
       "      <td>36.720000</td>\n",
       "    </tr>\n",
       "    <tr>\n",
       "      <th>15</th>\n",
       "      <td>French</td>\n",
       "      <td>Classical</td>\n",
       "      <td>71.500000</td>\n",
       "      <td>46.200000</td>\n",
       "    </tr>\n",
       "    <tr>\n",
       "      <th>16</th>\n",
       "      <td>French</td>\n",
       "      <td>Modern</td>\n",
       "      <td>84.000000</td>\n",
       "      <td>50.000000</td>\n",
       "    </tr>\n",
       "    <tr>\n",
       "      <th>17</th>\n",
       "      <td>French</td>\n",
       "      <td>Romantic</td>\n",
       "      <td>66.111111</td>\n",
       "      <td>22.533333</td>\n",
       "    </tr>\n",
       "    <tr>\n",
       "      <th>18</th>\n",
       "      <td>German</td>\n",
       "      <td>Baroque</td>\n",
       "      <td>76.250000</td>\n",
       "      <td>61.300000</td>\n",
       "    </tr>\n",
       "    <tr>\n",
       "      <th>19</th>\n",
       "      <td>German</td>\n",
       "      <td>Classical</td>\n",
       "      <td>48.000000</td>\n",
       "      <td>39.700000</td>\n",
       "    </tr>\n",
       "    <tr>\n",
       "      <th>20</th>\n",
       "      <td>German</td>\n",
       "      <td>Romantic</td>\n",
       "      <td>72.333333</td>\n",
       "      <td>30.000000</td>\n",
       "    </tr>\n",
       "    <tr>\n",
       "      <th>21</th>\n",
       "      <td>Hungarian</td>\n",
       "      <td>Classical</td>\n",
       "      <td>75.000000</td>\n",
       "      <td>31.000000</td>\n",
       "    </tr>\n",
       "    <tr>\n",
       "      <th>22</th>\n",
       "      <td>Hungarian</td>\n",
       "      <td>Romantic</td>\n",
       "      <td>64.000000</td>\n",
       "      <td>38.000000</td>\n",
       "    </tr>\n",
       "    <tr>\n",
       "      <th>23</th>\n",
       "      <td>Italian</td>\n",
       "      <td>Baroque</td>\n",
       "      <td>58.625000</td>\n",
       "      <td>50.450000</td>\n",
       "    </tr>\n",
       "    <tr>\n",
       "      <th>24</th>\n",
       "      <td>Italian</td>\n",
       "      <td>Classical</td>\n",
       "      <td>62.250000</td>\n",
       "      <td>38.400000</td>\n",
       "    </tr>\n",
       "    <tr>\n",
       "      <th>25</th>\n",
       "      <td>Italian</td>\n",
       "      <td>Romantic</td>\n",
       "      <td>61.500000</td>\n",
       "      <td>30.200000</td>\n",
       "    </tr>\n",
       "    <tr>\n",
       "      <th>26</th>\n",
       "      <td>Norweigen</td>\n",
       "      <td>Romantic</td>\n",
       "      <td>64.000000</td>\n",
       "      <td>30.000000</td>\n",
       "    </tr>\n",
       "    <tr>\n",
       "      <th>27</th>\n",
       "      <td>Polish</td>\n",
       "      <td>Classical</td>\n",
       "      <td>39.000000</td>\n",
       "      <td>24.000000</td>\n",
       "    </tr>\n",
       "    <tr>\n",
       "      <th>28</th>\n",
       "      <td>Russian</td>\n",
       "      <td>Classical</td>\n",
       "      <td>53.000000</td>\n",
       "      <td>38.400000</td>\n",
       "    </tr>\n",
       "    <tr>\n",
       "      <th>29</th>\n",
       "      <td>Russian</td>\n",
       "      <td>Modern</td>\n",
       "      <td>69.000000</td>\n",
       "      <td>50.000000</td>\n",
       "    </tr>\n",
       "    <tr>\n",
       "      <th>30</th>\n",
       "      <td>Russian</td>\n",
       "      <td>Romantic</td>\n",
       "      <td>60.888889</td>\n",
       "      <td>35.266667</td>\n",
       "    </tr>\n",
       "    <tr>\n",
       "      <th>31</th>\n",
       "      <td>Spanish</td>\n",
       "      <td>Baroque</td>\n",
       "      <td>62.000000</td>\n",
       "      <td>38.400000</td>\n",
       "    </tr>\n",
       "    <tr>\n",
       "      <th>32</th>\n",
       "      <td>Spanish</td>\n",
       "      <td>Romantic</td>\n",
       "      <td>70.000000</td>\n",
       "      <td>23.000000</td>\n",
       "    </tr>\n",
       "  </tbody>\n",
       "</table>\n",
       "</div>"
      ],
      "text/plain": [
       "       Nationality Historical Era  Average Age at Death  Average Piece(mins)\n",
       "0         American         Modern             80.333333            19.333333\n",
       "1         American       Romantic             59.500000            23.500000\n",
       "2         Austrian        Baroque             77.000000            25.000000\n",
       "3         Austrian      Classical             33.000000            48.500000\n",
       "4         Austrian       Romantic             61.285714            37.228571\n",
       "5          Belgian       Romantic             68.000000            40.000000\n",
       "6            Czech       Romantic             65.666667            48.333333\n",
       "7           Danish       Romantic             66.000000            35.000000\n",
       "8          English        Baroque             61.000000            33.160000\n",
       "9          English         Modern             72.000000            47.500000\n",
       "10         English       Romantic             71.000000            31.666667\n",
       "11         Finnish       Romantic             92.000000            32.000000\n",
       "12         Flemish        Baroque             81.000000            38.400000\n",
       "13  Franco-Flemish        Baroque             62.000000            75.000000\n",
       "14          French        Baroque             70.800000            36.720000\n",
       "15          French      Classical             71.500000            46.200000\n",
       "16          French         Modern             84.000000            50.000000\n",
       "17          French       Romantic             66.111111            22.533333\n",
       "18       German           Baroque             76.250000            61.300000\n",
       "19       German         Classical             48.000000            39.700000\n",
       "20       German          Romantic             72.333333            30.000000\n",
       "21       Hungarian      Classical             75.000000            31.000000\n",
       "22       Hungarian       Romantic             64.000000            38.000000\n",
       "23         Italian        Baroque             58.625000            50.450000\n",
       "24         Italian      Classical             62.250000            38.400000\n",
       "25         Italian       Romantic             61.500000            30.200000\n",
       "26       Norweigen       Romantic             64.000000            30.000000\n",
       "27          Polish      Classical             39.000000            24.000000\n",
       "28         Russian      Classical             53.000000            38.400000\n",
       "29         Russian         Modern             69.000000            50.000000\n",
       "30         Russian       Romantic             60.888889            35.266667\n",
       "31         Spanish        Baroque             62.000000            38.400000\n",
       "32         Spanish       Romantic             70.000000            23.000000"
      ]
     },
     "execution_count": 231,
     "metadata": {},
     "output_type": "execute_result"
    }
   ],
   "source": [
    "# Rename columns for average dataframe\n",
    "\n",
    "creative_peak.rename(columns={\n",
    "    'AgeAtDeath': \"Average Age at Death\",\n",
    "    'Duration of Biggest Piece(mins)': 'Average Piece(mins)',\n",
    "    'Era': 'Historical Era'\n",
    "}, inplace=True)\n",
    "creative_peak"
   ]
  },
  {
   "cell_type": "code",
   "execution_count": null,
   "metadata": {},
   "outputs": [
    {
     "data": {
      "text/html": [
       "\n",
       "<style>\n",
       "  #altair-viz-584630c43dc640b8a95741ce9fb45732.vega-embed {\n",
       "    width: 100%;\n",
       "    display: flex;\n",
       "  }\n",
       "\n",
       "  #altair-viz-584630c43dc640b8a95741ce9fb45732.vega-embed details,\n",
       "  #altair-viz-584630c43dc640b8a95741ce9fb45732.vega-embed details summary {\n",
       "    position: relative;\n",
       "  }\n",
       "</style>\n",
       "<div id=\"altair-viz-584630c43dc640b8a95741ce9fb45732\"></div>\n",
       "<script type=\"text/javascript\">\n",
       "  var VEGA_DEBUG = (typeof VEGA_DEBUG == \"undefined\") ? {} : VEGA_DEBUG;\n",
       "  (function(spec, embedOpt){\n",
       "    let outputDiv = document.currentScript.previousElementSibling;\n",
       "    if (outputDiv.id !== \"altair-viz-584630c43dc640b8a95741ce9fb45732\") {\n",
       "      outputDiv = document.getElementById(\"altair-viz-584630c43dc640b8a95741ce9fb45732\");\n",
       "    }\n",
       "    const paths = {\n",
       "      \"vega\": \"https://cdn.jsdelivr.net/npm/vega@5?noext\",\n",
       "      \"vega-lib\": \"https://cdn.jsdelivr.net/npm/vega-lib?noext\",\n",
       "      \"vega-lite\": \"https://cdn.jsdelivr.net/npm/vega-lite@5.16.3?noext\",\n",
       "      \"vega-embed\": \"https://cdn.jsdelivr.net/npm/vega-embed@6?noext\",\n",
       "    };\n",
       "\n",
       "    function maybeLoadScript(lib, version) {\n",
       "      var key = `${lib.replace(\"-\", \"\")}_version`;\n",
       "      return (VEGA_DEBUG[key] == version) ?\n",
       "        Promise.resolve(paths[lib]) :\n",
       "        new Promise(function(resolve, reject) {\n",
       "          var s = document.createElement('script');\n",
       "          document.getElementsByTagName(\"head\")[0].appendChild(s);\n",
       "          s.async = true;\n",
       "          s.onload = () => {\n",
       "            VEGA_DEBUG[key] = version;\n",
       "            return resolve(paths[lib]);\n",
       "          };\n",
       "          s.onerror = () => reject(`Error loading script: ${paths[lib]}`);\n",
       "          s.src = paths[lib];\n",
       "        });\n",
       "    }\n",
       "\n",
       "    function showError(err) {\n",
       "      outputDiv.innerHTML = `<div class=\"error\" style=\"color:red;\">${err}</div>`;\n",
       "      throw err;\n",
       "    }\n",
       "\n",
       "    function displayChart(vegaEmbed) {\n",
       "      vegaEmbed(outputDiv, spec, embedOpt)\n",
       "        .catch(err => showError(`Javascript Error: ${err.message}<br>This usually means there's a typo in your chart specification. See the javascript console for the full traceback.`));\n",
       "    }\n",
       "\n",
       "    if(typeof define === \"function\" && define.amd) {\n",
       "      requirejs.config({paths});\n",
       "      require([\"vega-embed\"], displayChart, err => showError(`Error loading script: ${err.message}`));\n",
       "    } else {\n",
       "      maybeLoadScript(\"vega\", \"5\")\n",
       "        .then(() => maybeLoadScript(\"vega-lite\", \"5.16.3\"))\n",
       "        .then(() => maybeLoadScript(\"vega-embed\", \"6\"))\n",
       "        .catch(showError)\n",
       "        .then(() => displayChart(vegaEmbed));\n",
       "    }\n",
       "  })({\"config\": {\"view\": {\"continuousWidth\": 300, \"continuousHeight\": 300}}, \"data\": {\"name\": \"data-cd4d4be9538f0761a1484d996f9e6fcd\"}, \"facet\": {\"column\": {\"field\": \"Historical Era\", \"type\": \"nominal\"}}, \"spec\": {\"mark\": {\"type\": \"bar\"}, \"encoding\": {\"color\": {\"field\": \"Nationality\", \"type\": \"nominal\"}, \"tooltip\": [{\"field\": \"Nationality\", \"type\": \"nominal\"}, {\"field\": \"Historical Era\", \"type\": \"nominal\"}, {\"field\": \"Average Piece(mins)\", \"type\": \"quantitative\"}, {\"field\": \"Average Age at Death\", \"type\": \"quantitative\"}], \"x\": {\"field\": \"Average Age at Death\", \"type\": \"quantitative\"}, \"y\": {\"field\": \"Average Piece(mins)\", \"type\": \"quantitative\"}}, \"height\": 150, \"width\": 200}, \"$schema\": \"https://vega.github.io/schema/vega-lite/v5.16.3.json\", \"datasets\": {\"data-cd4d4be9538f0761a1484d996f9e6fcd\": [{\"Nationality\": \"American\", \"Historical Era\": \"Modern\", \"Average Age at Death\": 80.33333333333333, \"Average Piece(mins)\": 19.333333333333332}, {\"Nationality\": \"American\", \"Historical Era\": \"Romantic\", \"Average Age at Death\": 59.5, \"Average Piece(mins)\": 23.5}, {\"Nationality\": \"Austrian\", \"Historical Era\": \"Baroque\", \"Average Age at Death\": 77.0, \"Average Piece(mins)\": 25.0}, {\"Nationality\": \"Austrian\", \"Historical Era\": \"Classical\", \"Average Age at Death\": 33.0, \"Average Piece(mins)\": 48.5}, {\"Nationality\": \"Austrian\", \"Historical Era\": \"Romantic\", \"Average Age at Death\": 61.285714285714285, \"Average Piece(mins)\": 37.22857142857142}, {\"Nationality\": \"Belgian\", \"Historical Era\": \"Romantic\", \"Average Age at Death\": 68.0, \"Average Piece(mins)\": 40.0}, {\"Nationality\": \"Czech\", \"Historical Era\": \"Romantic\", \"Average Age at Death\": 65.66666666666667, \"Average Piece(mins)\": 48.333333333333336}, {\"Nationality\": \"Danish\", \"Historical Era\": \"Romantic\", \"Average Age at Death\": 66.0, \"Average Piece(mins)\": 35.0}, {\"Nationality\": \"English\", \"Historical Era\": \"Baroque\", \"Average Age at Death\": 61.0, \"Average Piece(mins)\": 33.160000000000004}, {\"Nationality\": \"English\", \"Historical Era\": \"Modern\", \"Average Age at Death\": 72.0, \"Average Piece(mins)\": 47.5}, {\"Nationality\": \"English\", \"Historical Era\": \"Romantic\", \"Average Age at Death\": 71.0, \"Average Piece(mins)\": 31.666666666666668}, {\"Nationality\": \"Finnish\", \"Historical Era\": \"Romantic\", \"Average Age at Death\": 92.0, \"Average Piece(mins)\": 32.0}, {\"Nationality\": \"Flemish\", \"Historical Era\": \"Baroque\", \"Average Age at Death\": 81.0, \"Average Piece(mins)\": 38.4}, {\"Nationality\": \"Franco-Flemish\", \"Historical Era\": \"Baroque\", \"Average Age at Death\": 62.0, \"Average Piece(mins)\": 75.0}, {\"Nationality\": \"French\", \"Historical Era\": \"Baroque\", \"Average Age at Death\": 70.8, \"Average Piece(mins)\": 36.72}, {\"Nationality\": \"French\", \"Historical Era\": \"Classical\", \"Average Age at Death\": 71.5, \"Average Piece(mins)\": 46.2}, {\"Nationality\": \"French\", \"Historical Era\": \"Modern\", \"Average Age at Death\": 84.0, \"Average Piece(mins)\": 50.0}, {\"Nationality\": \"French\", \"Historical Era\": \"Romantic\", \"Average Age at Death\": 66.11111111111111, \"Average Piece(mins)\": 22.533333333333335}, {\"Nationality\": \"German   \", \"Historical Era\": \"Baroque\", \"Average Age at Death\": 76.25, \"Average Piece(mins)\": 61.3}, {\"Nationality\": \"German   \", \"Historical Era\": \"Classical\", \"Average Age at Death\": 48.0, \"Average Piece(mins)\": 39.699999999999996}, {\"Nationality\": \"German   \", \"Historical Era\": \"Romantic\", \"Average Age at Death\": 72.33333333333333, \"Average Piece(mins)\": 30.0}, {\"Nationality\": \"Hungarian\", \"Historical Era\": \"Classical\", \"Average Age at Death\": 75.0, \"Average Piece(mins)\": 31.0}, {\"Nationality\": \"Hungarian\", \"Historical Era\": \"Romantic\", \"Average Age at Death\": 64.0, \"Average Piece(mins)\": 38.0}, {\"Nationality\": \"Italian\", \"Historical Era\": \"Baroque\", \"Average Age at Death\": 58.625, \"Average Piece(mins)\": 50.45}, {\"Nationality\": \"Italian\", \"Historical Era\": \"Classical\", \"Average Age at Death\": 62.25, \"Average Piece(mins)\": 38.4}, {\"Nationality\": \"Italian\", \"Historical Era\": \"Romantic\", \"Average Age at Death\": 61.5, \"Average Piece(mins)\": 30.2}, {\"Nationality\": \"Norweigen\", \"Historical Era\": \"Romantic\", \"Average Age at Death\": 64.0, \"Average Piece(mins)\": 30.0}, {\"Nationality\": \"Polish\", \"Historical Era\": \"Classical\", \"Average Age at Death\": 39.0, \"Average Piece(mins)\": 24.0}, {\"Nationality\": \"Russian\", \"Historical Era\": \"Classical\", \"Average Age at Death\": 53.0, \"Average Piece(mins)\": 38.4}, {\"Nationality\": \"Russian\", \"Historical Era\": \"Modern\", \"Average Age at Death\": 69.0, \"Average Piece(mins)\": 50.0}, {\"Nationality\": \"Russian\", \"Historical Era\": \"Romantic\", \"Average Age at Death\": 60.888888888888886, \"Average Piece(mins)\": 35.266666666666666}, {\"Nationality\": \"Spanish\", \"Historical Era\": \"Baroque\", \"Average Age at Death\": 62.0, \"Average Piece(mins)\": 38.4}, {\"Nationality\": \"Spanish\", \"Historical Era\": \"Romantic\", \"Average Age at Death\": 70.0, \"Average Piece(mins)\": 23.0}]}}, {\"mode\": \"vega-lite\"});\n",
       "</script>"
      ],
      "text/plain": [
       "alt.FacetChart(...)"
      ]
     },
     "metadata": {},
     "output_type": "display_data"
    }
   ],
   "source": [
    "import altair as alt\n",
    "\n",
    "\n",
    "facet_chart = alt.Chart(creative_peak).mark_bar().encode(\n",
    "    x='Average Age at Death:Q',\n",
    "    y='Average Piece(mins):Q',\n",
    "    color='Nationality:N',\n",
    "    tooltip=['Nationality', 'Historical Era', 'Average Piece(mins)', 'Average Age at Death']\n",
    ").properties(\n",
    "    width=200,\n",
    "    height=150\n",
    ").facet(\n",
    "    column='Historical Era:N'\n",
    ")\n",
    "\n",
    "facet_chart.display() \n"
   ]
  },
  {
   "cell_type": "markdown",
   "metadata": {},
   "source": [
    "These patterns reveal cultural undercurrents across eras. The Romantic era's uniformity hints at strong shared values and an emphasis on innovation, individualism, and emotional expression, leading composers to produce similar works despite diverse backgrounds. The Classical era's consistent music style, appealing to a broad age range, indicates its cross-generational resonance. The Baroque era, with its wide range in music and lifespans, showcases a period rich in experimentation and innovation. Meanwhile, the Modern era's concise compositions and uniform lifespans reflect societal shifts towards efficiency and a collective move towards more direct, impactful expression."
   ]
  },
  {
   "cell_type": "markdown",
   "metadata": {},
   "source": [
    "MACHING LEARNING WITH CLUSTERING"
   ]
  },
  {
   "cell_type": "code",
   "execution_count": null,
   "metadata": {},
   "outputs": [],
   "source": [
    "# use kmeans to cluster the composers into 3 groups based on their age at death and duration of their biggest piece\n",
    "\n",
    "from sklearn.cluster import KMeans\n",
    "import numpy as np\n",
    "from sklearn.preprocessing import StandardScaler\n",
    "from sklearn.pipeline import make_pipeline\n",
    "from sklearn.model_selection import train_test_split\n",
    "\n",
    "# Select the columns to cluster\n",
    "cluster_data = peak_creativity_df[['Born', 'Duration of Biggest Piece(mins)']].copy()\n",
    "\n",
    "# Create a pipeline to scale the data and then cluster it \n",
    "scaler = StandardScaler()\n",
    "kmeans = KMeans(n_clusters=3)\n",
    "\n",
    "\n"
   ]
  },
  {
   "cell_type": "code",
   "execution_count": null,
   "metadata": {},
   "outputs": [],
   "source": [
    "pipeline = make_pipeline(scaler, kmeans)\n",
    "\n",
    "# Fit the pipeline to the data\n",
    "pipeline.fit(cluster_data)\n"
   ]
  },
  {
   "cell_type": "code",
   "execution_count": null,
   "metadata": {},
   "outputs": [
    {
     "data": {
      "text/html": [
       "<div>\n",
       "<style scoped>\n",
       "    .dataframe tbody tr th:only-of-type {\n",
       "        vertical-align: middle;\n",
       "    }\n",
       "\n",
       "    .dataframe tbody tr th {\n",
       "        vertical-align: top;\n",
       "    }\n",
       "\n",
       "    .dataframe thead th {\n",
       "        text-align: right;\n",
       "    }\n",
       "</style>\n",
       "<table border=\"1\" class=\"dataframe\">\n",
       "  <thead>\n",
       "    <tr style=\"text-align: right;\">\n",
       "      <th></th>\n",
       "      <th>Composer</th>\n",
       "      <th>Nationality</th>\n",
       "      <th>Born</th>\n",
       "      <th>Died</th>\n",
       "      <th>Duration of Biggest Piece(mins)</th>\n",
       "      <th>AgeAtDeath</th>\n",
       "      <th>Era</th>\n",
       "      <th>Cluster</th>\n",
       "    </tr>\n",
       "  </thead>\n",
       "  <tbody>\n",
       "    <tr>\n",
       "      <th>1</th>\n",
       "      <td>Ludwig van Beethoven</td>\n",
       "      <td>German</td>\n",
       "      <td>1770.0</td>\n",
       "      <td>1791.0</td>\n",
       "      <td>65.0</td>\n",
       "      <td>21.0</td>\n",
       "      <td>Classical</td>\n",
       "      <td>0</td>\n",
       "    </tr>\n",
       "    <tr>\n",
       "      <th>81</th>\n",
       "      <td>Giovanni Battista Pergolesi</td>\n",
       "      <td>Italian</td>\n",
       "      <td>1710.0</td>\n",
       "      <td>1736.0</td>\n",
       "      <td>40.0</td>\n",
       "      <td>26.0</td>\n",
       "      <td>Baroque</td>\n",
       "      <td>1</td>\n",
       "    </tr>\n",
       "    <tr>\n",
       "      <th>7</th>\n",
       "      <td>Franz Schubert</td>\n",
       "      <td>Austrian</td>\n",
       "      <td>1797.0</td>\n",
       "      <td>1828.0</td>\n",
       "      <td>64.0</td>\n",
       "      <td>31.0</td>\n",
       "      <td>Classical</td>\n",
       "      <td>0</td>\n",
       "    </tr>\n",
       "    <tr>\n",
       "      <th>73</th>\n",
       "      <td>Vincenzo Bellini</td>\n",
       "      <td>Italian</td>\n",
       "      <td>1801.0</td>\n",
       "      <td>1835.0</td>\n",
       "      <td>38.4</td>\n",
       "      <td>34.0</td>\n",
       "      <td>Classical</td>\n",
       "      <td>1</td>\n",
       "    </tr>\n",
       "    <tr>\n",
       "      <th>2</th>\n",
       "      <td>Wolfgang Amadeus Mozart</td>\n",
       "      <td>Austrian</td>\n",
       "      <td>1756.0</td>\n",
       "      <td>1791.0</td>\n",
       "      <td>33.0</td>\n",
       "      <td>35.0</td>\n",
       "      <td>Classical</td>\n",
       "      <td>1</td>\n",
       "    </tr>\n",
       "  </tbody>\n",
       "</table>\n",
       "</div>"
      ],
      "text/plain": [
       "                       Composer Nationality    Born    Died  \\\n",
       "1          Ludwig van Beethoven   German     1770.0  1791.0   \n",
       "81  Giovanni Battista Pergolesi     Italian  1710.0  1736.0   \n",
       "7               Franz Schubert     Austrian  1797.0  1828.0   \n",
       "73            Vincenzo Bellini      Italian  1801.0  1835.0   \n",
       "2      Wolfgang Amadeus Mozart     Austrian  1756.0  1791.0   \n",
       "\n",
       "    Duration of Biggest Piece(mins)  AgeAtDeath        Era  Cluster  \n",
       "1                              65.0        21.0  Classical        0  \n",
       "81                             40.0        26.0    Baroque        1  \n",
       "7                              64.0        31.0  Classical        0  \n",
       "73                             38.4        34.0  Classical        1  \n",
       "2                              33.0        35.0  Classical        1  "
      ]
     },
     "execution_count": 235,
     "metadata": {},
     "output_type": "execute_result"
    }
   ],
   "source": [
    "# Add the cluster labels to the original data\n",
    "cluster_labels = pipeline.predict(cluster_data)\n",
    "peak_creativity_df['Cluster'] = cluster_labels\n",
    "peak_creativity_df.head()\n"
   ]
  },
  {
   "cell_type": "code",
   "execution_count": null,
   "metadata": {},
   "outputs": [
    {
     "data": {
      "text/html": [
       "<div>\n",
       "<style scoped>\n",
       "    .dataframe tbody tr th:only-of-type {\n",
       "        vertical-align: middle;\n",
       "    }\n",
       "\n",
       "    .dataframe tbody tr th {\n",
       "        vertical-align: top;\n",
       "    }\n",
       "\n",
       "    .dataframe thead th {\n",
       "        text-align: right;\n",
       "    }\n",
       "</style>\n",
       "<table border=\"1\" class=\"dataframe\">\n",
       "  <thead>\n",
       "    <tr style=\"text-align: right;\">\n",
       "      <th></th>\n",
       "      <th>Born</th>\n",
       "      <th>Duration of Biggest Piece(mins)</th>\n",
       "    </tr>\n",
       "  </thead>\n",
       "  <tbody>\n",
       "    <tr>\n",
       "      <th>0</th>\n",
       "      <td>1718.300000</td>\n",
       "      <td>90.400000</td>\n",
       "    </tr>\n",
       "    <tr>\n",
       "      <th>1</th>\n",
       "      <td>1831.150685</td>\n",
       "      <td>32.309589</td>\n",
       "    </tr>\n",
       "    <tr>\n",
       "      <th>2</th>\n",
       "      <td>1454.333333</td>\n",
       "      <td>33.426667</td>\n",
       "    </tr>\n",
       "  </tbody>\n",
       "</table>\n",
       "</div>"
      ],
      "text/plain": [
       "          Born  Duration of Biggest Piece(mins)\n",
       "0  1718.300000                        90.400000\n",
       "1  1831.150685                        32.309589\n",
       "2  1454.333333                        33.426667"
      ]
     },
     "execution_count": 236,
     "metadata": {},
     "output_type": "execute_result"
    }
   ],
   "source": [
    "cluster_mean = cluster_data.groupby(cluster_labels)[['Born', 'Duration of Biggest Piece(mins)']].mean()\n",
    "cluster_mean"
   ]
  },
  {
   "cell_type": "code",
   "execution_count": null,
   "metadata": {},
   "outputs": [
    {
     "data": {
      "text/html": [
       "<div>\n",
       "<style scoped>\n",
       "    .dataframe tbody tr th:only-of-type {\n",
       "        vertical-align: middle;\n",
       "    }\n",
       "\n",
       "    .dataframe tbody tr th {\n",
       "        vertical-align: top;\n",
       "    }\n",
       "\n",
       "    .dataframe thead th {\n",
       "        text-align: right;\n",
       "    }\n",
       "</style>\n",
       "<table border=\"1\" class=\"dataframe\">\n",
       "  <thead>\n",
       "    <tr style=\"text-align: right;\">\n",
       "      <th></th>\n",
       "      <th>Born</th>\n",
       "      <th>Duration of Biggest Piece(mins)</th>\n",
       "    </tr>\n",
       "  </thead>\n",
       "  <tbody>\n",
       "    <tr>\n",
       "      <th>0</th>\n",
       "      <td>110.230113</td>\n",
       "      <td>29.010343</td>\n",
       "    </tr>\n",
       "    <tr>\n",
       "      <th>1</th>\n",
       "      <td>66.304992</td>\n",
       "      <td>11.121203</td>\n",
       "    </tr>\n",
       "    <tr>\n",
       "      <th>2</th>\n",
       "      <td>186.557409</td>\n",
       "      <td>11.022799</td>\n",
       "    </tr>\n",
       "  </tbody>\n",
       "</table>\n",
       "</div>"
      ],
      "text/plain": [
       "         Born  Duration of Biggest Piece(mins)\n",
       "0  110.230113                        29.010343\n",
       "1   66.304992                        11.121203\n",
       "2  186.557409                        11.022799"
      ]
     },
     "execution_count": 237,
     "metadata": {},
     "output_type": "execute_result"
    }
   ],
   "source": [
    "cluster_standard_deviation = cluster_data.groupby(cluster_labels)[['Born', 'Duration of Biggest Piece(mins)']].std()\n",
    "cluster_standard_deviation"
   ]
  },
  {
   "cell_type": "code",
   "execution_count": null,
   "metadata": {},
   "outputs": [
    {
     "data": {
      "image/png": "[encoded data removed]",
      "text/plain": [
       "<Figure size 640x480 with 1 Axes>"
      ]
     },
     "metadata": {},
     "output_type": "display_data"
    }
   ],
   "source": [
    "# Visualize the clusters\n",
    "sns.scatterplot(data=peak_creativity_df, x='Born', y='Duration of Biggest Piece(mins)', hue='Cluster', size='Era', sizes=(30,150), style='Era', palette='viridis')\n",
    "plt.title('Clusters with Historical Era Context')\n",
    "plt.show()"
   ]
  },
  {
   "cell_type": "markdown",
   "metadata": {},
   "source": [
    "Clustering with k-means algorithm brought an interesting pattern to life that the rest of the analysis has not touched upon. The Baroque era is the only era that spans across all three clusters. Classical, Romantic, and Modern composers are clumped together with strong standard deviation and mean, indicating not only a clear relationship between the data and our analysis but also a strong correlation between the era, length of the compositions and a homogenity of lifespan for the composers. "
   ]
  },
  {
   "cell_type": "markdown",
   "metadata": {},
   "source": [
    "Why would the Baroque era be evaluated in each cluster? \n",
    "It suggests that the Baroque era, with its rich array of musical styles and forms, acts as a bridge connecting the characteristics of earlier and later periods of classical music."
   ]
  },
  {
   "cell_type": "markdown",
   "metadata": {},
   "source": [
    "FINAL ADVANCED ANALYSIS"
   ]
  },
  {
   "cell_type": "markdown",
   "metadata": {},
   "source": [
    "Influence of Nationality on Career Lenths\n",
    "\n",
    "Do composers from certain countries have longer careers than others?"
   ]
  },
  {
   "cell_type": "code",
   "execution_count": null,
   "metadata": {},
   "outputs": [
    {
     "data": {
      "text/html": [
       "<div>\n",
       "<style scoped>\n",
       "    .dataframe tbody tr th:only-of-type {\n",
       "        vertical-align: middle;\n",
       "    }\n",
       "\n",
       "    .dataframe tbody tr th {\n",
       "        vertical-align: top;\n",
       "    }\n",
       "\n",
       "    .dataframe thead th {\n",
       "        text-align: right;\n",
       "    }\n",
       "</style>\n",
       "<table border=\"1\" class=\"dataframe\">\n",
       "  <thead>\n",
       "    <tr style=\"text-align: right;\">\n",
       "      <th></th>\n",
       "      <th>Composer</th>\n",
       "      <th>Nationality</th>\n",
       "      <th>Born</th>\n",
       "      <th>Died</th>\n",
       "      <th>Duration of Biggest Piece(mins)</th>\n",
       "      <th>Era</th>\n",
       "    </tr>\n",
       "  </thead>\n",
       "  <tbody>\n",
       "    <tr>\n",
       "      <th>1</th>\n",
       "      <td>Ludwig van Beethoven</td>\n",
       "      <td>German</td>\n",
       "      <td>1770.0</td>\n",
       "      <td>1791.0</td>\n",
       "      <td>65.0</td>\n",
       "      <td>Classical</td>\n",
       "    </tr>\n",
       "    <tr>\n",
       "      <th>81</th>\n",
       "      <td>Giovanni Battista Pergolesi</td>\n",
       "      <td>Italian</td>\n",
       "      <td>1710.0</td>\n",
       "      <td>1736.0</td>\n",
       "      <td>40.0</td>\n",
       "      <td>Baroque</td>\n",
       "    </tr>\n",
       "    <tr>\n",
       "      <th>7</th>\n",
       "      <td>Franz Schubert</td>\n",
       "      <td>Austrian</td>\n",
       "      <td>1797.0</td>\n",
       "      <td>1828.0</td>\n",
       "      <td>64.0</td>\n",
       "      <td>Classical</td>\n",
       "    </tr>\n",
       "    <tr>\n",
       "      <th>73</th>\n",
       "      <td>Vincenzo Bellini</td>\n",
       "      <td>Italian</td>\n",
       "      <td>1801.0</td>\n",
       "      <td>1835.0</td>\n",
       "      <td>38.4</td>\n",
       "      <td>Classical</td>\n",
       "    </tr>\n",
       "    <tr>\n",
       "      <th>2</th>\n",
       "      <td>Wolfgang Amadeus Mozart</td>\n",
       "      <td>Austrian</td>\n",
       "      <td>1756.0</td>\n",
       "      <td>1791.0</td>\n",
       "      <td>33.0</td>\n",
       "      <td>Classical</td>\n",
       "    </tr>\n",
       "  </tbody>\n",
       "</table>\n",
       "</div>"
      ],
      "text/plain": [
       "                       Composer Nationality    Born    Died  \\\n",
       "1          Ludwig van Beethoven   German     1770.0  1791.0   \n",
       "81  Giovanni Battista Pergolesi     Italian  1710.0  1736.0   \n",
       "7               Franz Schubert     Austrian  1797.0  1828.0   \n",
       "73            Vincenzo Bellini      Italian  1801.0  1835.0   \n",
       "2      Wolfgang Amadeus Mozart     Austrian  1756.0  1791.0   \n",
       "\n",
       "    Duration of Biggest Piece(mins)        Era  \n",
       "1                              65.0  Classical  \n",
       "81                             40.0    Baroque  \n",
       "7                              64.0  Classical  \n",
       "73                             38.4  Classical  \n",
       "2                              33.0  Classical  "
      ]
     },
     "execution_count": 239,
     "metadata": {},
     "output_type": "execute_result"
    }
   ],
   "source": [
    "# Rerun peak_creativity_df without the cluster column and new name\n",
    "influence = subset_sorted[['Composer', 'Nationality', 'Born', 'Died', 'Duration of Biggest Piece(mins)']].copy()\n",
    "\n",
    "influence_df=pd.DataFrame(influence)\n",
    "influence_df.head()\n",
    "\n",
    "influence_df['Era'] = influence_df.apply(categorize_era, axis=1)\n",
    "influence_df.head()"
   ]
  },
  {
   "cell_type": "code",
   "execution_count": null,
   "metadata": {},
   "outputs": [
    {
     "data": {
      "text/html": [
       "<div>\n",
       "<style scoped>\n",
       "    .dataframe tbody tr th:only-of-type {\n",
       "        vertical-align: middle;\n",
       "    }\n",
       "\n",
       "    .dataframe tbody tr th {\n",
       "        vertical-align: top;\n",
       "    }\n",
       "\n",
       "    .dataframe thead th {\n",
       "        text-align: right;\n",
       "    }\n",
       "</style>\n",
       "<table border=\"1\" class=\"dataframe\">\n",
       "  <thead>\n",
       "    <tr style=\"text-align: right;\">\n",
       "      <th></th>\n",
       "      <th>Composer</th>\n",
       "      <th>Nationality</th>\n",
       "      <th>Born</th>\n",
       "      <th>Died</th>\n",
       "      <th>Duration of Biggest Piece(mins)</th>\n",
       "      <th>Era</th>\n",
       "      <th>CareerLength</th>\n",
       "    </tr>\n",
       "  </thead>\n",
       "  <tbody>\n",
       "    <tr>\n",
       "      <th>1</th>\n",
       "      <td>Ludwig van Beethoven</td>\n",
       "      <td>German</td>\n",
       "      <td>1770.0</td>\n",
       "      <td>1791.0</td>\n",
       "      <td>65.0</td>\n",
       "      <td>Classical</td>\n",
       "      <td>21.0</td>\n",
       "    </tr>\n",
       "    <tr>\n",
       "      <th>81</th>\n",
       "      <td>Giovanni Battista Pergolesi</td>\n",
       "      <td>Italian</td>\n",
       "      <td>1710.0</td>\n",
       "      <td>1736.0</td>\n",
       "      <td>40.0</td>\n",
       "      <td>Baroque</td>\n",
       "      <td>26.0</td>\n",
       "    </tr>\n",
       "    <tr>\n",
       "      <th>7</th>\n",
       "      <td>Franz Schubert</td>\n",
       "      <td>Austrian</td>\n",
       "      <td>1797.0</td>\n",
       "      <td>1828.0</td>\n",
       "      <td>64.0</td>\n",
       "      <td>Classical</td>\n",
       "      <td>31.0</td>\n",
       "    </tr>\n",
       "    <tr>\n",
       "      <th>73</th>\n",
       "      <td>Vincenzo Bellini</td>\n",
       "      <td>Italian</td>\n",
       "      <td>1801.0</td>\n",
       "      <td>1835.0</td>\n",
       "      <td>38.4</td>\n",
       "      <td>Classical</td>\n",
       "      <td>34.0</td>\n",
       "    </tr>\n",
       "    <tr>\n",
       "      <th>2</th>\n",
       "      <td>Wolfgang Amadeus Mozart</td>\n",
       "      <td>Austrian</td>\n",
       "      <td>1756.0</td>\n",
       "      <td>1791.0</td>\n",
       "      <td>33.0</td>\n",
       "      <td>Classical</td>\n",
       "      <td>35.0</td>\n",
       "    </tr>\n",
       "  </tbody>\n",
       "</table>\n",
       "</div>"
      ],
      "text/plain": [
       "                       Composer Nationality    Born    Died  \\\n",
       "1          Ludwig van Beethoven   German     1770.0  1791.0   \n",
       "81  Giovanni Battista Pergolesi     Italian  1710.0  1736.0   \n",
       "7               Franz Schubert     Austrian  1797.0  1828.0   \n",
       "73            Vincenzo Bellini      Italian  1801.0  1835.0   \n",
       "2      Wolfgang Amadeus Mozart     Austrian  1756.0  1791.0   \n",
       "\n",
       "    Duration of Biggest Piece(mins)        Era  CareerLength  \n",
       "1                              65.0  Classical          21.0  \n",
       "81                             40.0    Baroque          26.0  \n",
       "7                              64.0  Classical          31.0  \n",
       "73                             38.4  Classical          34.0  \n",
       "2                              33.0  Classical          35.0  "
      ]
     },
     "execution_count": 240,
     "metadata": {},
     "output_type": "execute_result"
    }
   ],
   "source": [
    "influence_df['CareerLength'] = influence_df['Died'] - influence_df['Born']\n",
    "influence_df.head()"
   ]
  },
  {
   "cell_type": "code",
   "execution_count": null,
   "metadata": {},
   "outputs": [
    {
     "data": {
      "text/html": [
       "<div>\n",
       "<style scoped>\n",
       "    .dataframe tbody tr th:only-of-type {\n",
       "        vertical-align: middle;\n",
       "    }\n",
       "\n",
       "    .dataframe tbody tr th {\n",
       "        vertical-align: top;\n",
       "    }\n",
       "\n",
       "    .dataframe thead th {\n",
       "        text-align: right;\n",
       "    }\n",
       "</style>\n",
       "<table border=\"1\" class=\"dataframe\">\n",
       "  <thead>\n",
       "    <tr style=\"text-align: right;\">\n",
       "      <th></th>\n",
       "      <th>Nationality</th>\n",
       "      <th>mean</th>\n",
       "      <th>median</th>\n",
       "      <th>std</th>\n",
       "      <th>min</th>\n",
       "      <th>max</th>\n",
       "    </tr>\n",
       "  </thead>\n",
       "  <tbody>\n",
       "    <tr>\n",
       "      <th>0</th>\n",
       "      <td>American</td>\n",
       "      <td>72.000000</td>\n",
       "      <td>80.0</td>\n",
       "      <td>19.634154</td>\n",
       "      <td>39.0</td>\n",
       "      <td>90.0</td>\n",
       "    </tr>\n",
       "    <tr>\n",
       "      <th>1</th>\n",
       "      <td>Austrian</td>\n",
       "      <td>57.200000</td>\n",
       "      <td>56.5</td>\n",
       "      <td>17.573971</td>\n",
       "      <td>31.0</td>\n",
       "      <td>77.0</td>\n",
       "    </tr>\n",
       "    <tr>\n",
       "      <th>2</th>\n",
       "      <td>Belgian</td>\n",
       "      <td>68.000000</td>\n",
       "      <td>68.0</td>\n",
       "      <td>NaN</td>\n",
       "      <td>68.0</td>\n",
       "      <td>68.0</td>\n",
       "    </tr>\n",
       "    <tr>\n",
       "      <th>3</th>\n",
       "      <td>Czech</td>\n",
       "      <td>65.666667</td>\n",
       "      <td>63.0</td>\n",
       "      <td>7.371115</td>\n",
       "      <td>60.0</td>\n",
       "      <td>74.0</td>\n",
       "    </tr>\n",
       "    <tr>\n",
       "      <th>4</th>\n",
       "      <td>Danish</td>\n",
       "      <td>66.000000</td>\n",
       "      <td>66.0</td>\n",
       "      <td>NaN</td>\n",
       "      <td>66.0</td>\n",
       "      <td>66.0</td>\n",
       "    </tr>\n",
       "    <tr>\n",
       "      <th>5</th>\n",
       "      <td>English</td>\n",
       "      <td>66.200000</td>\n",
       "      <td>65.0</td>\n",
       "      <td>17.242067</td>\n",
       "      <td>36.0</td>\n",
       "      <td>86.0</td>\n",
       "    </tr>\n",
       "    <tr>\n",
       "      <th>6</th>\n",
       "      <td>Finnish</td>\n",
       "      <td>92.000000</td>\n",
       "      <td>92.0</td>\n",
       "      <td>NaN</td>\n",
       "      <td>92.0</td>\n",
       "      <td>92.0</td>\n",
       "    </tr>\n",
       "    <tr>\n",
       "      <th>7</th>\n",
       "      <td>Flemish</td>\n",
       "      <td>81.000000</td>\n",
       "      <td>81.0</td>\n",
       "      <td>NaN</td>\n",
       "      <td>81.0</td>\n",
       "      <td>81.0</td>\n",
       "    </tr>\n",
       "    <tr>\n",
       "      <th>8</th>\n",
       "      <td>Franco-Flemish</td>\n",
       "      <td>62.000000</td>\n",
       "      <td>62.0</td>\n",
       "      <td>NaN</td>\n",
       "      <td>62.0</td>\n",
       "      <td>62.0</td>\n",
       "    </tr>\n",
       "    <tr>\n",
       "      <th>9</th>\n",
       "      <td>French</td>\n",
       "      <td>69.176471</td>\n",
       "      <td>66.0</td>\n",
       "      <td>12.430986</td>\n",
       "      <td>37.0</td>\n",
       "      <td>86.0</td>\n",
       "    </tr>\n",
       "    <tr>\n",
       "      <th>10</th>\n",
       "      <td>German</td>\n",
       "      <td>65.588235</td>\n",
       "      <td>70.0</td>\n",
       "      <td>18.668352</td>\n",
       "      <td>21.0</td>\n",
       "      <td>87.0</td>\n",
       "    </tr>\n",
       "    <tr>\n",
       "      <th>11</th>\n",
       "      <td>Hungarian</td>\n",
       "      <td>69.500000</td>\n",
       "      <td>69.5</td>\n",
       "      <td>7.778175</td>\n",
       "      <td>64.0</td>\n",
       "      <td>75.0</td>\n",
       "    </tr>\n",
       "    <tr>\n",
       "      <th>12</th>\n",
       "      <td>Italian</td>\n",
       "      <td>60.071429</td>\n",
       "      <td>61.5</td>\n",
       "      <td>16.909098</td>\n",
       "      <td>26.0</td>\n",
       "      <td>88.0</td>\n",
       "    </tr>\n",
       "    <tr>\n",
       "      <th>13</th>\n",
       "      <td>Norweigen</td>\n",
       "      <td>64.000000</td>\n",
       "      <td>64.0</td>\n",
       "      <td>NaN</td>\n",
       "      <td>64.0</td>\n",
       "      <td>64.0</td>\n",
       "    </tr>\n",
       "    <tr>\n",
       "      <th>14</th>\n",
       "      <td>Polish</td>\n",
       "      <td>39.000000</td>\n",
       "      <td>39.0</td>\n",
       "      <td>NaN</td>\n",
       "      <td>39.0</td>\n",
       "      <td>39.0</td>\n",
       "    </tr>\n",
       "    <tr>\n",
       "      <th>15</th>\n",
       "      <td>Russian</td>\n",
       "      <td>60.909091</td>\n",
       "      <td>62.0</td>\n",
       "      <td>13.787346</td>\n",
       "      <td>42.0</td>\n",
       "      <td>89.0</td>\n",
       "    </tr>\n",
       "    <tr>\n",
       "      <th>16</th>\n",
       "      <td>Spanish</td>\n",
       "      <td>66.000000</td>\n",
       "      <td>66.0</td>\n",
       "      <td>5.656854</td>\n",
       "      <td>62.0</td>\n",
       "      <td>70.0</td>\n",
       "    </tr>\n",
       "  </tbody>\n",
       "</table>\n",
       "</div>"
      ],
      "text/plain": [
       "       Nationality       mean  median        std   min   max\n",
       "0         American  72.000000    80.0  19.634154  39.0  90.0\n",
       "1         Austrian  57.200000    56.5  17.573971  31.0  77.0\n",
       "2          Belgian  68.000000    68.0        NaN  68.0  68.0\n",
       "3            Czech  65.666667    63.0   7.371115  60.0  74.0\n",
       "4           Danish  66.000000    66.0        NaN  66.0  66.0\n",
       "5          English  66.200000    65.0  17.242067  36.0  86.0\n",
       "6          Finnish  92.000000    92.0        NaN  92.0  92.0\n",
       "7          Flemish  81.000000    81.0        NaN  81.0  81.0\n",
       "8   Franco-Flemish  62.000000    62.0        NaN  62.0  62.0\n",
       "9           French  69.176471    66.0  12.430986  37.0  86.0\n",
       "10       German     65.588235    70.0  18.668352  21.0  87.0\n",
       "11       Hungarian  69.500000    69.5   7.778175  64.0  75.0\n",
       "12         Italian  60.071429    61.5  16.909098  26.0  88.0\n",
       "13       Norweigen  64.000000    64.0        NaN  64.0  64.0\n",
       "14          Polish  39.000000    39.0        NaN  39.0  39.0\n",
       "15         Russian  60.909091    62.0  13.787346  42.0  89.0\n",
       "16         Spanish  66.000000    66.0   5.656854  62.0  70.0"
      ]
     },
     "execution_count": 241,
     "metadata": {},
     "output_type": "execute_result"
    }
   ],
   "source": [
    "nationality_career_lengths = influence_df.groupby('Nationality')['CareerLength'].agg(['mean', 'median', 'std', 'min', 'max']).reset_index()\n",
    "nationality_career_lengths"
   ]
  },
  {
   "cell_type": "code",
   "execution_count": null,
   "metadata": {},
   "outputs": [
    {
     "name": "stdout",
     "output_type": "stream",
     "text": [
      "       Nationality       mean  median        std   min   max\n",
      "0         American  72.000000    80.0  19.634154  39.0  90.0\n",
      "1         Austrian  57.200000    56.5  17.573971  31.0  77.0\n",
      "2          Belgian  68.000000    68.0        NaN  68.0  68.0\n",
      "3            Czech  65.666667    63.0   7.371115  60.0  74.0\n",
      "4           Danish  66.000000    66.0        NaN  66.0  66.0\n",
      "5          English  66.200000    65.0  17.242067  36.0  86.0\n",
      "6          Finnish  92.000000    92.0        NaN  92.0  92.0\n",
      "7          Flemish  81.000000    81.0        NaN  81.0  81.0\n",
      "8   Franco-Flemish  62.000000    62.0        NaN  62.0  62.0\n",
      "9           French  69.176471    66.0  12.430986  37.0  86.0\n",
      "10       German     65.588235    70.0  18.668352  21.0  87.0\n",
      "11       Hungarian  69.500000    69.5   7.778175  64.0  75.0\n",
      "12         Italian  60.071429    61.5  16.909098  26.0  88.0\n",
      "13       Norweigen  64.000000    64.0        NaN  64.0  64.0\n",
      "14          Polish  39.000000    39.0        NaN  39.0  39.0\n",
      "15         Russian  60.909091    62.0  13.787346  42.0  89.0\n",
      "16         Spanish  66.000000    66.0   5.656854  62.0  70.0\n"
     ]
    }
   ],
   "source": [
    "import pandas as pd\n",
    "\n",
    "df_nationality_career_lengths = pd.DataFrame(nationality_career_lengths)\n",
    "print(df_nationality_career_lengths)\n"
   ]
  },
  {
   "cell_type": "code",
   "execution_count": null,
   "metadata": {},
   "outputs": [
    {
     "data": {
      "text/html": [
       "<div>\n",
       "<style scoped>\n",
       "    .dataframe tbody tr th:only-of-type {\n",
       "        vertical-align: middle;\n",
       "    }\n",
       "\n",
       "    .dataframe tbody tr th {\n",
       "        vertical-align: top;\n",
       "    }\n",
       "\n",
       "    .dataframe thead th {\n",
       "        text-align: right;\n",
       "    }\n",
       "</style>\n",
       "<table border=\"1\" class=\"dataframe\">\n",
       "  <thead>\n",
       "    <tr style=\"text-align: right;\">\n",
       "      <th></th>\n",
       "      <th>Nationality</th>\n",
       "      <th>mean</th>\n",
       "      <th>median</th>\n",
       "      <th>std</th>\n",
       "      <th>min</th>\n",
       "      <th>max</th>\n",
       "    </tr>\n",
       "  </thead>\n",
       "  <tbody>\n",
       "    <tr>\n",
       "      <th>0</th>\n",
       "      <td>American</td>\n",
       "      <td>72.000000</td>\n",
       "      <td>80.0</td>\n",
       "      <td>19.634154</td>\n",
       "      <td>39.0</td>\n",
       "      <td>90.0</td>\n",
       "    </tr>\n",
       "    <tr>\n",
       "      <th>1</th>\n",
       "      <td>Austrian</td>\n",
       "      <td>57.200000</td>\n",
       "      <td>56.5</td>\n",
       "      <td>17.573971</td>\n",
       "      <td>31.0</td>\n",
       "      <td>77.0</td>\n",
       "    </tr>\n",
       "    <tr>\n",
       "      <th>3</th>\n",
       "      <td>Czech</td>\n",
       "      <td>65.666667</td>\n",
       "      <td>63.0</td>\n",
       "      <td>7.371115</td>\n",
       "      <td>60.0</td>\n",
       "      <td>74.0</td>\n",
       "    </tr>\n",
       "    <tr>\n",
       "      <th>5</th>\n",
       "      <td>English</td>\n",
       "      <td>66.200000</td>\n",
       "      <td>65.0</td>\n",
       "      <td>17.242067</td>\n",
       "      <td>36.0</td>\n",
       "      <td>86.0</td>\n",
       "    </tr>\n",
       "    <tr>\n",
       "      <th>9</th>\n",
       "      <td>French</td>\n",
       "      <td>69.176471</td>\n",
       "      <td>66.0</td>\n",
       "      <td>12.430986</td>\n",
       "      <td>37.0</td>\n",
       "      <td>86.0</td>\n",
       "    </tr>\n",
       "    <tr>\n",
       "      <th>10</th>\n",
       "      <td>German</td>\n",
       "      <td>65.588235</td>\n",
       "      <td>70.0</td>\n",
       "      <td>18.668352</td>\n",
       "      <td>21.0</td>\n",
       "      <td>87.0</td>\n",
       "    </tr>\n",
       "    <tr>\n",
       "      <th>11</th>\n",
       "      <td>Hungarian</td>\n",
       "      <td>69.500000</td>\n",
       "      <td>69.5</td>\n",
       "      <td>7.778175</td>\n",
       "      <td>64.0</td>\n",
       "      <td>75.0</td>\n",
       "    </tr>\n",
       "    <tr>\n",
       "      <th>12</th>\n",
       "      <td>Italian</td>\n",
       "      <td>60.071429</td>\n",
       "      <td>61.5</td>\n",
       "      <td>16.909098</td>\n",
       "      <td>26.0</td>\n",
       "      <td>88.0</td>\n",
       "    </tr>\n",
       "    <tr>\n",
       "      <th>15</th>\n",
       "      <td>Russian</td>\n",
       "      <td>60.909091</td>\n",
       "      <td>62.0</td>\n",
       "      <td>13.787346</td>\n",
       "      <td>42.0</td>\n",
       "      <td>89.0</td>\n",
       "    </tr>\n",
       "    <tr>\n",
       "      <th>16</th>\n",
       "      <td>Spanish</td>\n",
       "      <td>66.000000</td>\n",
       "      <td>66.0</td>\n",
       "      <td>5.656854</td>\n",
       "      <td>62.0</td>\n",
       "      <td>70.0</td>\n",
       "    </tr>\n",
       "  </tbody>\n",
       "</table>\n",
       "</div>"
      ],
      "text/plain": [
       "   Nationality       mean  median        std   min   max\n",
       "0     American  72.000000    80.0  19.634154  39.0  90.0\n",
       "1     Austrian  57.200000    56.5  17.573971  31.0  77.0\n",
       "3        Czech  65.666667    63.0   7.371115  60.0  74.0\n",
       "5      English  66.200000    65.0  17.242067  36.0  86.0\n",
       "9       French  69.176471    66.0  12.430986  37.0  86.0\n",
       "10   German     65.588235    70.0  18.668352  21.0  87.0\n",
       "11   Hungarian  69.500000    69.5   7.778175  64.0  75.0\n",
       "12     Italian  60.071429    61.5  16.909098  26.0  88.0\n",
       "15     Russian  60.909091    62.0  13.787346  42.0  89.0\n",
       "16     Spanish  66.000000    66.0   5.656854  62.0  70.0"
      ]
     },
     "execution_count": 243,
     "metadata": {},
     "output_type": "execute_result"
    }
   ],
   "source": [
    "nationality_career_filtered = df_nationality_career_lengths.dropna(subset=['std'])\n",
    "nationality_career_filtered"
   ]
  },
  {
   "cell_type": "code",
   "execution_count": null,
   "metadata": {},
   "outputs": [
    {
     "data": {
      "application/vnd.plotly.v1+json": {
       "config": {
        "plotlyServerURL": "https://plot.ly"
       },
       "data": [
        {
         "error_y": {
          "array": [
           19.634154,
           17.573971,
           7.371115,
           17.242067,
           12.430986,
           18.668352,
           7.778175,
           16.909098,
           13.787346,
           5.656854
          ],
          "color": "black",
          "type": "data",
          "visible": true
         },
         "marker": {
          "color": [
           "#636EFA",
           "#EF553B",
           "#00CC96",
           "#AB63FA",
           "#FFA15A",
           "#19D3F3",
           "#FF6692",
           "#B6E880",
           "#FF97FF",
           "#FECB52"
          ]
         },
         "name": "Mean Career Length",
         "opacity": 0.7,
         "type": "bar",
         "x": [
          "American",
          "Austrian",
          "Czech",
          "English",
          "French",
          "German",
          "Hungarian",
          "Italian",
          "Russian",
          "Spanish"
         ],
         "y": [
          72,
          57.2,
          65.666667,
          66.2,
          69.176471,
          65.588235,
          69.5,
          60.071429,
          60.909091,
          66
         ]
        },
        {
         "marker": {
          "color": [
           "#636EFA",
           "#EF553B",
           "#00CC96",
           "#AB63FA",
           "#FFA15A",
           "#19D3F3",
           "#FF6692",
           "#B6E880",
           "#FF97FF",
           "#FECB52"
          ],
          "size": 10
         },
         "mode": "markers",
         "name": "Median",
         "type": "scatter",
         "x": [
          "American",
          "Austrian",
          "Czech",
          "English",
          "French",
          "German",
          "Hungarian",
          "Italian",
          "Russian",
          "Spanish"
         ],
         "y": [
          80,
          56.5,
          63,
          65,
          66,
          70,
          69.5,
          61.5,
          62,
          66
         ]
        },
        {
         "marker": {
          "color": "rgba(135, 206, 250, 0.8)",
          "size": 10
         },
         "mode": "markers",
         "name": "Min",
         "type": "scatter",
         "x": [
          "American",
          "Austrian",
          "Czech",
          "English",
          "French",
          "German",
          "Hungarian",
          "Italian",
          "Russian",
          "Spanish"
         ],
         "y": [
          39,
          31,
          60,
          36,
          37,
          21,
          64,
          26,
          42,
          62
         ]
        },
        {
         "marker": {
          "color": "rgba(255, 165, 0, 0.8)",
          "size": 10
         },
         "mode": "markers",
         "name": "Max",
         "type": "scatter",
         "x": [
          "American",
          "Austrian",
          "Czech",
          "English",
          "French",
          "German",
          "Hungarian",
          "Italian",
          "Russian",
          "Spanish"
         ],
         "y": [
          90,
          77,
          74,
          86,
          86,
          87,
          75,
          88,
          89,
          70
         ]
        }
       ],
       "layout": {
        "font": {
         "color": "black",
         "family": "Arial, sans-serif"
        },
        "paper_bgcolor": "rgba(0,0,0,0)",
        "plot_bgcolor": "rgba(0,0,0,0)",
        "template": {
         "data": {
          "bar": [
           {
            "error_x": {
             "color": "#2a3f5f"
            },
            "error_y": {
             "color": "#2a3f5f"
            },
            "marker": {
             "line": {
              "color": "white",
              "width": 0.5
             },
             "pattern": {
              "fillmode": "overlay",
              "size": 10,
              "solidity": 0.2
             }
            },
            "type": "bar"
           }
          ],
          "barpolar": [
           {
            "marker": {
             "line": {
              "color": "white",
              "width": 0.5
             },
             "pattern": {
              "fillmode": "overlay",
              "size": 10,
              "solidity": 0.2
             }
            },
            "type": "barpolar"
           }
          ],
          "carpet": [
           {
            "aaxis": {
             "endlinecolor": "#2a3f5f",
             "gridcolor": "#C8D4E3",
             "linecolor": "#C8D4E3",
             "minorgridcolor": "#C8D4E3",
             "startlinecolor": "#2a3f5f"
            },
            "baxis": {
             "endlinecolor": "#2a3f5f",
             "gridcolor": "#C8D4E3",
             "linecolor": "#C8D4E3",
             "minorgridcolor": "#C8D4E3",
             "startlinecolor": "#2a3f5f"
            },
            "type": "carpet"
           }
          ],
          "choropleth": [
           {
            "colorbar": {
             "outlinewidth": 0,
             "ticks": ""
            },
            "type": "choropleth"
           }
          ],
          "contour": [
           {
            "colorbar": {
             "outlinewidth": 0,
             "ticks": ""
            },
            "colorscale": [
             [
              0,
              "#0d0887"
             ],
             [
              0.1111111111111111,
              "#46039f"
             ],
             [
              0.2222222222222222,
              "#7201a8"
             ],
             [
              0.3333333333333333,
              "#9c179e"
             ],
             [
              0.4444444444444444,
              "#bd3786"
             ],
             [
              0.5555555555555556,
              "#d8576b"
             ],
             [
              0.6666666666666666,
              "#ed7953"
             ],
             [
              0.7777777777777778,
              "#fb9f3a"
             ],
             [
              0.8888888888888888,
              "#fdca26"
             ],
             [
              1,
              "#f0f921"
             ]
            ],
            "type": "contour"
           }
          ],
          "contourcarpet": [
           {
            "colorbar": {
             "outlinewidth": 0,
             "ticks": ""
            },
            "type": "contourcarpet"
           }
          ],
          "heatmap": [
           {
            "colorbar": {
             "outlinewidth": 0,
             "ticks": ""
            },
            "colorscale": [
             [
              0,
              "#0d0887"
             ],
             [
              0.1111111111111111,
              "#46039f"
             ],
             [
              0.2222222222222222,
              "#7201a8"
             ],
             [
              0.3333333333333333,
              "#9c179e"
             ],
             [
              0.4444444444444444,
              "#bd3786"
             ],
             [
              0.5555555555555556,
              "#d8576b"
             ],
             [
              0.6666666666666666,
              "#ed7953"
             ],
             [
              0.7777777777777778,
              "#fb9f3a"
             ],
             [
              0.8888888888888888,
              "#fdca26"
             ],
             [
              1,
              "#f0f921"
             ]
            ],
            "type": "heatmap"
           }
          ],
          "heatmapgl": [
           {
            "colorbar": {
             "outlinewidth": 0,
             "ticks": ""
            },
            "colorscale": [
             [
              0,
              "#0d0887"
             ],
             [
              0.1111111111111111,
              "#46039f"
             ],
             [
              0.2222222222222222,
              "#7201a8"
             ],
             [
              0.3333333333333333,
              "#9c179e"
             ],
             [
              0.4444444444444444,
              "#bd3786"
             ],
             [
              0.5555555555555556,
              "#d8576b"
             ],
             [
              0.6666666666666666,
              "#ed7953"
             ],
             [
              0.7777777777777778,
              "#fb9f3a"
             ],
             [
              0.8888888888888888,
              "#fdca26"
             ],
             [
              1,
              "#f0f921"
             ]
            ],
            "type": "heatmapgl"
           }
          ],
          "histogram": [
           {
            "marker": {
             "pattern": {
              "fillmode": "overlay",
              "size": 10,
              "solidity": 0.2
             }
            },
            "type": "histogram"
           }
          ],
          "histogram2d": [
           {
            "colorbar": {
             "outlinewidth": 0,
             "ticks": ""
            },
            "colorscale": [
             [
              0,
              "#0d0887"
             ],
             [
              0.1111111111111111,
              "#46039f"
             ],
             [
              0.2222222222222222,
              "#7201a8"
             ],
             [
              0.3333333333333333,
              "#9c179e"
             ],
             [
              0.4444444444444444,
              "#bd3786"
             ],
             [
              0.5555555555555556,
              "#d8576b"
             ],
             [
              0.6666666666666666,
              "#ed7953"
             ],
             [
              0.7777777777777778,
              "#fb9f3a"
             ],
             [
              0.8888888888888888,
              "#fdca26"
             ],
             [
              1,
              "#f0f921"
             ]
            ],
            "type": "histogram2d"
           }
          ],
          "histogram2dcontour": [
           {
            "colorbar": {
             "outlinewidth": 0,
             "ticks": ""
            },
            "colorscale": [
             [
              0,
              "#0d0887"
             ],
             [
              0.1111111111111111,
              "#46039f"
             ],
             [
              0.2222222222222222,
              "#7201a8"
             ],
             [
              0.3333333333333333,
              "#9c179e"
             ],
             [
              0.4444444444444444,
              "#bd3786"
             ],
             [
              0.5555555555555556,
              "#d8576b"
             ],
             [
              0.6666666666666666,
              "#ed7953"
             ],
             [
              0.7777777777777778,
              "#fb9f3a"
             ],
             [
              0.8888888888888888,
              "#fdca26"
             ],
             [
              1,
              "#f0f921"
             ]
            ],
            "type": "histogram2dcontour"
           }
          ],
          "mesh3d": [
           {
            "colorbar": {
             "outlinewidth": 0,
             "ticks": ""
            },
            "type": "mesh3d"
           }
          ],
          "parcoords": [
           {
            "line": {
             "colorbar": {
              "outlinewidth": 0,
              "ticks": ""
             }
            },
            "type": "parcoords"
           }
          ],
          "pie": [
           {
            "automargin": true,
            "type": "pie"
           }
          ],
          "scatter": [
           {
            "fillpattern": {
             "fillmode": "overlay",
             "size": 10,
             "solidity": 0.2
            },
            "type": "scatter"
           }
          ],
          "scatter3d": [
           {
            "line": {
             "colorbar": {
              "outlinewidth": 0,
              "ticks": ""
             }
            },
            "marker": {
             "colorbar": {
              "outlinewidth": 0,
              "ticks": ""
             }
            },
            "type": "scatter3d"
           }
          ],
          "scattercarpet": [
           {
            "marker": {
             "colorbar": {
              "outlinewidth": 0,
              "ticks": ""
             }
            },
            "type": "scattercarpet"
           }
          ],
          "scattergeo": [
           {
            "marker": {
             "colorbar": {
              "outlinewidth": 0,
              "ticks": ""
             }
            },
            "type": "scattergeo"
           }
          ],
          "scattergl": [
           {
            "marker": {
             "colorbar": {
              "outlinewidth": 0,
              "ticks": ""
             }
            },
            "type": "scattergl"
           }
          ],
          "scattermapbox": [
           {
            "marker": {
             "colorbar": {
              "outlinewidth": 0,
              "ticks": ""
             }
            },
            "type": "scattermapbox"
           }
          ],
          "scatterpolar": [
           {
            "marker": {
             "colorbar": {
              "outlinewidth": 0,
              "ticks": ""
             }
            },
            "type": "scatterpolar"
           }
          ],
          "scatterpolargl": [
           {
            "marker": {
             "colorbar": {
              "outlinewidth": 0,
              "ticks": ""
             }
            },
            "type": "scatterpolargl"
           }
          ],
          "scatterternary": [
           {
            "marker": {
             "colorbar": {
              "outlinewidth": 0,
              "ticks": ""
             }
            },
            "type": "scatterternary"
           }
          ],
          "surface": [
           {
            "colorbar": {
             "outlinewidth": 0,
             "ticks": ""
            },
            "colorscale": [
             [
              0,
              "#0d0887"
             ],
             [
              0.1111111111111111,
              "#46039f"
             ],
             [
              0.2222222222222222,
              "#7201a8"
             ],
             [
              0.3333333333333333,
              "#9c179e"
             ],
             [
              0.4444444444444444,
              "#bd3786"
             ],
             [
              0.5555555555555556,
              "#d8576b"
             ],
             [
              0.6666666666666666,
              "#ed7953"
             ],
             [
              0.7777777777777778,
              "#fb9f3a"
             ],
             [
              0.8888888888888888,
              "#fdca26"
             ],
             [
              1,
              "#f0f921"
             ]
            ],
            "type": "surface"
           }
          ],
          "table": [
           {
            "cells": {
             "fill": {
              "color": "#EBF0F8"
             },
             "line": {
              "color": "white"
             }
            },
            "header": {
             "fill": {
              "color": "#C8D4E3"
             },
             "line": {
              "color": "white"
             }
            },
            "type": "table"
           }
          ]
         },
         "layout": {
          "annotationdefaults": {
           "arrowcolor": "#2a3f5f",
           "arrowhead": 0,
           "arrowwidth": 1
          },
          "autotypenumbers": "strict",
          "coloraxis": {
           "colorbar": {
            "outlinewidth": 0,
            "ticks": ""
           }
          },
          "colorscale": {
           "diverging": [
            [
             0,
             "#8e0152"
            ],
            [
             0.1,
             "#c51b7d"
            ],
            [
             0.2,
             "#de77ae"
            ],
            [
             0.3,
             "#f1b6da"
            ],
            [
             0.4,
             "#fde0ef"
            ],
            [
             0.5,
             "#f7f7f7"
            ],
            [
             0.6,
             "#e6f5d0"
            ],
            [
             0.7,
             "#b8e186"
            ],
            [
             0.8,
             "#7fbc41"
            ],
            [
             0.9,
             "#4d9221"
            ],
            [
             1,
             "#276419"
            ]
           ],
           "sequential": [
            [
             0,
             "#0d0887"
            ],
            [
             0.1111111111111111,
             "#46039f"
            ],
            [
             0.2222222222222222,
             "#7201a8"
            ],
            [
             0.3333333333333333,
             "#9c179e"
            ],
            [
             0.4444444444444444,
             "#bd3786"
            ],
            [
             0.5555555555555556,
             "#d8576b"
            ],
            [
             0.6666666666666666,
             "#ed7953"
            ],
            [
             0.7777777777777778,
             "#fb9f3a"
            ],
            [
             0.8888888888888888,
             "#fdca26"
            ],
            [
             1,
             "#f0f921"
            ]
           ],
           "sequentialminus": [
            [
             0,
             "#0d0887"
            ],
            [
             0.1111111111111111,
             "#46039f"
            ],
            [
             0.2222222222222222,
             "#7201a8"
            ],
            [
             0.3333333333333333,
             "#9c179e"
            ],
            [
             0.4444444444444444,
             "#bd3786"
            ],
            [
             0.5555555555555556,
             "#d8576b"
            ],
            [
             0.6666666666666666,
             "#ed7953"
            ],
            [
             0.7777777777777778,
             "#fb9f3a"
            ],
            [
             0.8888888888888888,
             "#fdca26"
            ],
            [
             1,
             "#f0f921"
            ]
           ]
          },
          "colorway": [
           "#636efa",
           "#EF553B",
           "#00cc96",
           "#ab63fa",
           "#FFA15A",
           "#19d3f3",
           "#FF6692",
           "#B6E880",
           "#FF97FF",
           "#FECB52"
          ],
          "font": {
           "color": "#2a3f5f"
          },
          "geo": {
           "bgcolor": "white",
           "lakecolor": "white",
           "landcolor": "white",
           "showlakes": true,
           "showland": true,
           "subunitcolor": "#C8D4E3"
          },
          "hoverlabel": {
           "align": "left"
          },
          "hovermode": "closest",
          "mapbox": {
           "style": "light"
          },
          "paper_bgcolor": "white",
          "plot_bgcolor": "white",
          "polar": {
           "angularaxis": {
            "gridcolor": "#EBF0F8",
            "linecolor": "#EBF0F8",
            "ticks": ""
           },
           "bgcolor": "white",
           "radialaxis": {
            "gridcolor": "#EBF0F8",
            "linecolor": "#EBF0F8",
            "ticks": ""
           }
          },
          "scene": {
           "xaxis": {
            "backgroundcolor": "white",
            "gridcolor": "#DFE8F3",
            "gridwidth": 2,
            "linecolor": "#EBF0F8",
            "showbackground": true,
            "ticks": "",
            "zerolinecolor": "#EBF0F8"
           },
           "yaxis": {
            "backgroundcolor": "white",
            "gridcolor": "#DFE8F3",
            "gridwidth": 2,
            "linecolor": "#EBF0F8",
            "showbackground": true,
            "ticks": "",
            "zerolinecolor": "#EBF0F8"
           },
           "zaxis": {
            "backgroundcolor": "white",
            "gridcolor": "#DFE8F3",
            "gridwidth": 2,
            "linecolor": "#EBF0F8",
            "showbackground": true,
            "ticks": "",
            "zerolinecolor": "#EBF0F8"
           }
          },
          "shapedefaults": {
           "line": {
            "color": "#2a3f5f"
           }
          },
          "ternary": {
           "aaxis": {
            "gridcolor": "#DFE8F3",
            "linecolor": "#A2B1C6",
            "ticks": ""
           },
           "baxis": {
            "gridcolor": "#DFE8F3",
            "linecolor": "#A2B1C6",
            "ticks": ""
           },
           "bgcolor": "white",
           "caxis": {
            "gridcolor": "#DFE8F3",
            "linecolor": "#A2B1C6",
            "ticks": ""
           }
          },
          "title": {
           "x": 0.05
          },
          "xaxis": {
           "automargin": true,
           "gridcolor": "#EBF0F8",
           "linecolor": "#EBF0F8",
           "ticks": "",
           "title": {
            "standoff": 15
           },
           "zerolinecolor": "#EBF0F8",
           "zerolinewidth": 2
          },
          "yaxis": {
           "automargin": true,
           "gridcolor": "#EBF0F8",
           "linecolor": "#EBF0F8",
           "ticks": "",
           "title": {
            "standoff": 15
           },
           "zerolinecolor": "#EBF0F8",
           "zerolinewidth": 2
          }
         }
        },
        "title": {
         "font": {
          "size": 24
         },
         "text": "Career Length Statistics by Nationality"
        },
        "xaxis": {
         "tickangle": 45,
         "title": {
          "standoff": 25,
          "text": "Nationality"
         }
        },
        "yaxis": {
         "title": {
          "text": "Career Length (years)"
         }
        }
       }
      }
     },
     "metadata": {},
     "output_type": "display_data"
    }
   ],
   "source": [
    "import plotly.graph_objects as go\n",
    "import plotly.express as px\n",
    "import pandas as pd\n",
    "\n",
    "\n",
    "# Assuming `df` is your DataFrame\n",
    "data = {\n",
    "    'Nationality': ['American', 'Austrian', 'Czech', 'English', 'French', 'German', 'Hungarian', 'Italian', 'Russian', 'Spanish'],\n",
    "    'mean': [72.0, 57.2, 65.666667, 66.2, 69.176471, 65.588235, 69.5, 60.071429, 60.909091, 66.0],\n",
    "    'std': [19.634154, 17.573971, 7.371115, 17.242067, 12.430986, 18.668352, 7.778175, 16.909098, 13.787346, 5.656854],\n",
    "    'median': [80.0, 56.5, 63.0, 65.0, 66.0, 70.0, 69.5, 61.5, 62.0, 66.0],\n",
    "    'min': [39.0, 31.0, 60.0, 36.0, 37.0, 21.0, 64.0, 26.0, 42.0, 62.0],\n",
    "    'max': [90.0, 77.0, 74.0, 86.0, 86.0, 87.0, 75.0, 88.0, 89.0, 70.0]\n",
    "}\n",
    "df = pd.DataFrame(data)\n",
    "\n",
    "colors = px.colors.qualitative.Plotly \n",
    "\n",
    "colors += px.colors.qualitative.Alphabet \n",
    "\n",
    "color_map = {nat: colors[i] for i, nat in enumerate(df['Nationality'])}\n",
    "\n",
    "# Create a figure to contain the plot\n",
    "fig = go.Figure()\n",
    "\n",
    "# Add a bar plot for the mean values\n",
    "fig.add_trace(go.Bar(\n",
    "    x=df['Nationality'], \n",
    "    y=df['mean'], \n",
    "    name='Mean Career Length',\n",
    "    marker_color=[color_map[nat] for nat in df['Nationality']],\n",
    "    error_y=dict(\n",
    "        type='data',\n",
    "        array=df['std'],\n",
    "        visible=True,\n",
    "        color='black'),\n",
    "    opacity=0.7\n",
    "))\n",
    "\n",
    "# Optionally, add scatter plots for median, min, and max values\n",
    "fig.add_trace(go.Scatter(\n",
    "    x=df['Nationality'], \n",
    "    y=df['median'], \n",
    "    mode='markers', \n",
    "    name='Median',\n",
    "    marker=dict(color=[color_map[nat] for nat in df['Nationality']], size=10)\n",
    "    ))\n",
    "\n",
    "fig.add_trace(go.Scatter(\n",
    "    x=df['Nationality'], \n",
    "    y=df['min'], \n",
    "    mode='markers', \n",
    "    name='Min',\n",
    "    marker=dict(color='rgba(135, 206, 250, 0.8)', size=10),\n",
    "    ))\n",
    "\n",
    "fig.add_trace(go.Scatter(\n",
    "    x=df['Nationality'], \n",
    "    y=df['max'], \n",
    "    mode='markers', \n",
    "    name='Max',\n",
    "    marker=dict(color='rgba(255, 165, 0, 0.8)', size=10)))\n",
    "\n",
    "# Update layout for a cleaner look\n",
    "fig.update_layout(\n",
    "    title='Career Length Statistics by Nationality',\n",
    "    xaxis_title='Nationality',\n",
    "    yaxis_title='Career Length (years)',\n",
    "    template='plotly_white')\n",
    "\n",
    "fig.update_layout({\n",
    "    'plot_bgcolor': 'rgba(0,0,0,0)',  # Transparent background\n",
    "    'paper_bgcolor': 'rgba(0,0,0,0)',  # Transparent surrounding\n",
    "    'title_font': {'size': 24},\n",
    "    'font_family': \"Arial, sans-serif\",  # Font similar to Seaborn's default\n",
    "    'font_color': \"black\",\n",
    "    'xaxis_title': \"Nationality\",\n",
    "    'yaxis_title': \"Career Length (years)\",\n",
    "    'xaxis': {'tickangle': 45, 'title_standoff': 25},\n",
    "})\n",
    "\n",
    "fig.show()\n"
   ]
  },
  {
   "cell_type": "markdown",
   "metadata": {},
   "source": [
    "The standard devition for the career lengths among the composers of different nationalities has minimal variance for many, but not all. 40% of the data exhibits nationalites with diverse career lengths. However, the uniformity of 60% of the data gives us several insights. The small variation in the career lengths as indicated by the 'std' values suggests a consistency in the condtions that may have influenced the composers career length regardless of their nationality. In other words, there may be universal factors that influnced a chosen career as a composer, that is beyond cultural or geographical differences. \n",
    "\n",
    "The uniformity of career lengths might indicate that facts such as historical events, economic conditions, education, and resources, as well as the classical music community may have standarized the external effects on a composer's career. This could also suggest that this trend is reflected in the cultural and systemic support for composers in various countries, which suggests that classical music tradtion has a robust system in place worldwide and nurtures and sustains composer's careers. "
   ]
  }
 ],
 "metadata": {
  "kernelspec": {
   "display_name": "base",
   "language": "python",
   "name": "python3"
  },
  "language_info": {
   "codemirror_mode": {
    "name": "ipython",
    "version": 3
   },
   "file_extension": ".py",
   "mimetype": "text/x-python",
   "name": "python",
   "nbconvert_exporter": "python",
   "pygments_lexer": "ipython3",
   "version": "3.11.5"
  }
 },
 "nbformat": 4,
 "nbformat_minor": 2
}
